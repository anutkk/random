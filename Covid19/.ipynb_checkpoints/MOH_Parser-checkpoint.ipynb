{
 "cells": [
  {
   "cell_type": "markdown",
   "metadata": {
    "id": "ZEvKvgHCCwxW"
   },
   "source": [
    "# Ministry of Health PDF parser\n",
    "\n",
    "A simple script to gather PDF files from MOH and parse them into pandas DataFrame.\n",
    "\n",
    "פרסור דו\"חות תחלואה לפי ערים של משרד הבריאות"
   ]
  },
  {
   "cell_type": "markdown",
   "metadata": {
    "id": "PQ3dHcJDDCe0"
   },
   "source": [
    "## Imports and setup"
   ]
  },
  {
   "cell_type": "code",
   "execution_count": 1,
   "metadata": {
    "colab": {
     "base_uri": "https://localhost:8080/",
     "height": 238
    },
    "colab_type": "code",
    "id": "Ty8qz27pCNYE",
    "outputId": "a21a7141-56bf-4202-eb2e-0feb38a4220a"
   },
   "outputs": [],
   "source": [
    "from __future__ import print_function\n",
    "\n",
    "import pandas as pd\n",
    "import tabula\n",
    "import os\n",
    "import numpy as np\n",
    "from pathlib import Path\n",
    "\n",
    "from ipywidgets import interact, interactive, fixed, interact_manual\n",
    "from IPython.core.display import display, HTML\n",
    "import matplotlib.pyplot as plt\n",
    "import plotly.express as px\n",
    "import folium\n",
    "import plotly.graph_objects as go\n",
    "import seaborn as sns\n",
    "import ipywidgets as widgets\n",
    "from pyproj import CRS, Transformer\n",
    "# %pwd"
   ]
  },
  {
   "cell_type": "markdown",
   "metadata": {
    "colab_type": "text",
    "id": "0bCnuHweDMSk"
   },
   "source": [
    "Base URLS:"
   ]
  },
  {
   "cell_type": "code",
   "execution_count": 2,
   "metadata": {
    "id": "y0aqmxakDNqT"
   },
   "outputs": [],
   "source": [
    "report_dir = \"./MOHReports_raw\""
   ]
  },
  {
   "cell_type": "markdown",
   "metadata": {
    "id": "F9MAISeHDHp0"
   },
   "source": [
    "## Individual PDF file parser function"
   ]
  },
  {
   "cell_type": "code",
   "execution_count": 11,
   "metadata": {
    "id": "QJbxy9YUDLpK"
   },
   "outputs": [],
   "source": [
    "def parse_pdf_report(report_url):\n",
    "    #Get data\n",
    "    raw_tables = tabula.read_pdf(report_url, pages=\"all\", stream=False, silent=True, lattice=True)\n",
    "    #Merge to one dataframe\n",
    "    cols =  [\"Rate per 100000\", \"Isolations\", \"Cured\", \"Confirmed\", \"Tested\", \"2018 Population\", \"City\"]\n",
    "    new_cols = {x: y for x, y in zip(raw_tables.columns, cols)}\n",
    "    data = raw_tables.rename(columns = new_cols)\n",
    "    idx = data[\"City\"].fillna(\" \").str.contains(\"בני ברק\").idxmax()\n",
    "    data = data.iloc[idx:-2]\n",
    "    data = data.reset_index(drop=True)\n",
    "    #Deal with nans\n",
    "    data.dropna(axis=0, how='all', inplace=True)\n",
    "    inds = pd.isnull(data).any(1).to_numpy().nonzero()[0]\n",
    " \n",
    "    for ind in inds:\n",
    "        if data['City'][ind] is not np.nan and data['City'][ind+1] is not np.nan: #part of name is here, data is on next row\n",
    "            new_name = data['City'][ind] + \" \" + data['City'][ind+1]\n",
    "            data.at[ind+1, 'City'] = new_name\n",
    "            data.loc[ind, :] = np.nan\n",
    "        elif data['2018 Population'][ind-1] is np.nan and data['2018 Population'][ind+1] is np.nan: #merge three lines\n",
    "            new_name = data['City'][ind-1] + \" \" + data['City'][ind+1]\n",
    "            data.at[ind, 'City'] = new_name\n",
    "            data.loc[[ind-1,ind+1], :] = np.nan\n",
    "    #TODO: make more robust\n",
    "    data.dropna(axis=0, how='all', inplace=True)\n",
    "\n",
    "    #Remove carriage returns in city names\n",
    "    data['City'] = data['City'].str.replace('\\\\r', ' ',).replace('\\s+', ' ', regex=True)\n",
    "#     data['City'] = data['City']\n",
    "\n",
    "    #Convert relevant columns to numbers\n",
    "    numeric_cols = data.columns.drop('City')\n",
    "    data_numeric = data.copy()\n",
    "    data_numeric[numeric_cols] = data[numeric_cols].apply(lambda x: x.astype(str).str.replace(',', ''))\n",
    "    data_numeric[numeric_cols] = data_numeric[numeric_cols].apply(pd.to_numeric, errors='ignore')\n",
    "    return data_numeric"
   ]
  },
  {
   "cell_type": "markdown",
   "metadata": {},
   "source": [
    "Should we export to excel?"
   ]
  },
  {
   "cell_type": "code",
   "execution_count": 4,
   "metadata": {},
   "outputs": [
    {
     "data": {
      "application/vnd.jupyter.widget-view+json": {
       "model_id": "eb3fc41b1527478aa64f17179a83de37",
       "version_major": 2,
       "version_minor": 0
      },
      "text/plain": [
       "interactive(children=(Checkbox(value=False, description='export_to_excel'), Output()), _dom_classes=('widget-i…"
      ]
     },
     "metadata": {},
     "output_type": "display_data"
    }
   ],
   "source": [
    "export_to_excel_glob = False\n",
    "def f(export_to_excel):\n",
    "    global export_to_excel_glob\n",
    "    export_to_excel_glob = export_to_excel\n",
    "#     return x\n",
    "interact(f, export_to_excel=False);"
   ]
  },
  {
   "cell_type": "markdown",
   "metadata": {
    "id": "fatvRzoct_hM"
   },
   "source": [
    "Gather files and parse:"
   ]
  },
  {
   "cell_type": "code",
   "execution_count": 12,
   "metadata": {
    "colab": {
     "base_uri": "https://localhost:8080/",
     "height": 1000
    },
    "colab_type": "code",
    "id": "aeGtk62BuRqp",
    "outputId": "a47ee6d0-a530-41e7-812d-a630d1186524"
   },
   "outputs": [
    {
     "name": "stdout",
     "output_type": "stream",
     "text": [
      "Exporting to Excel\n",
      "2020-04-12\n",
      "2020-04-13\n",
      "2020-04-14\n",
      "2020-04-16\n"
     ]
    }
   ],
   "source": [
    "from datetime import datetime\n",
    "\n",
    "path = Path.cwd() / Path(report_dir)\n",
    "gfiles = path.glob('*.pdf')\n",
    "confirmed_cases = pd.DataFrame(columns = [\"City\"])\n",
    "if export_to_excel_glob:\n",
    "    with pd.ExcelWriter('data_parsed.xlsx') as writer: \n",
    "        print('Exporting to Excel')\n",
    "        for file in gfiles:\n",
    "            url = str(file)\n",
    "            parsed_data = parse_pdf_report(url)\n",
    "            #Export to excel file\n",
    "            result_fn = file.stem\n",
    "            date = datetime.strptime(result_fn, '%Y%m%d').strftime('%Y-%m-%d')\n",
    "            print(date)\n",
    "            tmp = parsed_data.loc[:, [\"City\", \"Confirmed\"]].rename(columns={\"Confirmed\" : date})\n",
    "            confirmed_cases = confirmed_cases.merge(tmp, on=\"City\", how=\"outer\")\n",
    "            parsed_data.to_excel(writer, sheet_name=result_fn)\n",
    "else:\n",
    "    for file in gfiles:\n",
    "        url = str(file)\n",
    "        parsed_data = parse_pdf_report(url)\n",
    "        #Export to excel file\n",
    "        result_fn = file.stem\n",
    "        date = datetime.strptime(result_fn, '%Y%m%d').strftime('%Y-%m-%d')\n",
    "        tmp = parsed_data.loc[:, [\"City\", \"Confirmed\"]].rename(columns={\"Confirmed\" : date})\n",
    "        confirmed_cases = confirmed_cases.merge(tmp, on=\"City\", how=\"outer\")\n",
    "        #TODO: gather other fields in dataframes"
   ]
  },
  {
   "cell_type": "markdown",
   "metadata": {},
   "source": [
    "Display interactive list:"
   ]
  },
  {
   "cell_type": "code",
   "execution_count": 40,
   "metadata": {},
   "outputs": [
    {
     "data": {
      "application/vnd.jupyter.widget-view+json": {
       "model_id": "08f2749b6cd244968107632cfe9ba5be",
       "version_major": 2,
       "version_minor": 0
      },
      "text/plain": [
       "interactive(children=(Text(value='', description='city'), Output()), _dom_classes=('widget-interact',))"
      ]
     },
     "metadata": {},
     "output_type": "display_data"
    }
   ],
   "source": [
    "def show_cases_by_city(city):\n",
    "    return confirmed_cases[confirmed_cases[\"City\"].str.contains(city)]\n",
    "\n",
    "interact(show_cases_by_city, city='')\n",
    "plt.show()"
   ]
  },
  {
   "cell_type": "code",
   "execution_count": 46,
   "metadata": {},
   "outputs": [
    {
     "ename": "AttributeError",
     "evalue": "'str' object has no attribute 'to_string'",
     "output_type": "error",
     "traceback": [
      "\u001b[1;31m---------------------------------------------------------------------------\u001b[0m",
      "\u001b[1;31mAttributeError\u001b[0m                            Traceback (most recent call last)",
      "\u001b[1;32m<ipython-input-46-89e15d499701>\u001b[0m in \u001b[0;36m<module>\u001b[1;34m\u001b[0m\n\u001b[0;32m     13\u001b[0m \u001b[1;31m#     df = pd.DataFrame(data)\u001b[0m\u001b[1;33m\u001b[0m\u001b[1;33m\u001b[0m\u001b[1;33m\u001b[0m\u001b[0m\n\u001b[0;32m     14\u001b[0m \u001b[1;31m#     print(row['City'])\u001b[0m\u001b[1;33m\u001b[0m\u001b[1;33m\u001b[0m\u001b[1;33m\u001b[0m\u001b[0m\n\u001b[1;32m---> 15\u001b[1;33m     \u001b[0mprint\u001b[0m\u001b[1;33m(\u001b[0m\u001b[0mtype\u001b[0m\u001b[1;33m(\u001b[0m\u001b[0mrow\u001b[0m\u001b[1;33m[\u001b[0m\u001b[1;34m'City'\u001b[0m\u001b[1;33m]\u001b[0m\u001b[1;33m.\u001b[0m\u001b[0mto_string\u001b[0m\u001b[1;33m(\u001b[0m\u001b[1;33m)\u001b[0m\u001b[1;33m)\u001b[0m\u001b[1;33m)\u001b[0m\u001b[1;33m\u001b[0m\u001b[1;33m\u001b[0m\u001b[0m\n\u001b[0m\u001b[0;32m     16\u001b[0m \u001b[1;33m\u001b[0m\u001b[0m\n",
      "\u001b[1;31mAttributeError\u001b[0m: 'str' object has no attribute 'to_string'"
     ]
    }
   ],
   "source": [
    "# parsed_data = parse_pdf_report(\"./MOHReports_raw/20200416.pdf\")\n",
    "# def show_cases_by_city(city):\n",
    "#     return parsed_data[parsed_data[\"City\"].str.contains(city)]\n",
    "\n",
    "# interact(show_cases_by_city, city='')\n",
    "# plt.show()\n",
    "# print(confirmed_cases.at[111, \"City\"])\n",
    "# print(confirmed_cases.at[196, \"City\"])\n",
    "# dates_str = confirmed_cases.columns.to_list()\n",
    "# dates_str.remove('City')\n",
    "# x = [datetime.strptime(s, '%Y-%m-%d') for s in dates_str]\n",
    "for _,row in confirmed_cases.head(10).iterrows():\n",
    "#     df = pd.DataFrame(data)\n",
    "#     print(row['City'])\n",
    "    print(type(row['City']))\n",
    "    "
   ]
  },
  {
   "cell_type": "markdown",
   "metadata": {
    "id": "QoRgQzqMxtFT"
   },
   "source": [
    "Display interactively:"
   ]
  },
  {
   "cell_type": "code",
   "execution_count": null,
   "metadata": {
    "colab": {
     "base_uri": "https://localhost:8080/",
     "height": 49,
     "referenced_widgets": [
      "6a3ad954440a4ad7ba4c2ba350d9617a",
      "4623b62446d14eaaa40b94a45cb552d4",
      "34eef80e1d4042d6a721c083763d6e36",
      "a0d1db1b15624ab9bcdc0ef487590f84",
      "8f59a3c72c45467a96812024a696c4fe",
      "429ccffcdbf941e4aadb443b277377bd",
      "5b521e77f25f41f09c07f170238b4182"
     ]
    },
    "colab_type": "code",
    "id": "-2d6-63Txu0C",
    "outputId": "92a22ed7-0def-4ef8-b905-e35cd5ff47b6"
   },
   "outputs": [],
   "source": [
    "from bokeh.palettes import Spectral4\n",
    "from bokeh.plotting import figure, output_file, show\n",
    "from bokeh.sampledata.stocks import AAPL, GOOG, IBM, MSFT\n",
    "\n",
    "p = figure(plot_width=800, plot_height=250, x_axis_type=\"datetime\")\n",
    "p.title.text = 'Click on legend entries to hide the corresponding lines'\n",
    "dates_str = confirmed_cases.columns.to_list()\n",
    "dates_str.remove('City')\n",
    "x = [datetime.strptime(s, '%Y-%m-%d') for s in dates_str]\n",
    "\n",
    "for _,row in confirmed_cases.head(10).iterrows():\n",
    "#     df = pd.DataFrame(data)\n",
    "    city_name = row['City']\n",
    "    y = row.drop(labels=['City']).to_list()\n",
    "    p.line(x, y, line_width=2, color=color, alpha=0.8, legend_label=name)\n",
    "\n",
    "p.legend.location = \"top_left\"\n",
    "p.legend.click_policy=\"hide\"\n",
    "\n",
    "output_file(\"interactive_legend.html\", title=\"interactive_legend.py example\")\n",
    "\n",
    "show(p)\n",
    "\n",
    "\n",
    "# def bubble_chart(n):\n",
    "#     fig = px.scatter(parsed_data.head(n), x=\"City\", y=\"Rate per 100000\", size=\"Rate per 100000\", color=\"City\",\n",
    "#                hover_name=\"City\", size_max=60)\n",
    "#     fig.update_layout(\n",
    "#       title=str(n) +\" ערים הנפגעות ביותר\",\n",
    "#       xaxis_title=\"ערים\",\n",
    "#       yaxis_title=\"שיעור ל100,000\",\n",
    "#       width = 700\n",
    "#     )\n",
    "#     fig.show();\n",
    "\n",
    "# interact(bubble_chart, n=10)\n",
    "# plt.show()\n",
    "\n",
    "# ipywLayout = widgets.Layout(border='solid 2px green')\n",
    "# ipywLayout.display='none'\n",
    "# widgets.VBox([fig], layout=ipywLayout)"
   ]
  },
  {
   "cell_type": "markdown",
   "metadata": {},
   "source": [
    "Geolocate cities:"
   ]
  },
  {
   "cell_type": "code",
   "execution_count": null,
   "metadata": {},
   "outputs": [],
   "source": [
    "itm_crs = CRS.from_proj4(\"+proj=tmerc +lat_0=31.7343936111111 +lon_0=35.2045169444445 +k=1.0000067 +x_0=219529.584 +y_0=626907.39 +ellps=GRS80 +towgs84=-24.002400,-17.103200,-17.844400,-0.33077,-1.852690,1.669690,5.424800 +units=m +no_defs\")\n",
    "wgs84_crs = CRS.from_epsg(4326)\n",
    "transformer = Transformer.from_crs(itm_crs, wgs84_crs)\n",
    "\n",
    "cities_df = pd.read_excel(\"bycode2018.xlsx\", usecols = [\"שם יישוב\", \"קואורדינטות\", 'תעתיק'])\n",
    "cities_df.dropna(axis=0, how='any', inplace=True)\n",
    "cities_df.loc[:, \"קואורדינטות\"] = cities_df.loc[:, \"קואורדינטות\"].round(0).astype(np.int64).astype(str)\n",
    "cities_df['x'] = cities_df.loc[:, \"קואורדינטות\"].str[0:5].astype(int)\n",
    "cities_df['y'] = cities_df.loc[:, \"קואורדינטות\"].str[5:].astype(int)\n",
    "lats, lons = transformer.transform(cities_df['x'].to_numpy()*10, cities_df['y'].to_numpy()*10)\n",
    "cities_df['lat'] = lats\n",
    "cities_df['lon'] = lons\n",
    "cities_df = cities_df[['שם יישוב', 'lat', 'lon', 'תעתיק']]\n",
    "cities_df.rename(columns = {\"שם יישוב\":\"City\", \"תעתיק\":\"CityEng\"} ,inplace=True)\n",
    "cities_df.head(5)"
   ]
  },
  {
   "cell_type": "markdown",
   "metadata": {},
   "source": [
    "Merge:"
   ]
  },
  {
   "cell_type": "code",
   "execution_count": null,
   "metadata": {},
   "outputs": [],
   "source": [
    "# print(confirmed_cases.index)\n",
    "confirmed_df = confirmed_cases.copy()\n",
    "confirmed_df = confirmed_df.merge(cities_df, how='left', on=\"City\")\n",
    "confirmed_df.dropna(axis=0, how='any', inplace=True)\n",
    "confirmed_df = confirmed_df.reset_index(drop=True) #TODO: correct and search\n",
    "# confirmed_df.head(20)\n",
    "# print(confirmed_df.loc[confirmed_df.City.str.contains(\"בני ברק\"),:])\n",
    "#print(str(confirmed_df.iloc[10,1]))\n",
    "# confirmed_df.head(20)\n"
   ]
  },
  {
   "cell_type": "code",
   "execution_count": null,
   "metadata": {},
   "outputs": [],
   "source": [
    "world_map = folium.Map(location=[31.4,35], tiles=\"cartodbpositron\", zoom_start=8, max_zoom = 15, min_zoom = 8)\n",
    "\n",
    "for i in range(0,len(confirmed_df)):\n",
    "    folium.Circle(\n",
    "        location=[confirmed_df.at[i,'lat'], confirmed_df.at[i,'lon']],\n",
    "        fill=True,\n",
    "#         radius=(int((np.log(500*confirmed_df.iloc[i,-1]+1.00001)))+0.2),\n",
    "         radius=int(confirmed_df.iloc[i,1]),\n",
    "        color='red',\n",
    "        fill_color='indigo',\n",
    "        tooltip = \"<meta http-equiv='content-type' content='text/html; charset=UTF-8' /><div style='margin: 0; background-color: black; color: white;'>\"+\n",
    "                    \"<h5 style='text-align:center;font-weight: bold'>\"+str(confirmed_df.at[i,'CityEng']) + \"</h4>\"\n",
    "                    \"<hr style='margin:10px;color: white;'>\"+\n",
    "                    \"<ul style='color: white;;list-style-type:circle;align-item:left;padding-left:20px;padding-right:20px'>\"+\n",
    "                        \"<li>Confirmed: \"+str(confirmed_df.at[i,\"2020-04-16\"])+\"</li>\"+\n",
    "                        \"</ul></div>\",\n",
    "        ).add_to(world_map)\n",
    "\n",
    "world_map"
   ]
  },
  {
   "cell_type": "markdown",
   "metadata": {},
   "source": [
    "With time evolution!\n"
   ]
  },
  {
   "cell_type": "code",
   "execution_count": null,
   "metadata": {},
   "outputs": [],
   "source": [
    "import vincent\n",
    "import json\n",
    "# from bokeh.plotting import figure, output_file, show\n",
    "from bokeh.plotting import figure\n",
    "from bokeh.resources import CDN\n",
    "from bokeh.embed import file_html\n",
    "\n",
    "# plot = figure()\n",
    "# plot.circle([1,2], [3,4])\n",
    "\n",
    "# html = file_html(plot, CDN, \"my plot\")\n",
    "\n",
    "\n",
    "# scatter_json = line.to_json()\n",
    "\n",
    "# # Let's convert it to dict.\n",
    "# scatter_dict = json.loads(scatter_json)\n",
    "\n",
    "world_map = folium.Map(location=[31.4,35], tiles=\"cartodbpositron\", zoom_start=8, max_zoom = 15, min_zoom = 8)\n",
    "\n",
    "for i in range(0,len(confirmed_df)):\n",
    "    values = confirmed_df.loc[i, [\"2020-04-12\",\"2020-04-13\",\"2020-04-14\", \"2020-04-16\"]].to_list()\n",
    "    print(values)\n",
    "    scatter_chart = vincent.Line()\n",
    "    scatter_chart.width = 350\n",
    "    scatter_chart.height = 175\n",
    "    popup = folium.Popup(max_width=400)\n",
    "    folium.Vega(scatter_chart, height=200, width=400).add_to(popup)\n",
    "    folium.Circle(\n",
    "        location=[confirmed_df.at[i,'lat'], confirmed_df.at[i,'lon']],\n",
    "        fill=True,\n",
    "#         radius=(int((np.log(500*confirmed_df.iloc[i,-1]+1.00001)))+0.2),\n",
    "         radius=int(confirmed_df.iloc[i,1]),\n",
    "        color='red',\n",
    "        fill_color='indigo',\n",
    "        popup = popup,\n",
    "        ).add_to(world_map)\n",
    "\n",
    "world_map\n",
    "# world_map.save('data.html')\n",
    "#https://towardsdatascience.com/building-covid-19-analysis-dashboard-using-python-and-voila-ee091f65dcbb"
   ]
  }
 ],
 "metadata": {
  "colab": {
   "collapsed_sections": [],
   "name": "MOH-Parser.ipynb",
   "provenance": []
  },
  "kernelspec": {
   "display_name": "Python (covid_env)",
   "language": "python",
   "name": "covid_env"
  },
  "language_info": {
   "codemirror_mode": {
    "name": "ipython",
    "version": 3
   },
   "file_extension": ".py",
   "mimetype": "text/x-python",
   "name": "python",
   "nbconvert_exporter": "python",
   "pygments_lexer": "ipython3",
   "version": "3.7.6"
  },
  "widgets": {
   "application/vnd.jupyter.widget-state+json": {
    "34eef80e1d4042d6a721c083763d6e36": {
     "model_module": "@jupyter-widgets/controls",
     "model_name": "IntSliderModel",
     "state": {
      "_dom_classes": [],
      "_model_module": "@jupyter-widgets/controls",
      "_model_module_version": "1.5.0",
      "_model_name": "IntSliderModel",
      "_view_count": null,
      "_view_module": "@jupyter-widgets/controls",
      "_view_module_version": "1.5.0",
      "_view_name": "IntSliderView",
      "continuous_update": true,
      "description": "n",
      "description_tooltip": null,
      "disabled": false,
      "layout": "IPY_MODEL_429ccffcdbf941e4aadb443b277377bd",
      "max": 30,
      "min": -10,
      "orientation": "horizontal",
      "readout": true,
      "readout_format": "d",
      "step": 1,
      "style": "IPY_MODEL_8f59a3c72c45467a96812024a696c4fe",
      "value": 10
     }
    },
    "429ccffcdbf941e4aadb443b277377bd": {
     "model_module": "@jupyter-widgets/base",
     "model_name": "LayoutModel",
     "state": {
      "_model_module": "@jupyter-widgets/base",
      "_model_module_version": "1.2.0",
      "_model_name": "LayoutModel",
      "_view_count": null,
      "_view_module": "@jupyter-widgets/base",
      "_view_module_version": "1.2.0",
      "_view_name": "LayoutView",
      "align_content": null,
      "align_items": null,
      "align_self": null,
      "border": null,
      "bottom": null,
      "display": null,
      "flex": null,
      "flex_flow": null,
      "grid_area": null,
      "grid_auto_columns": null,
      "grid_auto_flow": null,
      "grid_auto_rows": null,
      "grid_column": null,
      "grid_gap": null,
      "grid_row": null,
      "grid_template_areas": null,
      "grid_template_columns": null,
      "grid_template_rows": null,
      "height": null,
      "justify_content": null,
      "justify_items": null,
      "left": null,
      "margin": null,
      "max_height": null,
      "max_width": null,
      "min_height": null,
      "min_width": null,
      "object_fit": null,
      "object_position": null,
      "order": null,
      "overflow": null,
      "overflow_x": null,
      "overflow_y": null,
      "padding": null,
      "right": null,
      "top": null,
      "visibility": null,
      "width": null
     }
    },
    "4623b62446d14eaaa40b94a45cb552d4": {
     "model_module": "@jupyter-widgets/base",
     "model_name": "LayoutModel",
     "state": {
      "_model_module": "@jupyter-widgets/base",
      "_model_module_version": "1.2.0",
      "_model_name": "LayoutModel",
      "_view_count": null,
      "_view_module": "@jupyter-widgets/base",
      "_view_module_version": "1.2.0",
      "_view_name": "LayoutView",
      "align_content": null,
      "align_items": null,
      "align_self": null,
      "border": null,
      "bottom": null,
      "display": null,
      "flex": null,
      "flex_flow": null,
      "grid_area": null,
      "grid_auto_columns": null,
      "grid_auto_flow": null,
      "grid_auto_rows": null,
      "grid_column": null,
      "grid_gap": null,
      "grid_row": null,
      "grid_template_areas": null,
      "grid_template_columns": null,
      "grid_template_rows": null,
      "height": null,
      "justify_content": null,
      "justify_items": null,
      "left": null,
      "margin": null,
      "max_height": null,
      "max_width": null,
      "min_height": null,
      "min_width": null,
      "object_fit": null,
      "object_position": null,
      "order": null,
      "overflow": null,
      "overflow_x": null,
      "overflow_y": null,
      "padding": null,
      "right": null,
      "top": null,
      "visibility": null,
      "width": null
     }
    },
    "5b521e77f25f41f09c07f170238b4182": {
     "model_module": "@jupyter-widgets/base",
     "model_name": "LayoutModel",
     "state": {
      "_model_module": "@jupyter-widgets/base",
      "_model_module_version": "1.2.0",
      "_model_name": "LayoutModel",
      "_view_count": null,
      "_view_module": "@jupyter-widgets/base",
      "_view_module_version": "1.2.0",
      "_view_name": "LayoutView",
      "align_content": null,
      "align_items": null,
      "align_self": null,
      "border": null,
      "bottom": null,
      "display": null,
      "flex": null,
      "flex_flow": null,
      "grid_area": null,
      "grid_auto_columns": null,
      "grid_auto_flow": null,
      "grid_auto_rows": null,
      "grid_column": null,
      "grid_gap": null,
      "grid_row": null,
      "grid_template_areas": null,
      "grid_template_columns": null,
      "grid_template_rows": null,
      "height": null,
      "justify_content": null,
      "justify_items": null,
      "left": null,
      "margin": null,
      "max_height": null,
      "max_width": null,
      "min_height": null,
      "min_width": null,
      "object_fit": null,
      "object_position": null,
      "order": null,
      "overflow": null,
      "overflow_x": null,
      "overflow_y": null,
      "padding": null,
      "right": null,
      "top": null,
      "visibility": null,
      "width": null
     }
    },
    "6a3ad954440a4ad7ba4c2ba350d9617a": {
     "model_module": "@jupyter-widgets/controls",
     "model_name": "VBoxModel",
     "state": {
      "_dom_classes": [
       "widget-interact"
      ],
      "_model_module": "@jupyter-widgets/controls",
      "_model_module_version": "1.5.0",
      "_model_name": "VBoxModel",
      "_view_count": null,
      "_view_module": "@jupyter-widgets/controls",
      "_view_module_version": "1.5.0",
      "_view_name": "VBoxView",
      "box_style": "",
      "children": [
       "IPY_MODEL_34eef80e1d4042d6a721c083763d6e36",
       "IPY_MODEL_a0d1db1b15624ab9bcdc0ef487590f84"
      ],
      "layout": "IPY_MODEL_4623b62446d14eaaa40b94a45cb552d4"
     }
    },
    "8f59a3c72c45467a96812024a696c4fe": {
     "model_module": "@jupyter-widgets/controls",
     "model_name": "SliderStyleModel",
     "state": {
      "_model_module": "@jupyter-widgets/controls",
      "_model_module_version": "1.5.0",
      "_model_name": "SliderStyleModel",
      "_view_count": null,
      "_view_module": "@jupyter-widgets/base",
      "_view_module_version": "1.2.0",
      "_view_name": "StyleView",
      "description_width": "",
      "handle_color": null
     }
    },
    "a0d1db1b15624ab9bcdc0ef487590f84": {
     "model_module": "@jupyter-widgets/output",
     "model_name": "OutputModel",
     "state": {
      "_dom_classes": [],
      "_model_module": "@jupyter-widgets/output",
      "_model_module_version": "1.0.0",
      "_model_name": "OutputModel",
      "_view_count": null,
      "_view_module": "@jupyter-widgets/output",
      "_view_module_version": "1.0.0",
      "_view_name": "OutputView",
      "layout": "IPY_MODEL_5b521e77f25f41f09c07f170238b4182",
      "msg_id": "",
      "outputs": [
       {
        "metadata": {
         "tags": []
        },
        "output_type": "display_data",
        "text/html": "<html>\n<head><meta charset=\"utf-8\" /></head>\n<body>\n    <div>\n            <script src=\"https://cdnjs.cloudflare.com/ajax/libs/mathjax/2.7.5/MathJax.js?config=TeX-AMS-MML_SVG\"></script><script type=\"text/javascript\">if (window.MathJax) {MathJax.Hub.Config({SVG: {font: \"STIX-Web\"}});}</script>\n                <script type=\"text/javascript\">window.PlotlyConfig = {MathJaxConfig: 'local'};</script>\n        <script src=\"https://cdn.plot.ly/plotly-latest.min.js\"></script>    \n            <div id=\"ce15e5e7-08bd-4b83-b8a0-7244a627bc5d\" class=\"plotly-graph-div\" style=\"height:525px; width:700px;\"></div>\n            <script type=\"text/javascript\">\n                \n                    window.PLOTLYENV=window.PLOTLYENV || {};\n                    \n                if (document.getElementById(\"ce15e5e7-08bd-4b83-b8a0-7244a627bc5d\")) {\n                    Plotly.newPlot(\n                        'ce15e5e7-08bd-4b83-b8a0-7244a627bc5d',\n                        [{\"hoverlabel\": {\"namelength\": 0}, \"hovertemplate\": \"<b>%{hovertext}</b><br><br>City=%{x}<br>Rate per 100000=%{marker.size}\", \"hovertext\": [\"\\u05d1\\u05e0\\u05d9 \\u05d1\\u05e8\\u05e7\"], \"legendgroup\": \"City=\\u05d1\\u05e0\\u05d9 \\u05d1\\u05e8\\u05e7\", \"marker\": {\"color\": \"#636efa\", \"size\": [1100.88], \"sizemode\": \"area\", \"sizeref\": 0.3058, \"symbol\": \"circle\"}, \"mode\": \"markers\", \"name\": \"City=\\u05d1\\u05e0\\u05d9 \\u05d1\\u05e8\\u05e7\", \"showlegend\": true, \"type\": \"scatter\", \"x\": [\"\\u05d1\\u05e0\\u05d9 \\u05d1\\u05e8\\u05e7\"], \"xaxis\": \"x\", \"y\": [1100.88], \"yaxis\": \"y\"}, {\"hoverlabel\": {\"namelength\": 0}, \"hovertemplate\": \"<b>%{hovertext}</b><br><br>City=%{x}<br>Rate per 100000=%{marker.size}\", \"hovertext\": [\"\\u05e7\\u05e8\\u05d9\\u05ea \\u05d9\\u05e2\\u05e8\\u05d9\\u05dd\"], \"legendgroup\": \"City=\\u05e7\\u05e8\\u05d9\\u05ea \\u05d9\\u05e2\\u05e8\\u05d9\\u05dd\", \"marker\": {\"color\": \"#EF553B\", \"size\": [682.65], \"sizemode\": \"area\", \"sizeref\": 0.3058, \"symbol\": \"circle\"}, \"mode\": \"markers\", \"name\": \"City=\\u05e7\\u05e8\\u05d9\\u05ea \\u05d9\\u05e2\\u05e8\\u05d9\\u05dd\", \"showlegend\": true, \"type\": \"scatter\", \"x\": [\"\\u05e7\\u05e8\\u05d9\\u05ea \\u05d9\\u05e2\\u05e8\\u05d9\\u05dd\"], \"xaxis\": \"x\", \"y\": [682.65], \"yaxis\": \"y\"}, {\"hoverlabel\": {\"namelength\": 0}, \"hovertemplate\": \"<b>%{hovertext}</b><br><br>City=%{x}<br>Rate per 100000=%{marker.size}\", \"hovertext\": [\"\\u05db\\u05d5\\u05db\\u05d1 \\u05d9\\u05e2\\u05e7\\u05d1\"], \"legendgroup\": \"City=\\u05db\\u05d5\\u05db\\u05d1 \\u05d9\\u05e2\\u05e7\\u05d1\", \"marker\": {\"color\": \"#00cc96\", \"size\": [674.26], \"sizemode\": \"area\", \"sizeref\": 0.3058, \"symbol\": \"circle\"}, \"mode\": \"markers\", \"name\": \"City=\\u05db\\u05d5\\u05db\\u05d1 \\u05d9\\u05e2\\u05e7\\u05d1\", \"showlegend\": true, \"type\": \"scatter\", \"x\": [\"\\u05db\\u05d5\\u05db\\u05d1 \\u05d9\\u05e2\\u05e7\\u05d1\"], \"xaxis\": \"x\", \"y\": [674.26], \"yaxis\": \"y\"}, {\"hoverlabel\": {\"namelength\": 0}, \"hovertemplate\": \"<b>%{hovertext}</b><br><br>City=%{x}<br>Rate per 100000=%{marker.size}\", \"hovertext\": [\"\\u05db\\u05e4\\u05e8 \\u05d7\\u05d1\\\"\\u05d3\"], \"legendgroup\": \"City=\\u05db\\u05e4\\u05e8 \\u05d7\\u05d1\\\"\\u05d3\", \"marker\": {\"color\": \"#ab63fa\", \"size\": [654.37], \"sizemode\": \"area\", \"sizeref\": 0.3058, \"symbol\": \"circle\"}, \"mode\": \"markers\", \"name\": \"City=\\u05db\\u05e4\\u05e8 \\u05d7\\u05d1\\\"\\u05d3\", \"showlegend\": true, \"type\": \"scatter\", \"x\": [\"\\u05db\\u05e4\\u05e8 \\u05d7\\u05d1\\\"\\u05d3\"], \"xaxis\": \"x\", \"y\": [654.37], \"yaxis\": \"y\"}, {\"hoverlabel\": {\"namelength\": 0}, \"hovertemplate\": \"<b>%{hovertext}</b><br><br>City=%{x}<br>Rate per 100000=%{marker.size}\", \"hovertext\": [\"\\u05d0\\u05dc\\u05e2\\u05d3\"], \"legendgroup\": \"City=\\u05d0\\u05dc\\u05e2\\u05d3\", \"marker\": {\"color\": \"#FFA15A\", \"size\": [643.71], \"sizemode\": \"area\", \"sizeref\": 0.3058, \"symbol\": \"circle\"}, \"mode\": \"markers\", \"name\": \"City=\\u05d0\\u05dc\\u05e2\\u05d3\", \"showlegend\": true, \"type\": \"scatter\", \"x\": [\"\\u05d0\\u05dc\\u05e2\\u05d3\"], \"xaxis\": \"x\", \"y\": [643.71], \"yaxis\": \"y\"}, {\"hoverlabel\": {\"namelength\": 0}, \"hovertemplate\": \"<b>%{hovertext}</b><br><br>City=%{x}<br>Rate per 100000=%{marker.size}\", \"hovertext\": [\"\\u05d0\\u05e4\\u05e8\\u05ea\"], \"legendgroup\": \"City=\\u05d0\\u05e4\\u05e8\\u05ea\", \"marker\": {\"color\": \"#19d3f3\", \"size\": [599.48], \"sizemode\": \"area\", \"sizeref\": 0.3058, \"symbol\": \"circle\"}, \"mode\": \"markers\", \"name\": \"City=\\u05d0\\u05e4\\u05e8\\u05ea\", \"showlegend\": true, \"type\": \"scatter\", \"x\": [\"\\u05d0\\u05e4\\u05e8\\u05ea\"], \"xaxis\": \"x\", \"y\": [599.48], \"yaxis\": \"y\"}, {\"hoverlabel\": {\"namelength\": 0}, \"hovertemplate\": \"<b>%{hovertext}</b><br><br>City=%{x}<br>Rate per 100000=%{marker.size}\", \"hovertext\": [\"\\u05de\\u05e6\\u05e4\\u05d4 \\u05e8\\u05de\\u05d5\\u05df\"], \"legendgroup\": \"City=\\u05de\\u05e6\\u05e4\\u05d4 \\u05e8\\u05de\\u05d5\\u05df\", \"marker\": {\"color\": \"#FF6692\", \"size\": [480.87], \"sizemode\": \"area\", \"sizeref\": 0.3058, \"symbol\": \"circle\"}, \"mode\": \"markers\", \"name\": \"City=\\u05de\\u05e6\\u05e4\\u05d4 \\u05e8\\u05de\\u05d5\\u05df\", \"showlegend\": true, \"type\": \"scatter\", \"x\": [\"\\u05de\\u05e6\\u05e4\\u05d4 \\u05e8\\u05de\\u05d5\\u05df\"], \"xaxis\": \"x\", \"y\": [480.87], \"yaxis\": \"y\"}, {\"hoverlabel\": {\"namelength\": 0}, \"hovertemplate\": \"<b>%{hovertext}</b><br><br>City=%{x}<br>Rate per 100000=%{marker.size}\", \"hovertext\": [\"\\u05de\\u05d2\\u05d3\\u05dc \\u05d4\\u05e2\\u05de\\u05e7\"], \"legendgroup\": \"City=\\u05de\\u05d2\\u05d3\\u05dc \\u05d4\\u05e2\\u05de\\u05e7\", \"marker\": {\"color\": \"#B6E880\", \"size\": [379.92], \"sizemode\": \"area\", \"sizeref\": 0.3058, \"symbol\": \"circle\"}, \"mode\": \"markers\", \"name\": \"City=\\u05de\\u05d2\\u05d3\\u05dc \\u05d4\\u05e2\\u05de\\u05e7\", \"showlegend\": true, \"type\": \"scatter\", \"x\": [\"\\u05de\\u05d2\\u05d3\\u05dc \\u05d4\\u05e2\\u05de\\u05e7\"], \"xaxis\": \"x\", \"y\": [379.92], \"yaxis\": \"y\"}, {\"hoverlabel\": {\"namelength\": 0}, \"hovertemplate\": \"<b>%{hovertext}</b><br><br>City=%{x}<br>Rate per 100000=%{marker.size}\", \"hovertext\": [\"\\u05de\\u05d5\\u05d3\\u05d9\\u05e2\\u05d9\\u05df \\u05e2\\u05d9\\u05dc\\u05d9\\u05ea\"], \"legendgroup\": \"City=\\u05de\\u05d5\\u05d3\\u05d9\\u05e2\\u05d9\\u05df \\u05e2\\u05d9\\u05dc\\u05d9\\u05ea\", \"marker\": {\"color\": \"#FF97FF\", \"size\": [353.62], \"sizemode\": \"area\", \"sizeref\": 0.3058, \"symbol\": \"circle\"}, \"mode\": \"markers\", \"name\": \"City=\\u05de\\u05d5\\u05d3\\u05d9\\u05e2\\u05d9\\u05df \\u05e2\\u05d9\\u05dc\\u05d9\\u05ea\", \"showlegend\": true, \"type\": \"scatter\", \"x\": [\"\\u05de\\u05d5\\u05d3\\u05d9\\u05e2\\u05d9\\u05df \\u05e2\\u05d9\\u05dc\\u05d9\\u05ea\"], \"xaxis\": \"x\", \"y\": [353.62], \"yaxis\": \"y\"}, {\"hoverlabel\": {\"namelength\": 0}, \"hovertemplate\": \"<b>%{hovertext}</b><br><br>City=%{x}<br>Rate per 100000=%{marker.size}\", \"hovertext\": [\"\\u05d0\\u05d5\\u05e8 \\u05d9\\u05d4\\u05d5\\u05d3\\u05d4\"], \"legendgroup\": \"City=\\u05d0\\u05d5\\u05e8 \\u05d9\\u05d4\\u05d5\\u05d3\\u05d4\", \"marker\": {\"color\": \"#FECB52\", \"size\": [350.14], \"sizemode\": \"area\", \"sizeref\": 0.3058, \"symbol\": \"circle\"}, \"mode\": \"markers\", \"name\": \"City=\\u05d0\\u05d5\\u05e8 \\u05d9\\u05d4\\u05d5\\u05d3\\u05d4\", \"showlegend\": true, \"type\": \"scatter\", \"x\": [\"\\u05d0\\u05d5\\u05e8 \\u05d9\\u05d4\\u05d5\\u05d3\\u05d4\"], \"xaxis\": \"x\", \"y\": [350.14], \"yaxis\": \"y\"}],\n                        {\"legend\": {\"itemsizing\": \"constant\", \"tracegroupgap\": 0}, \"margin\": {\"t\": 60}, \"template\": {\"data\": {\"bar\": [{\"error_x\": {\"color\": \"#2a3f5f\"}, \"error_y\": {\"color\": \"#2a3f5f\"}, \"marker\": {\"line\": {\"color\": \"#E5ECF6\", \"width\": 0.5}}, \"type\": \"bar\"}], \"barpolar\": [{\"marker\": {\"line\": {\"color\": \"#E5ECF6\", \"width\": 0.5}}, \"type\": \"barpolar\"}], \"carpet\": [{\"aaxis\": {\"endlinecolor\": \"#2a3f5f\", \"gridcolor\": \"white\", \"linecolor\": \"white\", \"minorgridcolor\": \"white\", \"startlinecolor\": \"#2a3f5f\"}, \"baxis\": {\"endlinecolor\": \"#2a3f5f\", \"gridcolor\": \"white\", \"linecolor\": \"white\", \"minorgridcolor\": \"white\", \"startlinecolor\": \"#2a3f5f\"}, \"type\": \"carpet\"}], \"choropleth\": [{\"colorbar\": {\"outlinewidth\": 0, \"ticks\": \"\"}, \"type\": \"choropleth\"}], \"contour\": [{\"colorbar\": {\"outlinewidth\": 0, \"ticks\": \"\"}, \"colorscale\": [[0.0, \"#0d0887\"], [0.1111111111111111, \"#46039f\"], [0.2222222222222222, \"#7201a8\"], [0.3333333333333333, \"#9c179e\"], [0.4444444444444444, \"#bd3786\"], [0.5555555555555556, \"#d8576b\"], [0.6666666666666666, \"#ed7953\"], [0.7777777777777778, \"#fb9f3a\"], [0.8888888888888888, \"#fdca26\"], [1.0, \"#f0f921\"]], \"type\": \"contour\"}], \"contourcarpet\": [{\"colorbar\": {\"outlinewidth\": 0, \"ticks\": \"\"}, \"type\": \"contourcarpet\"}], \"heatmap\": [{\"colorbar\": {\"outlinewidth\": 0, \"ticks\": \"\"}, \"colorscale\": [[0.0, \"#0d0887\"], [0.1111111111111111, \"#46039f\"], [0.2222222222222222, \"#7201a8\"], [0.3333333333333333, \"#9c179e\"], [0.4444444444444444, \"#bd3786\"], [0.5555555555555556, \"#d8576b\"], [0.6666666666666666, \"#ed7953\"], [0.7777777777777778, \"#fb9f3a\"], [0.8888888888888888, \"#fdca26\"], [1.0, \"#f0f921\"]], \"type\": \"heatmap\"}], \"heatmapgl\": [{\"colorbar\": {\"outlinewidth\": 0, \"ticks\": \"\"}, \"colorscale\": [[0.0, \"#0d0887\"], [0.1111111111111111, \"#46039f\"], [0.2222222222222222, \"#7201a8\"], [0.3333333333333333, \"#9c179e\"], [0.4444444444444444, \"#bd3786\"], [0.5555555555555556, \"#d8576b\"], [0.6666666666666666, \"#ed7953\"], [0.7777777777777778, \"#fb9f3a\"], [0.8888888888888888, \"#fdca26\"], [1.0, \"#f0f921\"]], \"type\": \"heatmapgl\"}], \"histogram\": [{\"marker\": {\"colorbar\": {\"outlinewidth\": 0, \"ticks\": \"\"}}, \"type\": \"histogram\"}], \"histogram2d\": [{\"colorbar\": {\"outlinewidth\": 0, \"ticks\": \"\"}, \"colorscale\": [[0.0, \"#0d0887\"], [0.1111111111111111, \"#46039f\"], [0.2222222222222222, \"#7201a8\"], [0.3333333333333333, \"#9c179e\"], [0.4444444444444444, \"#bd3786\"], [0.5555555555555556, \"#d8576b\"], [0.6666666666666666, \"#ed7953\"], [0.7777777777777778, \"#fb9f3a\"], [0.8888888888888888, \"#fdca26\"], [1.0, \"#f0f921\"]], \"type\": \"histogram2d\"}], \"histogram2dcontour\": [{\"colorbar\": {\"outlinewidth\": 0, \"ticks\": \"\"}, \"colorscale\": [[0.0, \"#0d0887\"], [0.1111111111111111, \"#46039f\"], [0.2222222222222222, \"#7201a8\"], [0.3333333333333333, \"#9c179e\"], [0.4444444444444444, \"#bd3786\"], [0.5555555555555556, \"#d8576b\"], [0.6666666666666666, \"#ed7953\"], [0.7777777777777778, \"#fb9f3a\"], [0.8888888888888888, \"#fdca26\"], [1.0, \"#f0f921\"]], \"type\": \"histogram2dcontour\"}], \"mesh3d\": [{\"colorbar\": {\"outlinewidth\": 0, \"ticks\": \"\"}, \"type\": \"mesh3d\"}], \"parcoords\": [{\"line\": {\"colorbar\": {\"outlinewidth\": 0, \"ticks\": \"\"}}, \"type\": \"parcoords\"}], \"pie\": [{\"automargin\": true, \"type\": \"pie\"}], \"scatter\": [{\"marker\": {\"colorbar\": {\"outlinewidth\": 0, \"ticks\": \"\"}}, \"type\": \"scatter\"}], \"scatter3d\": [{\"line\": {\"colorbar\": {\"outlinewidth\": 0, \"ticks\": \"\"}}, \"marker\": {\"colorbar\": {\"outlinewidth\": 0, \"ticks\": \"\"}}, \"type\": \"scatter3d\"}], \"scattercarpet\": [{\"marker\": {\"colorbar\": {\"outlinewidth\": 0, \"ticks\": \"\"}}, \"type\": \"scattercarpet\"}], \"scattergeo\": [{\"marker\": {\"colorbar\": {\"outlinewidth\": 0, \"ticks\": \"\"}}, \"type\": \"scattergeo\"}], \"scattergl\": [{\"marker\": {\"colorbar\": {\"outlinewidth\": 0, \"ticks\": \"\"}}, \"type\": \"scattergl\"}], \"scattermapbox\": [{\"marker\": {\"colorbar\": {\"outlinewidth\": 0, \"ticks\": \"\"}}, \"type\": \"scattermapbox\"}], \"scatterpolar\": [{\"marker\": {\"colorbar\": {\"outlinewidth\": 0, \"ticks\": \"\"}}, \"type\": \"scatterpolar\"}], \"scatterpolargl\": [{\"marker\": {\"colorbar\": {\"outlinewidth\": 0, \"ticks\": \"\"}}, \"type\": \"scatterpolargl\"}], \"scatterternary\": [{\"marker\": {\"colorbar\": {\"outlinewidth\": 0, \"ticks\": \"\"}}, \"type\": \"scatterternary\"}], \"surface\": [{\"colorbar\": {\"outlinewidth\": 0, \"ticks\": \"\"}, \"colorscale\": [[0.0, \"#0d0887\"], [0.1111111111111111, \"#46039f\"], [0.2222222222222222, \"#7201a8\"], [0.3333333333333333, \"#9c179e\"], [0.4444444444444444, \"#bd3786\"], [0.5555555555555556, \"#d8576b\"], [0.6666666666666666, \"#ed7953\"], [0.7777777777777778, \"#fb9f3a\"], [0.8888888888888888, \"#fdca26\"], [1.0, \"#f0f921\"]], \"type\": \"surface\"}], \"table\": [{\"cells\": {\"fill\": {\"color\": \"#EBF0F8\"}, \"line\": {\"color\": \"white\"}}, \"header\": {\"fill\": {\"color\": \"#C8D4E3\"}, \"line\": {\"color\": \"white\"}}, \"type\": \"table\"}]}, \"layout\": {\"annotationdefaults\": {\"arrowcolor\": \"#2a3f5f\", \"arrowhead\": 0, \"arrowwidth\": 1}, \"coloraxis\": {\"colorbar\": {\"outlinewidth\": 0, \"ticks\": \"\"}}, \"colorscale\": {\"diverging\": [[0, \"#8e0152\"], [0.1, \"#c51b7d\"], [0.2, \"#de77ae\"], [0.3, \"#f1b6da\"], [0.4, \"#fde0ef\"], [0.5, \"#f7f7f7\"], [0.6, \"#e6f5d0\"], [0.7, \"#b8e186\"], [0.8, \"#7fbc41\"], [0.9, \"#4d9221\"], [1, \"#276419\"]], \"sequential\": [[0.0, \"#0d0887\"], [0.1111111111111111, \"#46039f\"], [0.2222222222222222, \"#7201a8\"], [0.3333333333333333, \"#9c179e\"], [0.4444444444444444, \"#bd3786\"], [0.5555555555555556, \"#d8576b\"], [0.6666666666666666, \"#ed7953\"], [0.7777777777777778, \"#fb9f3a\"], [0.8888888888888888, \"#fdca26\"], [1.0, \"#f0f921\"]], \"sequentialminus\": [[0.0, \"#0d0887\"], [0.1111111111111111, \"#46039f\"], [0.2222222222222222, \"#7201a8\"], [0.3333333333333333, \"#9c179e\"], [0.4444444444444444, \"#bd3786\"], [0.5555555555555556, \"#d8576b\"], [0.6666666666666666, \"#ed7953\"], [0.7777777777777778, \"#fb9f3a\"], [0.8888888888888888, \"#fdca26\"], [1.0, \"#f0f921\"]]}, \"colorway\": [\"#636efa\", \"#EF553B\", \"#00cc96\", \"#ab63fa\", \"#FFA15A\", \"#19d3f3\", \"#FF6692\", \"#B6E880\", \"#FF97FF\", \"#FECB52\"], \"font\": {\"color\": \"#2a3f5f\"}, \"geo\": {\"bgcolor\": \"white\", \"lakecolor\": \"white\", \"landcolor\": \"#E5ECF6\", \"showlakes\": true, \"showland\": true, \"subunitcolor\": \"white\"}, \"hoverlabel\": {\"align\": \"left\"}, \"hovermode\": \"closest\", \"mapbox\": {\"style\": \"light\"}, \"paper_bgcolor\": \"white\", \"plot_bgcolor\": \"#E5ECF6\", \"polar\": {\"angularaxis\": {\"gridcolor\": \"white\", \"linecolor\": \"white\", \"ticks\": \"\"}, \"bgcolor\": \"#E5ECF6\", \"radialaxis\": {\"gridcolor\": \"white\", \"linecolor\": \"white\", \"ticks\": \"\"}}, \"scene\": {\"xaxis\": {\"backgroundcolor\": \"#E5ECF6\", \"gridcolor\": \"white\", \"gridwidth\": 2, \"linecolor\": \"white\", \"showbackground\": true, \"ticks\": \"\", \"zerolinecolor\": \"white\"}, \"yaxis\": {\"backgroundcolor\": \"#E5ECF6\", \"gridcolor\": \"white\", \"gridwidth\": 2, \"linecolor\": \"white\", \"showbackground\": true, \"ticks\": \"\", \"zerolinecolor\": \"white\"}, \"zaxis\": {\"backgroundcolor\": \"#E5ECF6\", \"gridcolor\": \"white\", \"gridwidth\": 2, \"linecolor\": \"white\", \"showbackground\": true, \"ticks\": \"\", \"zerolinecolor\": \"white\"}}, \"shapedefaults\": {\"line\": {\"color\": \"#2a3f5f\"}}, \"ternary\": {\"aaxis\": {\"gridcolor\": \"white\", \"linecolor\": \"white\", \"ticks\": \"\"}, \"baxis\": {\"gridcolor\": \"white\", \"linecolor\": \"white\", \"ticks\": \"\"}, \"bgcolor\": \"#E5ECF6\", \"caxis\": {\"gridcolor\": \"white\", \"linecolor\": \"white\", \"ticks\": \"\"}}, \"title\": {\"x\": 0.05}, \"xaxis\": {\"automargin\": true, \"gridcolor\": \"white\", \"linecolor\": \"white\", \"ticks\": \"\", \"title\": {\"standoff\": 15}, \"zerolinecolor\": \"white\", \"zerolinewidth\": 2}, \"yaxis\": {\"automargin\": true, \"gridcolor\": \"white\", \"linecolor\": \"white\", \"ticks\": \"\", \"title\": {\"standoff\": 15}, \"zerolinecolor\": \"white\", \"zerolinewidth\": 2}}}, \"title\": {\"text\": \"10 Worst hit countries\"}, \"width\": 700, \"xaxis\": {\"anchor\": \"y\", \"categoryarray\": [\"\\u05d1\\u05e0\\u05d9 \\u05d1\\u05e8\\u05e7\", \"\\u05e7\\u05e8\\u05d9\\u05ea \\u05d9\\u05e2\\u05e8\\u05d9\\u05dd\", \"\\u05db\\u05d5\\u05db\\u05d1 \\u05d9\\u05e2\\u05e7\\u05d1\", \"\\u05db\\u05e4\\u05e8 \\u05d7\\u05d1\\\"\\u05d3\", \"\\u05d0\\u05dc\\u05e2\\u05d3\", \"\\u05d0\\u05e4\\u05e8\\u05ea\", \"\\u05de\\u05e6\\u05e4\\u05d4 \\u05e8\\u05de\\u05d5\\u05df\", \"\\u05de\\u05d2\\u05d3\\u05dc \\u05d4\\u05e2\\u05de\\u05e7\", \"\\u05de\\u05d5\\u05d3\\u05d9\\u05e2\\u05d9\\u05df \\u05e2\\u05d9\\u05dc\\u05d9\\u05ea\", \"\\u05d0\\u05d5\\u05e8 \\u05d9\\u05d4\\u05d5\\u05d3\\u05d4\"], \"categoryorder\": \"array\", \"domain\": [0.0, 1.0], \"title\": {\"text\": \"Countries\"}}, \"yaxis\": {\"anchor\": \"x\", \"domain\": [0.0, 1.0], \"title\": {\"text\": \"Confirmed Cases\"}}},\n                        {\"responsive\": true}\n                    ).then(function(){\n                            \nvar gd = document.getElementById('ce15e5e7-08bd-4b83-b8a0-7244a627bc5d');\nvar x = new MutationObserver(function (mutations, observer) {{\n        var display = window.getComputedStyle(gd).display;\n        if (!display || display === 'none') {{\n            console.log([gd, 'removed!']);\n            Plotly.purge(gd);\n            observer.disconnect();\n        }}\n}});\n\n// Listen for the removal of the full notebook cells\nvar notebookContainer = gd.closest('#notebook-container');\nif (notebookContainer) {{\n    x.observe(notebookContainer, {childList: true});\n}}\n\n// Listen for the clearing of the current output cell\nvar outputEl = gd.closest('.output');\nif (outputEl) {{\n    x.observe(outputEl, {childList: true});\n}}\n\n                        })\n                };\n                \n            </script>\n        </div>\n</body>\n</html>"
       }
      ]
     }
    }
   }
  }
 },
 "nbformat": 4,
 "nbformat_minor": 4
}
