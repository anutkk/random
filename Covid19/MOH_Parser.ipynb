{
 "cells": [
  {
   "cell_type": "markdown",
   "metadata": {
    "colab_type": "text",
    "id": "ZEvKvgHCCwxW"
   },
   "source": [
    "# Ministry of Health PDF parser\n",
    "\n",
    "A simple script to gather PDF files from MOH and parse them into pandas DataFrame.\n",
    "\n",
    "פרסור דו\"חות תחלואה לפי ערים של משרד הבריאות"
   ]
  },
  {
   "cell_type": "markdown",
   "metadata": {
    "colab_type": "text",
    "id": "PQ3dHcJDDCe0"
   },
   "source": [
    "## Imports and setup"
   ]
  },
  {
   "cell_type": "code",
   "execution_count": 1,
   "metadata": {
    "colab": {
     "base_uri": "https://localhost:8080/",
     "height": 238
    },
    "colab_type": "code",
    "id": "Ty8qz27pCNYE",
    "outputId": "a21a7141-56bf-4202-eb2e-0feb38a4220a"
   },
   "outputs": [],
   "source": [
    "from __future__ import print_function\n",
    "\n",
    "import pandas as pd\n",
    "import tabula\n",
    "import os\n",
    "import numpy as np\n",
    "from pathlib import Path\n",
    "\n",
    "from ipywidgets import interact, interactive, fixed, interact_manual\n",
    "from IPython.core.display import display, HTML\n",
    "import matplotlib.pyplot as plt\n",
    "import plotly.express as px\n",
    "import folium\n",
    "import plotly.graph_objects as go\n",
    "import seaborn as sns\n",
    "import ipywidgets as widgets\n",
    "# %pwd"
   ]
  },
  {
   "cell_type": "markdown",
   "metadata": {
    "colab_type": "text",
    "id": "0bCnuHweDMSk"
   },
   "source": [
    "Base URLS:"
   ]
  },
  {
   "cell_type": "code",
   "execution_count": 14,
   "metadata": {
    "colab": {},
    "colab_type": "code",
    "id": "y0aqmxakDNqT"
   },
   "outputs": [],
   "source": [
    "report_dir = \"./MOHReports_raw\""
   ]
  },
  {
   "cell_type": "markdown",
   "metadata": {
    "colab_type": "text",
    "id": "F9MAISeHDHp0"
   },
   "source": [
    "## Individual PDF file parser function"
   ]
  },
  {
   "cell_type": "code",
   "execution_count": 63,
   "metadata": {
    "colab": {},
    "colab_type": "code",
    "id": "QJbxy9YUDLpK"
   },
   "outputs": [],
   "source": [
    "def parse_pdf_report(report_url):\n",
    "    #Get data\n",
    "    raw_tables = tabula.read_pdf(report_url, pages=\"all\", stream=False, silent=True)\n",
    "    #Merge to one dataframe\n",
    "    cols =  [\"Rate per 100000\", \"Isolations\", \"Cured\", \"Confirmed\", \"Tested\", \"2018 Population\", \"City\"]\n",
    "#   data = pd.DataFrame(columns = cols)\n",
    "#   for i, table in enumerate(raw_tables):\n",
    "#     if i==0:\n",
    "#       \n",
    "#       table = table.iloc[4:].rename(columns = new_cols) #TODO: use drop()\n",
    "#     else:\n",
    "#       first_values = table.columns.values\n",
    "#       new_cols = {x: y for x, y in zip(table.columns, cols)}\n",
    "#       first_values = [{x: y for x, y in zip(cols, first_values)}]\n",
    "#       table = pd.concat([pd.DataFrame(first_values), table.rename(columns=new_cols)], ignore_index=True)\n",
    "#     data = data.append(table, ignore_index=True)\n",
    "#   #Remove last two rows whch are a different table\n",
    "#   data = data.iloc[:-2]\n",
    "    new_cols = {x: y for x, y in zip(raw_tables.columns, cols)}\n",
    "    data = raw_tables.iloc[4:-2]\n",
    "    data = data.reset_index(drop=True).rename(columns = new_cols)\n",
    "#     data = raw_tables.drop(raw_tables.index[:4]).drop(raw_tables.index[-2:])\n",
    "#     print(data.head())\n",
    "    #Deal with nans\n",
    "    data.dropna(axis=0, how='all', inplace=True)\n",
    "    inds = pd.isnull(data).any(1).to_numpy().nonzero()[0]\n",
    " \n",
    "    for ind in inds:\n",
    "        if data['City'][ind] is not np.nan and data['City'][ind+1] is not np.nan: #part of name is here, data is on next row\n",
    "            new_name = data['City'][ind] + \" \" + data['City'][ind+1]\n",
    "#           data['City'][ind+1] = new_name\n",
    "            data.at[ind+1, 'City'] = new_name\n",
    "            data.loc[ind, :] = np.nan\n",
    "        elif data['2018 Population'][ind-1] is np.nan and data['2018 Population'][ind+1] is np.nan: #merge three lines\n",
    "            new_name = data['City'][ind-1] + \" \" + data['City'][ind+1]\n",
    "#             data['City'][ind] = new_name\n",
    "            data.at[ind, 'City'] = new_name\n",
    "            data.loc[[ind-1,ind+1], :] = np.nan\n",
    "    #TODO: make more robust\n",
    "    data.dropna(axis=0, how='all', inplace=True)\n",
    "\n",
    "    #Remove carriage returns in city names\n",
    "    data['City'] = data['City'].str.replace('\\\\r', ' ',)\n",
    "\n",
    "    #Convert relevant columns to numbers\n",
    "    numeric_cols = data.columns.drop('City')\n",
    "    data_numeric = data.copy()\n",
    "    data_numeric[numeric_cols] = data[numeric_cols].apply(lambda x: x.astype(str).str.replace(',', ''))\n",
    "    data_numeric[numeric_cols] = data_numeric[numeric_cols].apply(pd.to_numeric, errors='ignore')\n",
    "    return data_numeric\n",
    "\n",
    "# parse_pdf_report('./MOHReports_raw/20200412.pdf')"
   ]
  },
  {
   "cell_type": "markdown",
   "metadata": {
    "colab_type": "text",
    "id": "fatvRzoct_hM"
   },
   "source": [
    "Gather files and parse:"
   ]
  },
  {
   "cell_type": "code",
   "execution_count": 64,
   "metadata": {
    "colab": {
     "base_uri": "https://localhost:8080/",
     "height": 1000
    },
    "colab_type": "code",
    "id": "aeGtk62BuRqp",
    "outputId": "a47ee6d0-a530-41e7-812d-a630d1186524"
   },
   "outputs": [
    {
     "name": "stdout",
     "output_type": "stream",
     "text": [
      "  Rate per 100000 Isolations Cured Confirmed Tested 2018 Population       City\n",
      "0             654          9    18        44    213           6,724   כפר חב\"ד\n",
      "1             639         35     4        55    281           8,602  כוכב יעקב\n",
      "2             599         11    27        64    632          10,676       אפרת\n",
      "3             518         71    11       242  1,785          46,760       אלעד\n",
      "4             372         53    23        97    848          26,058  מגדל העמק\n",
      "20200412\n",
      "  Rate per 100000 Isolations Cured Confirmed Tested 2018 Population      City\n",
      "0          966.73        337   112     1,888  8,964         195,298   בני ברק\n",
      "1             NaN        NaN   NaN       NaN    NaN             NaN      קרית\n",
      "2          682.65         15    21        39    409           5,713       NaN\n",
      "3             NaN        NaN   NaN       NaN    NaN             NaN     יערים\n",
      "4          654.37          9    20        44    215           6,724  כפר חב\"ד\n",
      "20200413\n",
      "  Rate per 100000 Isolations Cured Confirmed Tested 2018 Population  \\\n",
      "0         1051.21        258   154     2,053  9,517         195,298   \n",
      "1          682.65         10    21        39    414           5,713   \n",
      "2          662.64         23     4        57    302           8,602   \n",
      "3          654.37          7    26        44    223           6,724   \n",
      "4          599.48          5    30        64    649          10,676   \n",
      "\n",
      "         City  \n",
      "0     בני ברק  \n",
      "1  קרית יערים  \n",
      "2   כוכב יעקב  \n",
      "3    כפר חב\"ד  \n",
      "4        אפרת  \n",
      "20200414\n",
      "  Rate per 100000 Isolations Cured Confirmed Tested 2018 Population       City\n",
      "0         1100.88        206   231     2,150  9,934         195,298    בני ברק\n",
      "1             NaN        NaN   NaN       NaN    NaN             NaN       קרית\n",
      "2          682.65          5    24        39    418           5,713        NaN\n",
      "3             NaN        NaN   NaN       NaN    NaN             NaN      יערים\n",
      "4          674.26         13     5        58    304           8,602  כוכב יעקב\n",
      "20200416\n"
     ]
    }
   ],
   "source": [
    "path = Path.cwd() / Path(report_dir)\n",
    "gfiles = path.glob('*.pdf')\n",
    "with pd.ExcelWriter('data_parsed.xlsx') as writer: \n",
    "    for file in gfiles:\n",
    "        url = str(file)\n",
    "        parsed_data = parse_pdf_report(url)\n",
    "        #Export to excel file\n",
    "        result_fn = file.stem\n",
    "        print(result_fn)\n",
    "        parsed_data.to_excel(writer, sheet_name=result_fn)"
   ]
  },
  {
   "cell_type": "code",
   "execution_count": 58,
   "metadata": {},
   "outputs": [
    {
     "data": {
      "text/plain": [
       "index              object\n",
       "Rate per 100000    object\n",
       "Isolations         object\n",
       "Cured              object\n",
       "Confirmed          object\n",
       "Tested             object\n",
       "2018 Population    object\n",
       "City               object\n",
       "2                  object\n",
       "10                 object\n",
       "13                 object\n",
       "17                 object\n",
       "24                 object\n",
       "27                 object\n",
       "32                 object\n",
       "dtype: object"
      ]
     },
     "execution_count": 58,
     "metadata": {},
     "output_type": "execute_result"
    }
   ],
   "source": []
  },
  {
   "cell_type": "markdown",
   "metadata": {
    "colab_type": "text",
    "id": "QoRgQzqMxtFT"
   },
   "source": [
    "Display interactively:"
   ]
  },
  {
   "cell_type": "code",
   "execution_count": null,
   "metadata": {
    "colab": {
     "base_uri": "https://localhost:8080/",
     "height": 49,
     "referenced_widgets": [
      "6a3ad954440a4ad7ba4c2ba350d9617a",
      "4623b62446d14eaaa40b94a45cb552d4",
      "34eef80e1d4042d6a721c083763d6e36",
      "a0d1db1b15624ab9bcdc0ef487590f84",
      "8f59a3c72c45467a96812024a696c4fe",
      "429ccffcdbf941e4aadb443b277377bd",
      "5b521e77f25f41f09c07f170238b4182"
     ]
    },
    "colab_type": "code",
    "id": "-2d6-63Txu0C",
    "outputId": "92a22ed7-0def-4ef8-b905-e35cd5ff47b6"
   },
   "outputs": [],
   "source": [
    "def bubble_chart(n):\n",
    "    fig = px.scatter(parsed_data.head(n), x=\"City\", y=\"Rate per 100000\", size=\"Rate per 100000\", color=\"City\",\n",
    "               hover_name=\"City\", size_max=60)\n",
    "    fig.update_layout(\n",
    "      title=str(n) +\" ערים הנפגעות ביותר\",\n",
    "      xaxis_title=\"ערים\",\n",
    "      yaxis_title=\"שיעור ל100,000\",\n",
    "      width = 700\n",
    "    )\n",
    "    fig.show();\n",
    "\n",
    "interact(bubble_chart, n=10)\n",
    "plt.show()\n",
    "\n",
    "# ipywLayout = widgets.Layout(border='solid 2px green')\n",
    "# ipywLayout.display='none'\n",
    "# widgets.VBox([fig], layout=ipywLayout)"
   ]
  }
 ],
 "metadata": {
  "colab": {
   "collapsed_sections": [],
   "name": "MOH-Parser.ipynb",
   "provenance": []
  },
  "kernelspec": {
   "display_name": "Python (covid_env)",
   "language": "python",
   "name": "covid_env"
  },
  "language_info": {
   "codemirror_mode": {
    "name": "ipython",
    "version": 3
   },
   "file_extension": ".py",
   "mimetype": "text/x-python",
   "name": "python",
   "nbconvert_exporter": "python",
   "pygments_lexer": "ipython3",
   "version": "3.7.6"
  },
  "widgets": {
   "application/vnd.jupyter.widget-state+json": {
    "34eef80e1d4042d6a721c083763d6e36": {
     "model_module": "@jupyter-widgets/controls",
     "model_name": "IntSliderModel",
     "state": {
      "_dom_classes": [],
      "_model_module": "@jupyter-widgets/controls",
      "_model_module_version": "1.5.0",
      "_model_name": "IntSliderModel",
      "_view_count": null,
      "_view_module": "@jupyter-widgets/controls",
      "_view_module_version": "1.5.0",
      "_view_name": "IntSliderView",
      "continuous_update": true,
      "description": "n",
      "description_tooltip": null,
      "disabled": false,
      "layout": "IPY_MODEL_429ccffcdbf941e4aadb443b277377bd",
      "max": 30,
      "min": -10,
      "orientation": "horizontal",
      "readout": true,
      "readout_format": "d",
      "step": 1,
      "style": "IPY_MODEL_8f59a3c72c45467a96812024a696c4fe",
      "value": 10
     }
    },
    "429ccffcdbf941e4aadb443b277377bd": {
     "model_module": "@jupyter-widgets/base",
     "model_name": "LayoutModel",
     "state": {
      "_model_module": "@jupyter-widgets/base",
      "_model_module_version": "1.2.0",
      "_model_name": "LayoutModel",
      "_view_count": null,
      "_view_module": "@jupyter-widgets/base",
      "_view_module_version": "1.2.0",
      "_view_name": "LayoutView",
      "align_content": null,
      "align_items": null,
      "align_self": null,
      "border": null,
      "bottom": null,
      "display": null,
      "flex": null,
      "flex_flow": null,
      "grid_area": null,
      "grid_auto_columns": null,
      "grid_auto_flow": null,
      "grid_auto_rows": null,
      "grid_column": null,
      "grid_gap": null,
      "grid_row": null,
      "grid_template_areas": null,
      "grid_template_columns": null,
      "grid_template_rows": null,
      "height": null,
      "justify_content": null,
      "justify_items": null,
      "left": null,
      "margin": null,
      "max_height": null,
      "max_width": null,
      "min_height": null,
      "min_width": null,
      "object_fit": null,
      "object_position": null,
      "order": null,
      "overflow": null,
      "overflow_x": null,
      "overflow_y": null,
      "padding": null,
      "right": null,
      "top": null,
      "visibility": null,
      "width": null
     }
    },
    "4623b62446d14eaaa40b94a45cb552d4": {
     "model_module": "@jupyter-widgets/base",
     "model_name": "LayoutModel",
     "state": {
      "_model_module": "@jupyter-widgets/base",
      "_model_module_version": "1.2.0",
      "_model_name": "LayoutModel",
      "_view_count": null,
      "_view_module": "@jupyter-widgets/base",
      "_view_module_version": "1.2.0",
      "_view_name": "LayoutView",
      "align_content": null,
      "align_items": null,
      "align_self": null,
      "border": null,
      "bottom": null,
      "display": null,
      "flex": null,
      "flex_flow": null,
      "grid_area": null,
      "grid_auto_columns": null,
      "grid_auto_flow": null,
      "grid_auto_rows": null,
      "grid_column": null,
      "grid_gap": null,
      "grid_row": null,
      "grid_template_areas": null,
      "grid_template_columns": null,
      "grid_template_rows": null,
      "height": null,
      "justify_content": null,
      "justify_items": null,
      "left": null,
      "margin": null,
      "max_height": null,
      "max_width": null,
      "min_height": null,
      "min_width": null,
      "object_fit": null,
      "object_position": null,
      "order": null,
      "overflow": null,
      "overflow_x": null,
      "overflow_y": null,
      "padding": null,
      "right": null,
      "top": null,
      "visibility": null,
      "width": null
     }
    },
    "5b521e77f25f41f09c07f170238b4182": {
     "model_module": "@jupyter-widgets/base",
     "model_name": "LayoutModel",
     "state": {
      "_model_module": "@jupyter-widgets/base",
      "_model_module_version": "1.2.0",
      "_model_name": "LayoutModel",
      "_view_count": null,
      "_view_module": "@jupyter-widgets/base",
      "_view_module_version": "1.2.0",
      "_view_name": "LayoutView",
      "align_content": null,
      "align_items": null,
      "align_self": null,
      "border": null,
      "bottom": null,
      "display": null,
      "flex": null,
      "flex_flow": null,
      "grid_area": null,
      "grid_auto_columns": null,
      "grid_auto_flow": null,
      "grid_auto_rows": null,
      "grid_column": null,
      "grid_gap": null,
      "grid_row": null,
      "grid_template_areas": null,
      "grid_template_columns": null,
      "grid_template_rows": null,
      "height": null,
      "justify_content": null,
      "justify_items": null,
      "left": null,
      "margin": null,
      "max_height": null,
      "max_width": null,
      "min_height": null,
      "min_width": null,
      "object_fit": null,
      "object_position": null,
      "order": null,
      "overflow": null,
      "overflow_x": null,
      "overflow_y": null,
      "padding": null,
      "right": null,
      "top": null,
      "visibility": null,
      "width": null
     }
    },
    "6a3ad954440a4ad7ba4c2ba350d9617a": {
     "model_module": "@jupyter-widgets/controls",
     "model_name": "VBoxModel",
     "state": {
      "_dom_classes": [
       "widget-interact"
      ],
      "_model_module": "@jupyter-widgets/controls",
      "_model_module_version": "1.5.0",
      "_model_name": "VBoxModel",
      "_view_count": null,
      "_view_module": "@jupyter-widgets/controls",
      "_view_module_version": "1.5.0",
      "_view_name": "VBoxView",
      "box_style": "",
      "children": [
       "IPY_MODEL_34eef80e1d4042d6a721c083763d6e36",
       "IPY_MODEL_a0d1db1b15624ab9bcdc0ef487590f84"
      ],
      "layout": "IPY_MODEL_4623b62446d14eaaa40b94a45cb552d4"
     }
    },
    "8f59a3c72c45467a96812024a696c4fe": {
     "model_module": "@jupyter-widgets/controls",
     "model_name": "SliderStyleModel",
     "state": {
      "_model_module": "@jupyter-widgets/controls",
      "_model_module_version": "1.5.0",
      "_model_name": "SliderStyleModel",
      "_view_count": null,
      "_view_module": "@jupyter-widgets/base",
      "_view_module_version": "1.2.0",
      "_view_name": "StyleView",
      "description_width": "",
      "handle_color": null
     }
    },
    "a0d1db1b15624ab9bcdc0ef487590f84": {
     "model_module": "@jupyter-widgets/output",
     "model_name": "OutputModel",
     "state": {
      "_dom_classes": [],
      "_model_module": "@jupyter-widgets/output",
      "_model_module_version": "1.0.0",
      "_model_name": "OutputModel",
      "_view_count": null,
      "_view_module": "@jupyter-widgets/output",
      "_view_module_version": "1.0.0",
      "_view_name": "OutputView",
      "layout": "IPY_MODEL_5b521e77f25f41f09c07f170238b4182",
      "msg_id": "",
      "outputs": [
       {
        "metadata": {
         "tags": []
        },
        "output_type": "display_data",
        "text/html": "<html>\n<head><meta charset=\"utf-8\" /></head>\n<body>\n    <div>\n            <script src=\"https://cdnjs.cloudflare.com/ajax/libs/mathjax/2.7.5/MathJax.js?config=TeX-AMS-MML_SVG\"></script><script type=\"text/javascript\">if (window.MathJax) {MathJax.Hub.Config({SVG: {font: \"STIX-Web\"}});}</script>\n                <script type=\"text/javascript\">window.PlotlyConfig = {MathJaxConfig: 'local'};</script>\n        <script src=\"https://cdn.plot.ly/plotly-latest.min.js\"></script>    \n            <div id=\"ce15e5e7-08bd-4b83-b8a0-7244a627bc5d\" class=\"plotly-graph-div\" style=\"height:525px; width:700px;\"></div>\n            <script type=\"text/javascript\">\n                \n                    window.PLOTLYENV=window.PLOTLYENV || {};\n                    \n                if (document.getElementById(\"ce15e5e7-08bd-4b83-b8a0-7244a627bc5d\")) {\n                    Plotly.newPlot(\n                        'ce15e5e7-08bd-4b83-b8a0-7244a627bc5d',\n                        [{\"hoverlabel\": {\"namelength\": 0}, \"hovertemplate\": \"<b>%{hovertext}</b><br><br>City=%{x}<br>Rate per 100000=%{marker.size}\", \"hovertext\": [\"\\u05d1\\u05e0\\u05d9 \\u05d1\\u05e8\\u05e7\"], \"legendgroup\": \"City=\\u05d1\\u05e0\\u05d9 \\u05d1\\u05e8\\u05e7\", \"marker\": {\"color\": \"#636efa\", \"size\": [1100.88], \"sizemode\": \"area\", \"sizeref\": 0.3058, \"symbol\": \"circle\"}, \"mode\": \"markers\", \"name\": \"City=\\u05d1\\u05e0\\u05d9 \\u05d1\\u05e8\\u05e7\", \"showlegend\": true, \"type\": \"scatter\", \"x\": [\"\\u05d1\\u05e0\\u05d9 \\u05d1\\u05e8\\u05e7\"], \"xaxis\": \"x\", \"y\": [1100.88], \"yaxis\": \"y\"}, {\"hoverlabel\": {\"namelength\": 0}, \"hovertemplate\": \"<b>%{hovertext}</b><br><br>City=%{x}<br>Rate per 100000=%{marker.size}\", \"hovertext\": [\"\\u05e7\\u05e8\\u05d9\\u05ea \\u05d9\\u05e2\\u05e8\\u05d9\\u05dd\"], \"legendgroup\": \"City=\\u05e7\\u05e8\\u05d9\\u05ea \\u05d9\\u05e2\\u05e8\\u05d9\\u05dd\", \"marker\": {\"color\": \"#EF553B\", \"size\": [682.65], \"sizemode\": \"area\", \"sizeref\": 0.3058, \"symbol\": \"circle\"}, \"mode\": \"markers\", \"name\": \"City=\\u05e7\\u05e8\\u05d9\\u05ea \\u05d9\\u05e2\\u05e8\\u05d9\\u05dd\", \"showlegend\": true, \"type\": \"scatter\", \"x\": [\"\\u05e7\\u05e8\\u05d9\\u05ea \\u05d9\\u05e2\\u05e8\\u05d9\\u05dd\"], \"xaxis\": \"x\", \"y\": [682.65], \"yaxis\": \"y\"}, {\"hoverlabel\": {\"namelength\": 0}, \"hovertemplate\": \"<b>%{hovertext}</b><br><br>City=%{x}<br>Rate per 100000=%{marker.size}\", \"hovertext\": [\"\\u05db\\u05d5\\u05db\\u05d1 \\u05d9\\u05e2\\u05e7\\u05d1\"], \"legendgroup\": \"City=\\u05db\\u05d5\\u05db\\u05d1 \\u05d9\\u05e2\\u05e7\\u05d1\", \"marker\": {\"color\": \"#00cc96\", \"size\": [674.26], \"sizemode\": \"area\", \"sizeref\": 0.3058, \"symbol\": \"circle\"}, \"mode\": \"markers\", \"name\": \"City=\\u05db\\u05d5\\u05db\\u05d1 \\u05d9\\u05e2\\u05e7\\u05d1\", \"showlegend\": true, \"type\": \"scatter\", \"x\": [\"\\u05db\\u05d5\\u05db\\u05d1 \\u05d9\\u05e2\\u05e7\\u05d1\"], \"xaxis\": \"x\", \"y\": [674.26], \"yaxis\": \"y\"}, {\"hoverlabel\": {\"namelength\": 0}, \"hovertemplate\": \"<b>%{hovertext}</b><br><br>City=%{x}<br>Rate per 100000=%{marker.size}\", \"hovertext\": [\"\\u05db\\u05e4\\u05e8 \\u05d7\\u05d1\\\"\\u05d3\"], \"legendgroup\": \"City=\\u05db\\u05e4\\u05e8 \\u05d7\\u05d1\\\"\\u05d3\", \"marker\": {\"color\": \"#ab63fa\", \"size\": [654.37], \"sizemode\": \"area\", \"sizeref\": 0.3058, \"symbol\": \"circle\"}, \"mode\": \"markers\", \"name\": \"City=\\u05db\\u05e4\\u05e8 \\u05d7\\u05d1\\\"\\u05d3\", \"showlegend\": true, \"type\": \"scatter\", \"x\": [\"\\u05db\\u05e4\\u05e8 \\u05d7\\u05d1\\\"\\u05d3\"], \"xaxis\": \"x\", \"y\": [654.37], \"yaxis\": \"y\"}, {\"hoverlabel\": {\"namelength\": 0}, \"hovertemplate\": \"<b>%{hovertext}</b><br><br>City=%{x}<br>Rate per 100000=%{marker.size}\", \"hovertext\": [\"\\u05d0\\u05dc\\u05e2\\u05d3\"], \"legendgroup\": \"City=\\u05d0\\u05dc\\u05e2\\u05d3\", \"marker\": {\"color\": \"#FFA15A\", \"size\": [643.71], \"sizemode\": \"area\", \"sizeref\": 0.3058, \"symbol\": \"circle\"}, \"mode\": \"markers\", \"name\": \"City=\\u05d0\\u05dc\\u05e2\\u05d3\", \"showlegend\": true, \"type\": \"scatter\", \"x\": [\"\\u05d0\\u05dc\\u05e2\\u05d3\"], \"xaxis\": \"x\", \"y\": [643.71], \"yaxis\": \"y\"}, {\"hoverlabel\": {\"namelength\": 0}, \"hovertemplate\": \"<b>%{hovertext}</b><br><br>City=%{x}<br>Rate per 100000=%{marker.size}\", \"hovertext\": [\"\\u05d0\\u05e4\\u05e8\\u05ea\"], \"legendgroup\": \"City=\\u05d0\\u05e4\\u05e8\\u05ea\", \"marker\": {\"color\": \"#19d3f3\", \"size\": [599.48], \"sizemode\": \"area\", \"sizeref\": 0.3058, \"symbol\": \"circle\"}, \"mode\": \"markers\", \"name\": \"City=\\u05d0\\u05e4\\u05e8\\u05ea\", \"showlegend\": true, \"type\": \"scatter\", \"x\": [\"\\u05d0\\u05e4\\u05e8\\u05ea\"], \"xaxis\": \"x\", \"y\": [599.48], \"yaxis\": \"y\"}, {\"hoverlabel\": {\"namelength\": 0}, \"hovertemplate\": \"<b>%{hovertext}</b><br><br>City=%{x}<br>Rate per 100000=%{marker.size}\", \"hovertext\": [\"\\u05de\\u05e6\\u05e4\\u05d4 \\u05e8\\u05de\\u05d5\\u05df\"], \"legendgroup\": \"City=\\u05de\\u05e6\\u05e4\\u05d4 \\u05e8\\u05de\\u05d5\\u05df\", \"marker\": {\"color\": \"#FF6692\", \"size\": [480.87], \"sizemode\": \"area\", \"sizeref\": 0.3058, \"symbol\": \"circle\"}, \"mode\": \"markers\", \"name\": \"City=\\u05de\\u05e6\\u05e4\\u05d4 \\u05e8\\u05de\\u05d5\\u05df\", \"showlegend\": true, \"type\": \"scatter\", \"x\": [\"\\u05de\\u05e6\\u05e4\\u05d4 \\u05e8\\u05de\\u05d5\\u05df\"], \"xaxis\": \"x\", \"y\": [480.87], \"yaxis\": \"y\"}, {\"hoverlabel\": {\"namelength\": 0}, \"hovertemplate\": \"<b>%{hovertext}</b><br><br>City=%{x}<br>Rate per 100000=%{marker.size}\", \"hovertext\": [\"\\u05de\\u05d2\\u05d3\\u05dc \\u05d4\\u05e2\\u05de\\u05e7\"], \"legendgroup\": \"City=\\u05de\\u05d2\\u05d3\\u05dc \\u05d4\\u05e2\\u05de\\u05e7\", \"marker\": {\"color\": \"#B6E880\", \"size\": [379.92], \"sizemode\": \"area\", \"sizeref\": 0.3058, \"symbol\": \"circle\"}, \"mode\": \"markers\", \"name\": \"City=\\u05de\\u05d2\\u05d3\\u05dc \\u05d4\\u05e2\\u05de\\u05e7\", \"showlegend\": true, \"type\": \"scatter\", \"x\": [\"\\u05de\\u05d2\\u05d3\\u05dc \\u05d4\\u05e2\\u05de\\u05e7\"], \"xaxis\": \"x\", \"y\": [379.92], \"yaxis\": \"y\"}, {\"hoverlabel\": {\"namelength\": 0}, \"hovertemplate\": \"<b>%{hovertext}</b><br><br>City=%{x}<br>Rate per 100000=%{marker.size}\", \"hovertext\": [\"\\u05de\\u05d5\\u05d3\\u05d9\\u05e2\\u05d9\\u05df \\u05e2\\u05d9\\u05dc\\u05d9\\u05ea\"], \"legendgroup\": \"City=\\u05de\\u05d5\\u05d3\\u05d9\\u05e2\\u05d9\\u05df \\u05e2\\u05d9\\u05dc\\u05d9\\u05ea\", \"marker\": {\"color\": \"#FF97FF\", \"size\": [353.62], \"sizemode\": \"area\", \"sizeref\": 0.3058, \"symbol\": \"circle\"}, \"mode\": \"markers\", \"name\": \"City=\\u05de\\u05d5\\u05d3\\u05d9\\u05e2\\u05d9\\u05df \\u05e2\\u05d9\\u05dc\\u05d9\\u05ea\", \"showlegend\": true, \"type\": \"scatter\", \"x\": [\"\\u05de\\u05d5\\u05d3\\u05d9\\u05e2\\u05d9\\u05df \\u05e2\\u05d9\\u05dc\\u05d9\\u05ea\"], \"xaxis\": \"x\", \"y\": [353.62], \"yaxis\": \"y\"}, {\"hoverlabel\": {\"namelength\": 0}, \"hovertemplate\": \"<b>%{hovertext}</b><br><br>City=%{x}<br>Rate per 100000=%{marker.size}\", \"hovertext\": [\"\\u05d0\\u05d5\\u05e8 \\u05d9\\u05d4\\u05d5\\u05d3\\u05d4\"], \"legendgroup\": \"City=\\u05d0\\u05d5\\u05e8 \\u05d9\\u05d4\\u05d5\\u05d3\\u05d4\", \"marker\": {\"color\": \"#FECB52\", \"size\": [350.14], \"sizemode\": \"area\", \"sizeref\": 0.3058, \"symbol\": \"circle\"}, \"mode\": \"markers\", \"name\": \"City=\\u05d0\\u05d5\\u05e8 \\u05d9\\u05d4\\u05d5\\u05d3\\u05d4\", \"showlegend\": true, \"type\": \"scatter\", \"x\": [\"\\u05d0\\u05d5\\u05e8 \\u05d9\\u05d4\\u05d5\\u05d3\\u05d4\"], \"xaxis\": \"x\", \"y\": [350.14], \"yaxis\": \"y\"}],\n                        {\"legend\": {\"itemsizing\": \"constant\", \"tracegroupgap\": 0}, \"margin\": {\"t\": 60}, \"template\": {\"data\": {\"bar\": [{\"error_x\": {\"color\": \"#2a3f5f\"}, \"error_y\": {\"color\": \"#2a3f5f\"}, \"marker\": {\"line\": {\"color\": \"#E5ECF6\", \"width\": 0.5}}, \"type\": \"bar\"}], \"barpolar\": [{\"marker\": {\"line\": {\"color\": \"#E5ECF6\", \"width\": 0.5}}, \"type\": \"barpolar\"}], \"carpet\": [{\"aaxis\": {\"endlinecolor\": \"#2a3f5f\", \"gridcolor\": \"white\", \"linecolor\": \"white\", \"minorgridcolor\": \"white\", \"startlinecolor\": \"#2a3f5f\"}, \"baxis\": {\"endlinecolor\": \"#2a3f5f\", \"gridcolor\": \"white\", \"linecolor\": \"white\", \"minorgridcolor\": \"white\", \"startlinecolor\": \"#2a3f5f\"}, \"type\": \"carpet\"}], \"choropleth\": [{\"colorbar\": {\"outlinewidth\": 0, \"ticks\": \"\"}, \"type\": \"choropleth\"}], \"contour\": [{\"colorbar\": {\"outlinewidth\": 0, \"ticks\": \"\"}, \"colorscale\": [[0.0, \"#0d0887\"], [0.1111111111111111, \"#46039f\"], [0.2222222222222222, \"#7201a8\"], [0.3333333333333333, \"#9c179e\"], [0.4444444444444444, \"#bd3786\"], [0.5555555555555556, \"#d8576b\"], [0.6666666666666666, \"#ed7953\"], [0.7777777777777778, \"#fb9f3a\"], [0.8888888888888888, \"#fdca26\"], [1.0, \"#f0f921\"]], \"type\": \"contour\"}], \"contourcarpet\": [{\"colorbar\": {\"outlinewidth\": 0, \"ticks\": \"\"}, \"type\": \"contourcarpet\"}], \"heatmap\": [{\"colorbar\": {\"outlinewidth\": 0, \"ticks\": \"\"}, \"colorscale\": [[0.0, \"#0d0887\"], [0.1111111111111111, \"#46039f\"], [0.2222222222222222, \"#7201a8\"], [0.3333333333333333, \"#9c179e\"], [0.4444444444444444, \"#bd3786\"], [0.5555555555555556, \"#d8576b\"], [0.6666666666666666, \"#ed7953\"], [0.7777777777777778, \"#fb9f3a\"], [0.8888888888888888, \"#fdca26\"], [1.0, \"#f0f921\"]], \"type\": \"heatmap\"}], \"heatmapgl\": [{\"colorbar\": {\"outlinewidth\": 0, \"ticks\": \"\"}, \"colorscale\": [[0.0, \"#0d0887\"], [0.1111111111111111, \"#46039f\"], [0.2222222222222222, \"#7201a8\"], [0.3333333333333333, \"#9c179e\"], [0.4444444444444444, \"#bd3786\"], [0.5555555555555556, \"#d8576b\"], [0.6666666666666666, \"#ed7953\"], [0.7777777777777778, \"#fb9f3a\"], [0.8888888888888888, \"#fdca26\"], [1.0, \"#f0f921\"]], \"type\": \"heatmapgl\"}], \"histogram\": [{\"marker\": {\"colorbar\": {\"outlinewidth\": 0, \"ticks\": \"\"}}, \"type\": \"histogram\"}], \"histogram2d\": [{\"colorbar\": {\"outlinewidth\": 0, \"ticks\": \"\"}, \"colorscale\": [[0.0, \"#0d0887\"], [0.1111111111111111, \"#46039f\"], [0.2222222222222222, \"#7201a8\"], [0.3333333333333333, \"#9c179e\"], [0.4444444444444444, \"#bd3786\"], [0.5555555555555556, \"#d8576b\"], [0.6666666666666666, \"#ed7953\"], [0.7777777777777778, \"#fb9f3a\"], [0.8888888888888888, \"#fdca26\"], [1.0, \"#f0f921\"]], \"type\": \"histogram2d\"}], \"histogram2dcontour\": [{\"colorbar\": {\"outlinewidth\": 0, \"ticks\": \"\"}, \"colorscale\": [[0.0, \"#0d0887\"], [0.1111111111111111, \"#46039f\"], [0.2222222222222222, \"#7201a8\"], [0.3333333333333333, \"#9c179e\"], [0.4444444444444444, \"#bd3786\"], [0.5555555555555556, \"#d8576b\"], [0.6666666666666666, \"#ed7953\"], [0.7777777777777778, \"#fb9f3a\"], [0.8888888888888888, \"#fdca26\"], [1.0, \"#f0f921\"]], \"type\": \"histogram2dcontour\"}], \"mesh3d\": [{\"colorbar\": {\"outlinewidth\": 0, \"ticks\": \"\"}, \"type\": \"mesh3d\"}], \"parcoords\": [{\"line\": {\"colorbar\": {\"outlinewidth\": 0, \"ticks\": \"\"}}, \"type\": \"parcoords\"}], \"pie\": [{\"automargin\": true, \"type\": \"pie\"}], \"scatter\": [{\"marker\": {\"colorbar\": {\"outlinewidth\": 0, \"ticks\": \"\"}}, \"type\": \"scatter\"}], \"scatter3d\": [{\"line\": {\"colorbar\": {\"outlinewidth\": 0, \"ticks\": \"\"}}, \"marker\": {\"colorbar\": {\"outlinewidth\": 0, \"ticks\": \"\"}}, \"type\": \"scatter3d\"}], \"scattercarpet\": [{\"marker\": {\"colorbar\": {\"outlinewidth\": 0, \"ticks\": \"\"}}, \"type\": \"scattercarpet\"}], \"scattergeo\": [{\"marker\": {\"colorbar\": {\"outlinewidth\": 0, \"ticks\": \"\"}}, \"type\": \"scattergeo\"}], \"scattergl\": [{\"marker\": {\"colorbar\": {\"outlinewidth\": 0, \"ticks\": \"\"}}, \"type\": \"scattergl\"}], \"scattermapbox\": [{\"marker\": {\"colorbar\": {\"outlinewidth\": 0, \"ticks\": \"\"}}, \"type\": \"scattermapbox\"}], \"scatterpolar\": [{\"marker\": {\"colorbar\": {\"outlinewidth\": 0, \"ticks\": \"\"}}, \"type\": \"scatterpolar\"}], \"scatterpolargl\": [{\"marker\": {\"colorbar\": {\"outlinewidth\": 0, \"ticks\": \"\"}}, \"type\": \"scatterpolargl\"}], \"scatterternary\": [{\"marker\": {\"colorbar\": {\"outlinewidth\": 0, \"ticks\": \"\"}}, \"type\": \"scatterternary\"}], \"surface\": [{\"colorbar\": {\"outlinewidth\": 0, \"ticks\": \"\"}, \"colorscale\": [[0.0, \"#0d0887\"], [0.1111111111111111, \"#46039f\"], [0.2222222222222222, \"#7201a8\"], [0.3333333333333333, \"#9c179e\"], [0.4444444444444444, \"#bd3786\"], [0.5555555555555556, \"#d8576b\"], [0.6666666666666666, \"#ed7953\"], [0.7777777777777778, \"#fb9f3a\"], [0.8888888888888888, \"#fdca26\"], [1.0, \"#f0f921\"]], \"type\": \"surface\"}], \"table\": [{\"cells\": {\"fill\": {\"color\": \"#EBF0F8\"}, \"line\": {\"color\": \"white\"}}, \"header\": {\"fill\": {\"color\": \"#C8D4E3\"}, \"line\": {\"color\": \"white\"}}, \"type\": \"table\"}]}, \"layout\": {\"annotationdefaults\": {\"arrowcolor\": \"#2a3f5f\", \"arrowhead\": 0, \"arrowwidth\": 1}, \"coloraxis\": {\"colorbar\": {\"outlinewidth\": 0, \"ticks\": \"\"}}, \"colorscale\": {\"diverging\": [[0, \"#8e0152\"], [0.1, \"#c51b7d\"], [0.2, \"#de77ae\"], [0.3, \"#f1b6da\"], [0.4, \"#fde0ef\"], [0.5, \"#f7f7f7\"], [0.6, \"#e6f5d0\"], [0.7, \"#b8e186\"], [0.8, \"#7fbc41\"], [0.9, \"#4d9221\"], [1, \"#276419\"]], \"sequential\": [[0.0, \"#0d0887\"], [0.1111111111111111, \"#46039f\"], [0.2222222222222222, \"#7201a8\"], [0.3333333333333333, \"#9c179e\"], [0.4444444444444444, \"#bd3786\"], [0.5555555555555556, \"#d8576b\"], [0.6666666666666666, \"#ed7953\"], [0.7777777777777778, \"#fb9f3a\"], [0.8888888888888888, \"#fdca26\"], [1.0, \"#f0f921\"]], \"sequentialminus\": [[0.0, \"#0d0887\"], [0.1111111111111111, \"#46039f\"], [0.2222222222222222, \"#7201a8\"], [0.3333333333333333, \"#9c179e\"], [0.4444444444444444, \"#bd3786\"], [0.5555555555555556, \"#d8576b\"], [0.6666666666666666, \"#ed7953\"], [0.7777777777777778, \"#fb9f3a\"], [0.8888888888888888, \"#fdca26\"], [1.0, \"#f0f921\"]]}, \"colorway\": [\"#636efa\", \"#EF553B\", \"#00cc96\", \"#ab63fa\", \"#FFA15A\", \"#19d3f3\", \"#FF6692\", \"#B6E880\", \"#FF97FF\", \"#FECB52\"], \"font\": {\"color\": \"#2a3f5f\"}, \"geo\": {\"bgcolor\": \"white\", \"lakecolor\": \"white\", \"landcolor\": \"#E5ECF6\", \"showlakes\": true, \"showland\": true, \"subunitcolor\": \"white\"}, \"hoverlabel\": {\"align\": \"left\"}, \"hovermode\": \"closest\", \"mapbox\": {\"style\": \"light\"}, \"paper_bgcolor\": \"white\", \"plot_bgcolor\": \"#E5ECF6\", \"polar\": {\"angularaxis\": {\"gridcolor\": \"white\", \"linecolor\": \"white\", \"ticks\": \"\"}, \"bgcolor\": \"#E5ECF6\", \"radialaxis\": {\"gridcolor\": \"white\", \"linecolor\": \"white\", \"ticks\": \"\"}}, \"scene\": {\"xaxis\": {\"backgroundcolor\": \"#E5ECF6\", \"gridcolor\": \"white\", \"gridwidth\": 2, \"linecolor\": \"white\", \"showbackground\": true, \"ticks\": \"\", \"zerolinecolor\": \"white\"}, \"yaxis\": {\"backgroundcolor\": \"#E5ECF6\", \"gridcolor\": \"white\", \"gridwidth\": 2, \"linecolor\": \"white\", \"showbackground\": true, \"ticks\": \"\", \"zerolinecolor\": \"white\"}, \"zaxis\": {\"backgroundcolor\": \"#E5ECF6\", \"gridcolor\": \"white\", \"gridwidth\": 2, \"linecolor\": \"white\", \"showbackground\": true, \"ticks\": \"\", \"zerolinecolor\": \"white\"}}, \"shapedefaults\": {\"line\": {\"color\": \"#2a3f5f\"}}, \"ternary\": {\"aaxis\": {\"gridcolor\": \"white\", \"linecolor\": \"white\", \"ticks\": \"\"}, \"baxis\": {\"gridcolor\": \"white\", \"linecolor\": \"white\", \"ticks\": \"\"}, \"bgcolor\": \"#E5ECF6\", \"caxis\": {\"gridcolor\": \"white\", \"linecolor\": \"white\", \"ticks\": \"\"}}, \"title\": {\"x\": 0.05}, \"xaxis\": {\"automargin\": true, \"gridcolor\": \"white\", \"linecolor\": \"white\", \"ticks\": \"\", \"title\": {\"standoff\": 15}, \"zerolinecolor\": \"white\", \"zerolinewidth\": 2}, \"yaxis\": {\"automargin\": true, \"gridcolor\": \"white\", \"linecolor\": \"white\", \"ticks\": \"\", \"title\": {\"standoff\": 15}, \"zerolinecolor\": \"white\", \"zerolinewidth\": 2}}}, \"title\": {\"text\": \"10 Worst hit countries\"}, \"width\": 700, \"xaxis\": {\"anchor\": \"y\", \"categoryarray\": [\"\\u05d1\\u05e0\\u05d9 \\u05d1\\u05e8\\u05e7\", \"\\u05e7\\u05e8\\u05d9\\u05ea \\u05d9\\u05e2\\u05e8\\u05d9\\u05dd\", \"\\u05db\\u05d5\\u05db\\u05d1 \\u05d9\\u05e2\\u05e7\\u05d1\", \"\\u05db\\u05e4\\u05e8 \\u05d7\\u05d1\\\"\\u05d3\", \"\\u05d0\\u05dc\\u05e2\\u05d3\", \"\\u05d0\\u05e4\\u05e8\\u05ea\", \"\\u05de\\u05e6\\u05e4\\u05d4 \\u05e8\\u05de\\u05d5\\u05df\", \"\\u05de\\u05d2\\u05d3\\u05dc \\u05d4\\u05e2\\u05de\\u05e7\", \"\\u05de\\u05d5\\u05d3\\u05d9\\u05e2\\u05d9\\u05df \\u05e2\\u05d9\\u05dc\\u05d9\\u05ea\", \"\\u05d0\\u05d5\\u05e8 \\u05d9\\u05d4\\u05d5\\u05d3\\u05d4\"], \"categoryorder\": \"array\", \"domain\": [0.0, 1.0], \"title\": {\"text\": \"Countries\"}}, \"yaxis\": {\"anchor\": \"x\", \"domain\": [0.0, 1.0], \"title\": {\"text\": \"Confirmed Cases\"}}},\n                        {\"responsive\": true}\n                    ).then(function(){\n                            \nvar gd = document.getElementById('ce15e5e7-08bd-4b83-b8a0-7244a627bc5d');\nvar x = new MutationObserver(function (mutations, observer) {{\n        var display = window.getComputedStyle(gd).display;\n        if (!display || display === 'none') {{\n            console.log([gd, 'removed!']);\n            Plotly.purge(gd);\n            observer.disconnect();\n        }}\n}});\n\n// Listen for the removal of the full notebook cells\nvar notebookContainer = gd.closest('#notebook-container');\nif (notebookContainer) {{\n    x.observe(notebookContainer, {childList: true});\n}}\n\n// Listen for the clearing of the current output cell\nvar outputEl = gd.closest('.output');\nif (outputEl) {{\n    x.observe(outputEl, {childList: true});\n}}\n\n                        })\n                };\n                \n            </script>\n        </div>\n</body>\n</html>"
       }
      ]
     }
    }
   }
  }
 },
 "nbformat": 4,
 "nbformat_minor": 1
}
