{
 "cells": [
  {
   "cell_type": "markdown",
   "metadata": {
    "id": "ZEvKvgHCCwxW"
   },
   "source": [
    "# Ministry of Health PDF parser\n",
    "\n",
    "A simple script to gather PDF files from MOH and parse them into pandas DataFrame.\n",
    "\n",
    "פרסור דו\"חות תחלואה לפי ערים של משרד הבריאות"
   ]
  },
  {
   "cell_type": "markdown",
   "metadata": {
    "id": "PQ3dHcJDDCe0"
   },
   "source": [
    "## Imports and setup"
   ]
  },
  {
   "cell_type": "code",
   "execution_count": 1,
   "metadata": {
    "colab": {
     "base_uri": "https://localhost:8080/",
     "height": 238
    },
    "colab_type": "code",
    "id": "Ty8qz27pCNYE",
    "outputId": "a21a7141-56bf-4202-eb2e-0feb38a4220a"
   },
   "outputs": [],
   "source": [
    "from __future__ import print_function\n",
    "\n",
    "import pandas as pd\n",
    "import tabula\n",
    "import os\n",
    "import numpy as np\n",
    "from pathlib import Path\n",
    "\n",
    "from ipywidgets import interact, interactive, fixed, interact_manual\n",
    "from IPython.core.display import display, HTML\n",
    "import matplotlib.pyplot as plt\n",
    "import plotly.express as px\n",
    "import folium\n",
    "import plotly.graph_objects as go\n",
    "import seaborn as sns\n",
    "import ipywidgets as widgets\n",
    "from pyproj import CRS, Transformer\n",
    "# %pwd"
   ]
  },
  {
   "cell_type": "markdown",
   "metadata": {
    "colab_type": "text",
    "id": "0bCnuHweDMSk"
   },
   "source": [
    "Base URLS:"
   ]
  },
  {
   "cell_type": "code",
   "execution_count": 2,
   "metadata": {
    "id": "y0aqmxakDNqT"
   },
   "outputs": [],
   "source": [
    "report_dir = \"./MOHReports_raw\""
   ]
  },
  {
   "cell_type": "markdown",
   "metadata": {
    "id": "F9MAISeHDHp0"
   },
   "source": [
    "## Individual PDF file parser function"
   ]
  },
  {
   "cell_type": "code",
   "execution_count": 11,
   "metadata": {
    "id": "QJbxy9YUDLpK"
   },
   "outputs": [],
   "source": [
    "def parse_pdf_report(report_url):\n",
    "    #Get data\n",
    "    raw_tables = tabula.read_pdf(report_url, pages=\"all\", stream=False, silent=True, lattice=True)\n",
    "    #Merge to one dataframe\n",
    "    cols =  [\"Rate per 100000\", \"Isolations\", \"Cured\", \"Confirmed\", \"Tested\", \"2018 Population\", \"City\"]\n",
    "    new_cols = {x: y for x, y in zip(raw_tables.columns, cols)}\n",
    "    data = raw_tables.rename(columns = new_cols)\n",
    "    idx = data[\"City\"].fillna(\" \").str.contains(\"בני ברק\").idxmax()\n",
    "    data = data.iloc[idx:-2]\n",
    "    data = data.reset_index(drop=True)\n",
    "    #Deal with nans\n",
    "    data.dropna(axis=0, how='all', inplace=True)\n",
    "    inds = pd.isnull(data).any(1).to_numpy().nonzero()[0]\n",
    " \n",
    "    for ind in inds:\n",
    "        if data['City'][ind] is not np.nan and data['City'][ind+1] is not np.nan: #part of name is here, data is on next row\n",
    "            new_name = data['City'][ind] + \" \" + data['City'][ind+1]\n",
    "            data.at[ind+1, 'City'] = new_name\n",
    "            data.loc[ind, :] = np.nan\n",
    "        elif data['2018 Population'][ind-1] is np.nan and data['2018 Population'][ind+1] is np.nan: #merge three lines\n",
    "            new_name = data['City'][ind-1] + \" \" + data['City'][ind+1]\n",
    "            data.at[ind, 'City'] = new_name\n",
    "            data.loc[[ind-1,ind+1], :] = np.nan\n",
    "    #TODO: make more robust\n",
    "    data.dropna(axis=0, how='all', inplace=True)\n",
    "\n",
    "    #Remove carriage returns in city names\n",
    "    data['City'] = data['City'].str.replace('\\\\r', ' ',).replace('\\s+', ' ', regex=True)\n",
    "#     data['City'] = data['City']\n",
    "\n",
    "    #Convert relevant columns to numbers\n",
    "    numeric_cols = data.columns.drop('City')\n",
    "    data_numeric = data.copy()\n",
    "    data_numeric[numeric_cols] = data[numeric_cols].apply(lambda x: x.astype(str).str.replace(',', ''))\n",
    "    data_numeric[numeric_cols] = data_numeric[numeric_cols].apply(pd.to_numeric, errors='ignore')\n",
    "    return data_numeric"
   ]
  },
  {
   "cell_type": "markdown",
   "metadata": {},
   "source": [
    "Should we export to excel?"
   ]
  },
  {
   "cell_type": "code",
   "execution_count": 4,
   "metadata": {},
   "outputs": [
    {
     "data": {
      "application/vnd.jupyter.widget-view+json": {
       "model_id": "eb3fc41b1527478aa64f17179a83de37",
       "version_major": 2,
       "version_minor": 0
      },
      "text/plain": [
       "interactive(children=(Checkbox(value=False, description='export_to_excel'), Output()), _dom_classes=('widget-i…"
      ]
     },
     "metadata": {},
     "output_type": "display_data"
    }
   ],
   "source": [
    "export_to_excel_glob = False\n",
    "def f(export_to_excel):\n",
    "    global export_to_excel_glob\n",
    "    export_to_excel_glob = export_to_excel\n",
    "#     return x\n",
    "interact(f, export_to_excel=False);"
   ]
  },
  {
   "cell_type": "markdown",
   "metadata": {
    "id": "fatvRzoct_hM"
   },
   "source": [
    "Gather files and parse:"
   ]
  },
  {
   "cell_type": "code",
   "execution_count": 12,
   "metadata": {
    "colab": {
     "base_uri": "https://localhost:8080/",
     "height": 1000
    },
    "colab_type": "code",
    "id": "aeGtk62BuRqp",
    "outputId": "a47ee6d0-a530-41e7-812d-a630d1186524"
   },
   "outputs": [
    {
     "name": "stdout",
     "output_type": "stream",
     "text": [
      "Exporting to Excel\n",
      "2020-04-12\n",
      "2020-04-13\n",
      "2020-04-14\n",
      "2020-04-16\n"
     ]
    }
   ],
   "source": [
    "from datetime import datetime\n",
    "\n",
    "path = Path.cwd() / Path(report_dir)\n",
    "gfiles = path.glob('*.pdf')\n",
    "confirmed_cases = pd.DataFrame(columns = [\"City\"])\n",
    "if export_to_excel_glob:\n",
    "    with pd.ExcelWriter('data_parsed.xlsx') as writer: \n",
    "        print('Exporting to Excel')\n",
    "        for file in gfiles:\n",
    "            url = str(file)\n",
    "            parsed_data = parse_pdf_report(url)\n",
    "            #Export to excel file\n",
    "            result_fn = file.stem\n",
    "            date = datetime.strptime(result_fn, '%Y%m%d').strftime('%Y-%m-%d')\n",
    "            print(date)\n",
    "            tmp = parsed_data.loc[:, [\"City\", \"Confirmed\"]].rename(columns={\"Confirmed\" : date})\n",
    "            confirmed_cases = confirmed_cases.merge(tmp, on=\"City\", how=\"outer\")\n",
    "            parsed_data.to_excel(writer, sheet_name=result_fn)\n",
    "else:\n",
    "    for file in gfiles:\n",
    "        url = str(file)\n",
    "        parsed_data = parse_pdf_report(url)\n",
    "        #Export to excel file\n",
    "        result_fn = file.stem\n",
    "        date = datetime.strptime(result_fn, '%Y%m%d').strftime('%Y-%m-%d')\n",
    "        tmp = parsed_data.loc[:, [\"City\", \"Confirmed\"]].rename(columns={\"Confirmed\" : date})\n",
    "        confirmed_cases = confirmed_cases.merge(tmp, on=\"City\", how=\"outer\")\n",
    "        #TODO: gather other fields in dataframes"
   ]
  },
  {
   "cell_type": "markdown",
   "metadata": {},
   "source": [
    "Display interactive list:"
   ]
  },
  {
   "cell_type": "code",
   "execution_count": 40,
   "metadata": {},
   "outputs": [
    {
     "data": {
      "application/vnd.jupyter.widget-view+json": {
       "model_id": "08f2749b6cd244968107632cfe9ba5be",
       "version_major": 2,
       "version_minor": 0
      },
      "text/plain": [
       "interactive(children=(Text(value='', description='city'), Output()), _dom_classes=('widget-interact',))"
      ]
     },
     "metadata": {},
     "output_type": "display_data"
    }
   ],
   "source": [
    "def show_cases_by_city(city):\n",
    "    return confirmed_cases[confirmed_cases[\"City\"].str.contains(city)]\n",
    "\n",
    "interact(show_cases_by_city, city='')\n",
    "plt.show()"
   ]
  },
  {
   "cell_type": "code",
   "execution_count": 46,
   "metadata": {},
   "outputs": [
    {
     "ename": "AttributeError",
     "evalue": "'str' object has no attribute 'to_string'",
     "output_type": "error",
     "traceback": [
      "\u001b[1;31m---------------------------------------------------------------------------\u001b[0m",
      "\u001b[1;31mAttributeError\u001b[0m                            Traceback (most recent call last)",
      "\u001b[1;32m<ipython-input-46-89e15d499701>\u001b[0m in \u001b[0;36m<module>\u001b[1;34m\u001b[0m\n\u001b[0;32m     13\u001b[0m \u001b[1;31m#     df = pd.DataFrame(data)\u001b[0m\u001b[1;33m\u001b[0m\u001b[1;33m\u001b[0m\u001b[1;33m\u001b[0m\u001b[0m\n\u001b[0;32m     14\u001b[0m \u001b[1;31m#     print(row['City'])\u001b[0m\u001b[1;33m\u001b[0m\u001b[1;33m\u001b[0m\u001b[1;33m\u001b[0m\u001b[0m\n\u001b[1;32m---> 15\u001b[1;33m     \u001b[0mprint\u001b[0m\u001b[1;33m(\u001b[0m\u001b[0mtype\u001b[0m\u001b[1;33m(\u001b[0m\u001b[0mrow\u001b[0m\u001b[1;33m[\u001b[0m\u001b[1;34m'City'\u001b[0m\u001b[1;33m]\u001b[0m\u001b[1;33m.\u001b[0m\u001b[0mto_string\u001b[0m\u001b[1;33m(\u001b[0m\u001b[1;33m)\u001b[0m\u001b[1;33m)\u001b[0m\u001b[1;33m)\u001b[0m\u001b[1;33m\u001b[0m\u001b[1;33m\u001b[0m\u001b[0m\n\u001b[0m\u001b[0;32m     16\u001b[0m \u001b[1;33m\u001b[0m\u001b[0m\n",
      "\u001b[1;31mAttributeError\u001b[0m: 'str' object has no attribute 'to_string'"
     ]
    }
   ],
   "source": [
    "# parsed_data = parse_pdf_report(\"./MOHReports_raw/20200416.pdf\")\n",
    "# def show_cases_by_city(city):\n",
    "#     return parsed_data[parsed_data[\"City\"].str.contains(city)]\n",
    "\n",
    "# interact(show_cases_by_city, city='')\n",
    "# plt.show()\n",
    "# print(confirmed_cases.at[111, \"City\"])\n",
    "# print(confirmed_cases.at[196, \"City\"])\n",
    "# dates_str = confirmed_cases.columns.to_list()\n",
    "# dates_str.remove('City')\n",
    "# x = [datetime.strptime(s, '%Y-%m-%d') for s in dates_str]\n",
    "for _,row in confirmed_cases.head(10).iterrows():\n",
    "#     df = pd.DataFrame(data)\n",
    "#     print(row['City'])\n",
    "    print(type(row['City']))\n",
    "    "
   ]
  },
  {
   "cell_type": "markdown",
   "metadata": {
    "id": "QoRgQzqMxtFT"
   },
   "source": [
    "Display interactively:"
   ]
  },
  {
   "cell_type": "code",
   "execution_count": 59,
   "metadata": {
    "colab": {
     "base_uri": "https://localhost:8080/",
     "height": 49,
     "referenced_widgets": [
      "6a3ad954440a4ad7ba4c2ba350d9617a",
      "4623b62446d14eaaa40b94a45cb552d4",
      "34eef80e1d4042d6a721c083763d6e36",
      "a0d1db1b15624ab9bcdc0ef487590f84",
      "8f59a3c72c45467a96812024a696c4fe",
      "429ccffcdbf941e4aadb443b277377bd",
      "5b521e77f25f41f09c07f170238b4182"
     ]
    },
    "colab_type": "code",
    "id": "-2d6-63Txu0C",
    "outputId": "92a22ed7-0def-4ef8-b905-e35cd5ff47b6"
   },
   "outputs": [
    {
     "data": {
      "text/html": [
       "\n",
       "    <div class=\"bk-root\">\n",
       "        <a href=\"https://bokeh.org\" target=\"_blank\" class=\"bk-logo bk-logo-small bk-logo-notebook\"></a>\n",
       "        <span id=\"5055\">Loading BokehJS ...</span>\n",
       "    </div>"
      ]
     },
     "metadata": {},
     "output_type": "display_data"
    },
    {
     "data": {
      "application/javascript": [
       "\n",
       "(function(root) {\n",
       "  function now() {\n",
       "    return new Date();\n",
       "  }\n",
       "\n",
       "  var force = true;\n",
       "\n",
       "  if (typeof root._bokeh_onload_callbacks === \"undefined\" || force === true) {\n",
       "    root._bokeh_onload_callbacks = [];\n",
       "    root._bokeh_is_loading = undefined;\n",
       "  }\n",
       "\n",
       "  var JS_MIME_TYPE = 'application/javascript';\n",
       "  var HTML_MIME_TYPE = 'text/html';\n",
       "  var EXEC_MIME_TYPE = 'application/vnd.bokehjs_exec.v0+json';\n",
       "  var CLASS_NAME = 'output_bokeh rendered_html';\n",
       "\n",
       "  /**\n",
       "   * Render data to the DOM node\n",
       "   */\n",
       "  function render(props, node) {\n",
       "    var script = document.createElement(\"script\");\n",
       "    node.appendChild(script);\n",
       "  }\n",
       "\n",
       "  /**\n",
       "   * Handle when an output is cleared or removed\n",
       "   */\n",
       "  function handleClearOutput(event, handle) {\n",
       "    var cell = handle.cell;\n",
       "\n",
       "    var id = cell.output_area._bokeh_element_id;\n",
       "    var server_id = cell.output_area._bokeh_server_id;\n",
       "    // Clean up Bokeh references\n",
       "    if (id != null && id in Bokeh.index) {\n",
       "      Bokeh.index[id].model.document.clear();\n",
       "      delete Bokeh.index[id];\n",
       "    }\n",
       "\n",
       "    if (server_id !== undefined) {\n",
       "      // Clean up Bokeh references\n",
       "      var cmd = \"from bokeh.io.state import curstate; print(curstate().uuid_to_server['\" + server_id + \"'].get_sessions()[0].document.roots[0]._id)\";\n",
       "      cell.notebook.kernel.execute(cmd, {\n",
       "        iopub: {\n",
       "          output: function(msg) {\n",
       "            var id = msg.content.text.trim();\n",
       "            if (id in Bokeh.index) {\n",
       "              Bokeh.index[id].model.document.clear();\n",
       "              delete Bokeh.index[id];\n",
       "            }\n",
       "          }\n",
       "        }\n",
       "      });\n",
       "      // Destroy server and session\n",
       "      var cmd = \"import bokeh.io.notebook as ion; ion.destroy_server('\" + server_id + \"')\";\n",
       "      cell.notebook.kernel.execute(cmd);\n",
       "    }\n",
       "  }\n",
       "\n",
       "  /**\n",
       "   * Handle when a new output is added\n",
       "   */\n",
       "  function handleAddOutput(event, handle) {\n",
       "    var output_area = handle.output_area;\n",
       "    var output = handle.output;\n",
       "\n",
       "    // limit handleAddOutput to display_data with EXEC_MIME_TYPE content only\n",
       "    if ((output.output_type != \"display_data\") || (!output.data.hasOwnProperty(EXEC_MIME_TYPE))) {\n",
       "      return\n",
       "    }\n",
       "\n",
       "    var toinsert = output_area.element.find(\".\" + CLASS_NAME.split(' ')[0]);\n",
       "\n",
       "    if (output.metadata[EXEC_MIME_TYPE][\"id\"] !== undefined) {\n",
       "      toinsert[toinsert.length - 1].firstChild.textContent = output.data[JS_MIME_TYPE];\n",
       "      // store reference to embed id on output_area\n",
       "      output_area._bokeh_element_id = output.metadata[EXEC_MIME_TYPE][\"id\"];\n",
       "    }\n",
       "    if (output.metadata[EXEC_MIME_TYPE][\"server_id\"] !== undefined) {\n",
       "      var bk_div = document.createElement(\"div\");\n",
       "      bk_div.innerHTML = output.data[HTML_MIME_TYPE];\n",
       "      var script_attrs = bk_div.children[0].attributes;\n",
       "      for (var i = 0; i < script_attrs.length; i++) {\n",
       "        toinsert[toinsert.length - 1].firstChild.setAttribute(script_attrs[i].name, script_attrs[i].value);\n",
       "        toinsert[toinsert.length - 1].firstChild.textContent = bk_div.children[0].textContent\n",
       "      }\n",
       "      // store reference to server id on output_area\n",
       "      output_area._bokeh_server_id = output.metadata[EXEC_MIME_TYPE][\"server_id\"];\n",
       "    }\n",
       "  }\n",
       "\n",
       "  function register_renderer(events, OutputArea) {\n",
       "\n",
       "    function append_mime(data, metadata, element) {\n",
       "      // create a DOM node to render to\n",
       "      var toinsert = this.create_output_subarea(\n",
       "        metadata,\n",
       "        CLASS_NAME,\n",
       "        EXEC_MIME_TYPE\n",
       "      );\n",
       "      this.keyboard_manager.register_events(toinsert);\n",
       "      // Render to node\n",
       "      var props = {data: data, metadata: metadata[EXEC_MIME_TYPE]};\n",
       "      render(props, toinsert[toinsert.length - 1]);\n",
       "      element.append(toinsert);\n",
       "      return toinsert\n",
       "    }\n",
       "\n",
       "    /* Handle when an output is cleared or removed */\n",
       "    events.on('clear_output.CodeCell', handleClearOutput);\n",
       "    events.on('delete.Cell', handleClearOutput);\n",
       "\n",
       "    /* Handle when a new output is added */\n",
       "    events.on('output_added.OutputArea', handleAddOutput);\n",
       "\n",
       "    /**\n",
       "     * Register the mime type and append_mime function with output_area\n",
       "     */\n",
       "    OutputArea.prototype.register_mime_type(EXEC_MIME_TYPE, append_mime, {\n",
       "      /* Is output safe? */\n",
       "      safe: true,\n",
       "      /* Index of renderer in `output_area.display_order` */\n",
       "      index: 0\n",
       "    });\n",
       "  }\n",
       "\n",
       "  // register the mime type if in Jupyter Notebook environment and previously unregistered\n",
       "  if (root.Jupyter !== undefined) {\n",
       "    var events = require('base/js/events');\n",
       "    var OutputArea = require('notebook/js/outputarea').OutputArea;\n",
       "\n",
       "    if (OutputArea.prototype.mime_types().indexOf(EXEC_MIME_TYPE) == -1) {\n",
       "      register_renderer(events, OutputArea);\n",
       "    }\n",
       "  }\n",
       "\n",
       "  \n",
       "  if (typeof (root._bokeh_timeout) === \"undefined\" || force === true) {\n",
       "    root._bokeh_timeout = Date.now() + 5000;\n",
       "    root._bokeh_failed_load = false;\n",
       "  }\n",
       "\n",
       "  var NB_LOAD_WARNING = {'data': {'text/html':\n",
       "     \"<div style='background-color: #fdd'>\\n\"+\n",
       "     \"<p>\\n\"+\n",
       "     \"BokehJS does not appear to have successfully loaded. If loading BokehJS from CDN, this \\n\"+\n",
       "     \"may be due to a slow or bad network connection. Possible fixes:\\n\"+\n",
       "     \"</p>\\n\"+\n",
       "     \"<ul>\\n\"+\n",
       "     \"<li>re-rerun `output_notebook()` to attempt to load from CDN again, or</li>\\n\"+\n",
       "     \"<li>use INLINE resources instead, as so:</li>\\n\"+\n",
       "     \"</ul>\\n\"+\n",
       "     \"<code>\\n\"+\n",
       "     \"from bokeh.resources import INLINE\\n\"+\n",
       "     \"output_notebook(resources=INLINE)\\n\"+\n",
       "     \"</code>\\n\"+\n",
       "     \"</div>\"}};\n",
       "\n",
       "  function display_loaded() {\n",
       "    var el = document.getElementById(\"5055\");\n",
       "    if (el != null) {\n",
       "      el.textContent = \"BokehJS is loading...\";\n",
       "    }\n",
       "    if (root.Bokeh !== undefined) {\n",
       "      if (el != null) {\n",
       "        el.textContent = \"BokehJS \" + root.Bokeh.version + \" successfully loaded.\";\n",
       "      }\n",
       "    } else if (Date.now() < root._bokeh_timeout) {\n",
       "      setTimeout(display_loaded, 100)\n",
       "    }\n",
       "  }\n",
       "\n",
       "\n",
       "  function run_callbacks() {\n",
       "    try {\n",
       "      root._bokeh_onload_callbacks.forEach(function(callback) {\n",
       "        if (callback != null)\n",
       "          callback();\n",
       "      });\n",
       "    } finally {\n",
       "      delete root._bokeh_onload_callbacks\n",
       "    }\n",
       "    console.debug(\"Bokeh: all callbacks have finished\");\n",
       "  }\n",
       "\n",
       "  function load_libs(css_urls, js_urls, callback) {\n",
       "    if (css_urls == null) css_urls = [];\n",
       "    if (js_urls == null) js_urls = [];\n",
       "\n",
       "    root._bokeh_onload_callbacks.push(callback);\n",
       "    if (root._bokeh_is_loading > 0) {\n",
       "      console.debug(\"Bokeh: BokehJS is being loaded, scheduling callback at\", now());\n",
       "      return null;\n",
       "    }\n",
       "    if (js_urls == null || js_urls.length === 0) {\n",
       "      run_callbacks();\n",
       "      return null;\n",
       "    }\n",
       "    console.debug(\"Bokeh: BokehJS not loaded, scheduling load and callback at\", now());\n",
       "    root._bokeh_is_loading = css_urls.length + js_urls.length;\n",
       "\n",
       "    function on_load() {\n",
       "      root._bokeh_is_loading--;\n",
       "      if (root._bokeh_is_loading === 0) {\n",
       "        console.debug(\"Bokeh: all BokehJS libraries/stylesheets loaded\");\n",
       "        run_callbacks()\n",
       "      }\n",
       "    }\n",
       "\n",
       "    function on_error() {\n",
       "      console.error(\"failed to load \" + url);\n",
       "    }\n",
       "\n",
       "    for (var i = 0; i < css_urls.length; i++) {\n",
       "      var url = css_urls[i];\n",
       "      const element = document.createElement(\"link\");\n",
       "      element.onload = on_load;\n",
       "      element.onerror = on_error;\n",
       "      element.rel = \"stylesheet\";\n",
       "      element.type = \"text/css\";\n",
       "      element.href = url;\n",
       "      console.debug(\"Bokeh: injecting link tag for BokehJS stylesheet: \", url);\n",
       "      document.body.appendChild(element);\n",
       "    }\n",
       "\n",
       "    const hashes = {\"https://cdn.bokeh.org/bokeh/release/bokeh-2.0.1.min.js\": \"JpP8FXbgAZLkfur7LiK3j9AGBhHNIvF742meBJrjO2ShJDhCG2I1uVvW+0DUtrmc\", \"https://cdn.bokeh.org/bokeh/release/bokeh-widgets-2.0.1.min.js\": \"xZlADit0Q04ISQEdKg2k3L4W9AwQBAuDs9nJL9fM/WwzL1tEU9VPNezOFX0nLEAz\", \"https://cdn.bokeh.org/bokeh/release/bokeh-tables-2.0.1.min.js\": \"4BuPRZkdMKSnj3zoxiNrQ86XgNw0rYmBOxe7nshquXwwcauupgBF2DHLVG1WuZlV\", \"https://cdn.bokeh.org/bokeh/release/bokeh-gl-2.0.1.min.js\": \"Dv1SQ87hmDqK6S5OhBf0bCuwAEvL5QYL0PuR/F1SPVhCS/r/abjkbpKDYL2zeM19\"};\n",
       "\n",
       "    for (var i = 0; i < js_urls.length; i++) {\n",
       "      var url = js_urls[i];\n",
       "      var element = document.createElement('script');\n",
       "      element.onload = on_load;\n",
       "      element.onerror = on_error;\n",
       "      element.async = false;\n",
       "      element.src = url;\n",
       "      if (url in hashes) {\n",
       "        element.crossOrigin = \"anonymous\";\n",
       "        element.integrity = \"sha384-\" + hashes[url];\n",
       "      }\n",
       "      console.debug(\"Bokeh: injecting script tag for BokehJS library: \", url);\n",
       "      document.head.appendChild(element);\n",
       "    }\n",
       "  };var element = document.getElementById(\"5055\");\n",
       "  if (element == null) {\n",
       "    console.error(\"Bokeh: ERROR: autoload.js configured with elementid '5055' but no matching script tag was found. \")\n",
       "    return false;\n",
       "  }\n",
       "\n",
       "  function inject_raw_css(css) {\n",
       "    const element = document.createElement(\"style\");\n",
       "    element.appendChild(document.createTextNode(css));\n",
       "    document.body.appendChild(element);\n",
       "  }\n",
       "\n",
       "  \n",
       "  var js_urls = [\"https://cdn.bokeh.org/bokeh/release/bokeh-2.0.1.min.js\", \"https://cdn.bokeh.org/bokeh/release/bokeh-widgets-2.0.1.min.js\", \"https://cdn.bokeh.org/bokeh/release/bokeh-tables-2.0.1.min.js\", \"https://cdn.bokeh.org/bokeh/release/bokeh-gl-2.0.1.min.js\"];\n",
       "  var css_urls = [];\n",
       "  \n",
       "\n",
       "  var inline_js = [\n",
       "    function(Bokeh) {\n",
       "      Bokeh.set_log_level(\"info\");\n",
       "    },\n",
       "    function(Bokeh) {\n",
       "    \n",
       "    \n",
       "    }\n",
       "  ];\n",
       "\n",
       "  function run_inline_js() {\n",
       "    \n",
       "    if (root.Bokeh !== undefined || force === true) {\n",
       "      \n",
       "    for (var i = 0; i < inline_js.length; i++) {\n",
       "      inline_js[i].call(root, root.Bokeh);\n",
       "    }\n",
       "    if (force === true) {\n",
       "        display_loaded();\n",
       "      }} else if (Date.now() < root._bokeh_timeout) {\n",
       "      setTimeout(run_inline_js, 100);\n",
       "    } else if (!root._bokeh_failed_load) {\n",
       "      console.log(\"Bokeh: BokehJS failed to load within specified timeout.\");\n",
       "      root._bokeh_failed_load = true;\n",
       "    } else if (force !== true) {\n",
       "      var cell = $(document.getElementById(\"5055\")).parents('.cell').data().cell;\n",
       "      cell.output_area.append_execute_result(NB_LOAD_WARNING)\n",
       "    }\n",
       "\n",
       "  }\n",
       "\n",
       "  if (root._bokeh_is_loading === 0) {\n",
       "    console.debug(\"Bokeh: BokehJS loaded, going straight to plotting\");\n",
       "    run_inline_js();\n",
       "  } else {\n",
       "    load_libs(css_urls, js_urls, function() {\n",
       "      console.debug(\"Bokeh: BokehJS plotting callback run at\", now());\n",
       "      run_inline_js();\n",
       "    });\n",
       "  }\n",
       "}(window));"
      ],
      "application/vnd.bokehjs_load.v0+json": "\n(function(root) {\n  function now() {\n    return new Date();\n  }\n\n  var force = true;\n\n  if (typeof root._bokeh_onload_callbacks === \"undefined\" || force === true) {\n    root._bokeh_onload_callbacks = [];\n    root._bokeh_is_loading = undefined;\n  }\n\n  \n\n  \n  if (typeof (root._bokeh_timeout) === \"undefined\" || force === true) {\n    root._bokeh_timeout = Date.now() + 5000;\n    root._bokeh_failed_load = false;\n  }\n\n  var NB_LOAD_WARNING = {'data': {'text/html':\n     \"<div style='background-color: #fdd'>\\n\"+\n     \"<p>\\n\"+\n     \"BokehJS does not appear to have successfully loaded. If loading BokehJS from CDN, this \\n\"+\n     \"may be due to a slow or bad network connection. Possible fixes:\\n\"+\n     \"</p>\\n\"+\n     \"<ul>\\n\"+\n     \"<li>re-rerun `output_notebook()` to attempt to load from CDN again, or</li>\\n\"+\n     \"<li>use INLINE resources instead, as so:</li>\\n\"+\n     \"</ul>\\n\"+\n     \"<code>\\n\"+\n     \"from bokeh.resources import INLINE\\n\"+\n     \"output_notebook(resources=INLINE)\\n\"+\n     \"</code>\\n\"+\n     \"</div>\"}};\n\n  function display_loaded() {\n    var el = document.getElementById(\"5055\");\n    if (el != null) {\n      el.textContent = \"BokehJS is loading...\";\n    }\n    if (root.Bokeh !== undefined) {\n      if (el != null) {\n        el.textContent = \"BokehJS \" + root.Bokeh.version + \" successfully loaded.\";\n      }\n    } else if (Date.now() < root._bokeh_timeout) {\n      setTimeout(display_loaded, 100)\n    }\n  }\n\n\n  function run_callbacks() {\n    try {\n      root._bokeh_onload_callbacks.forEach(function(callback) {\n        if (callback != null)\n          callback();\n      });\n    } finally {\n      delete root._bokeh_onload_callbacks\n    }\n    console.debug(\"Bokeh: all callbacks have finished\");\n  }\n\n  function load_libs(css_urls, js_urls, callback) {\n    if (css_urls == null) css_urls = [];\n    if (js_urls == null) js_urls = [];\n\n    root._bokeh_onload_callbacks.push(callback);\n    if (root._bokeh_is_loading > 0) {\n      console.debug(\"Bokeh: BokehJS is being loaded, scheduling callback at\", now());\n      return null;\n    }\n    if (js_urls == null || js_urls.length === 0) {\n      run_callbacks();\n      return null;\n    }\n    console.debug(\"Bokeh: BokehJS not loaded, scheduling load and callback at\", now());\n    root._bokeh_is_loading = css_urls.length + js_urls.length;\n\n    function on_load() {\n      root._bokeh_is_loading--;\n      if (root._bokeh_is_loading === 0) {\n        console.debug(\"Bokeh: all BokehJS libraries/stylesheets loaded\");\n        run_callbacks()\n      }\n    }\n\n    function on_error() {\n      console.error(\"failed to load \" + url);\n    }\n\n    for (var i = 0; i < css_urls.length; i++) {\n      var url = css_urls[i];\n      const element = document.createElement(\"link\");\n      element.onload = on_load;\n      element.onerror = on_error;\n      element.rel = \"stylesheet\";\n      element.type = \"text/css\";\n      element.href = url;\n      console.debug(\"Bokeh: injecting link tag for BokehJS stylesheet: \", url);\n      document.body.appendChild(element);\n    }\n\n    const hashes = {\"https://cdn.bokeh.org/bokeh/release/bokeh-2.0.1.min.js\": \"JpP8FXbgAZLkfur7LiK3j9AGBhHNIvF742meBJrjO2ShJDhCG2I1uVvW+0DUtrmc\", \"https://cdn.bokeh.org/bokeh/release/bokeh-widgets-2.0.1.min.js\": \"xZlADit0Q04ISQEdKg2k3L4W9AwQBAuDs9nJL9fM/WwzL1tEU9VPNezOFX0nLEAz\", \"https://cdn.bokeh.org/bokeh/release/bokeh-tables-2.0.1.min.js\": \"4BuPRZkdMKSnj3zoxiNrQ86XgNw0rYmBOxe7nshquXwwcauupgBF2DHLVG1WuZlV\", \"https://cdn.bokeh.org/bokeh/release/bokeh-gl-2.0.1.min.js\": \"Dv1SQ87hmDqK6S5OhBf0bCuwAEvL5QYL0PuR/F1SPVhCS/r/abjkbpKDYL2zeM19\"};\n\n    for (var i = 0; i < js_urls.length; i++) {\n      var url = js_urls[i];\n      var element = document.createElement('script');\n      element.onload = on_load;\n      element.onerror = on_error;\n      element.async = false;\n      element.src = url;\n      if (url in hashes) {\n        element.crossOrigin = \"anonymous\";\n        element.integrity = \"sha384-\" + hashes[url];\n      }\n      console.debug(\"Bokeh: injecting script tag for BokehJS library: \", url);\n      document.head.appendChild(element);\n    }\n  };var element = document.getElementById(\"5055\");\n  if (element == null) {\n    console.error(\"Bokeh: ERROR: autoload.js configured with elementid '5055' but no matching script tag was found. \")\n    return false;\n  }\n\n  function inject_raw_css(css) {\n    const element = document.createElement(\"style\");\n    element.appendChild(document.createTextNode(css));\n    document.body.appendChild(element);\n  }\n\n  \n  var js_urls = [\"https://cdn.bokeh.org/bokeh/release/bokeh-2.0.1.min.js\", \"https://cdn.bokeh.org/bokeh/release/bokeh-widgets-2.0.1.min.js\", \"https://cdn.bokeh.org/bokeh/release/bokeh-tables-2.0.1.min.js\", \"https://cdn.bokeh.org/bokeh/release/bokeh-gl-2.0.1.min.js\"];\n  var css_urls = [];\n  \n\n  var inline_js = [\n    function(Bokeh) {\n      Bokeh.set_log_level(\"info\");\n    },\n    function(Bokeh) {\n    \n    \n    }\n  ];\n\n  function run_inline_js() {\n    \n    if (root.Bokeh !== undefined || force === true) {\n      \n    for (var i = 0; i < inline_js.length; i++) {\n      inline_js[i].call(root, root.Bokeh);\n    }\n    if (force === true) {\n        display_loaded();\n      }} else if (Date.now() < root._bokeh_timeout) {\n      setTimeout(run_inline_js, 100);\n    } else if (!root._bokeh_failed_load) {\n      console.log(\"Bokeh: BokehJS failed to load within specified timeout.\");\n      root._bokeh_failed_load = true;\n    } else if (force !== true) {\n      var cell = $(document.getElementById(\"5055\")).parents('.cell').data().cell;\n      cell.output_area.append_execute_result(NB_LOAD_WARNING)\n    }\n\n  }\n\n  if (root._bokeh_is_loading === 0) {\n    console.debug(\"Bokeh: BokehJS loaded, going straight to plotting\");\n    run_inline_js();\n  } else {\n    load_libs(css_urls, js_urls, function() {\n      console.debug(\"Bokeh: BokehJS plotting callback run at\", now());\n      run_inline_js();\n    });\n  }\n}(window));"
     },
     "metadata": {},
     "output_type": "display_data"
    },
    {
     "data": {
      "text/html": [
       "\n",
       "\n",
       "\n",
       "\n",
       "\n",
       "\n",
       "  <div class=\"bk-root\" id=\"d767a82b-099c-4a28-a9c3-47792a1c19b6\" data-root-id=\"4682\"></div>\n"
      ]
     },
     "metadata": {},
     "output_type": "display_data"
    },
    {
     "data": {
      "application/javascript": [
       "(function(root) {\n",
       "  function embed_document(root) {\n",
       "    \n",
       "  var docs_json = {\"9dcfd445-b138-47c7-970d-d052afc8232c\":{\"roots\":{\"references\":[{\"attributes\":{\"below\":[{\"id\":\"4691\"}],\"center\":[{\"id\":\"4694\"},{\"id\":\"4698\"},{\"id\":\"4738\"}],\"left\":[{\"id\":\"4695\"}],\"plot_height\":500,\"plot_width\":800,\"renderers\":[{\"id\":\"4717\"},{\"id\":\"4743\"},{\"id\":\"4770\"},{\"id\":\"4799\"},{\"id\":\"4830\"},{\"id\":\"4863\"},{\"id\":\"4898\"},{\"id\":\"4935\"},{\"id\":\"4974\"},{\"id\":\"5015\"}],\"title\":{\"id\":\"4713\"},\"toolbar\":{\"id\":\"4706\"},\"x_range\":{\"id\":\"4683\"},\"x_scale\":{\"id\":\"4687\"},\"y_range\":{\"id\":\"4685\"},\"y_scale\":{\"id\":\"4689\"}},\"id\":\"4682\",\"subtype\":\"Figure\",\"type\":\"Plot\"},{\"attributes\":{\"label\":{\"value\":\"\\u05de\\u05d5\\u05d3\\u05d9\\u05e2\\u05d9\\u05df \\u05e2\\u05d9\\u05dc\\u05d9\\u05ea\"},\"renderers\":[{\"id\":\"5015\"}]},\"id\":\"5054\",\"type\":\"LegendItem\"},{\"attributes\":{\"line_alpha\":0.8,\"line_color\":\"#d53e4f\",\"line_width\":2,\"x\":{\"field\":\"x\"},\"y\":{\"field\":\"y\"}},\"id\":\"4972\",\"type\":\"Line\"},{\"attributes\":{},\"id\":\"4736\",\"type\":\"YearsTicker\"},{\"attributes\":{\"line_alpha\":0.8,\"line_color\":\"#e6f598\",\"line_width\":2,\"x\":{\"field\":\"x\"},\"y\":{\"field\":\"y\"}},\"id\":\"4828\",\"type\":\"Line\"},{\"attributes\":{},\"id\":\"4880\",\"type\":\"UnionRenderers\"},{\"attributes\":{\"line_alpha\":0.8,\"line_color\":\"#f46d43\",\"line_width\":2,\"x\":{\"field\":\"x\"},\"y\":{\"field\":\"y\"}},\"id\":\"4933\",\"type\":\"Line\"},{\"attributes\":{\"data_source\":{\"id\":\"4932\"},\"glyph\":{\"id\":\"4933\"},\"hover_glyph\":null,\"muted_glyph\":null,\"nonselection_glyph\":{\"id\":\"4934\"},\"selection_glyph\":null,\"view\":{\"id\":\"4936\"}},\"id\":\"4935\",\"type\":\"GlyphRenderer\"},{\"attributes\":{\"data_source\":{\"id\":\"4740\"},\"glyph\":{\"id\":\"4741\"},\"hover_glyph\":null,\"muted_glyph\":null,\"nonselection_glyph\":{\"id\":\"4742\"},\"selection_glyph\":null,\"view\":{\"id\":\"4744\"}},\"id\":\"4743\",\"type\":\"GlyphRenderer\"},{\"attributes\":{},\"id\":\"4996\",\"type\":\"Selection\"},{\"attributes\":{},\"id\":\"4916\",\"type\":\"Selection\"},{\"attributes\":{\"line_alpha\":0.1,\"line_color\":\"#d53e4f\",\"line_width\":2,\"x\":{\"field\":\"x\"},\"y\":{\"field\":\"y\"}},\"id\":\"4973\",\"type\":\"Line\"},{\"attributes\":{},\"id\":\"4879\",\"type\":\"Selection\"},{\"attributes\":{},\"id\":\"4751\",\"type\":\"Selection\"},{\"attributes\":{\"source\":{\"id\":\"4740\"}},\"id\":\"4744\",\"type\":\"CDSView\"},{\"attributes\":{},\"id\":\"4845\",\"type\":\"UnionRenderers\"},{\"attributes\":{\"data\":{\"x\":[1586649600000.0,1586736000000.0,1586822400000.0,1586995200000.0],\"y\":[64.0,64.0,64.0,64.0]},\"selected\":{\"id\":\"4879\"},\"selection_policy\":{\"id\":\"4880\"}},\"id\":\"4827\",\"type\":\"ColumnDataSource\"},{\"attributes\":{\"label\":{\"value\":\"\\u05d1\\u05e0\\u05d9 \\u05d1\\u05e8\\u05e7\"},\"renderers\":[{\"id\":\"4717\"}]},\"id\":\"4739\",\"type\":\"LegendItem\"},{\"attributes\":{\"click_policy\":\"hide\",\"items\":[{\"id\":\"4739\"},{\"id\":\"4766\"},{\"id\":\"4795\"},{\"id\":\"4826\"},{\"id\":\"4859\"},{\"id\":\"4894\"},{\"id\":\"4931\"},{\"id\":\"4970\"},{\"id\":\"5011\"},{\"id\":\"5054\"}],\"location\":\"top_left\"},\"id\":\"4738\",\"type\":\"Legend\"},{\"attributes\":{},\"id\":\"4917\",\"type\":\"UnionRenderers\"},{\"attributes\":{\"data_source\":{\"id\":\"4827\"},\"glyph\":{\"id\":\"4828\"},\"hover_glyph\":null,\"muted_glyph\":null,\"nonselection_glyph\":{\"id\":\"4829\"},\"selection_glyph\":null,\"view\":{\"id\":\"4831\"}},\"id\":\"4830\",\"type\":\"GlyphRenderer\"},{\"attributes\":{\"text\":\"Click on legend entries to hide the corresponding lines\"},\"id\":\"4713\",\"type\":\"Title\"},{\"attributes\":{\"line_alpha\":0.1,\"line_color\":\"#fdae61\",\"line_width\":2,\"x\":{\"field\":\"x\"},\"y\":{\"field\":\"y\"}},\"id\":\"4897\",\"type\":\"Line\"},{\"attributes\":{\"line_alpha\":0.1,\"line_color\":\"#f46d43\",\"line_width\":2,\"x\":{\"field\":\"x\"},\"y\":{\"field\":\"y\"}},\"id\":\"4934\",\"type\":\"Line\"},{\"attributes\":{\"label\":{\"value\":\"\\u05d8\\u05d1\\u05e8\\u05d9\\u05d4\"},\"renderers\":[{\"id\":\"4974\"}]},\"id\":\"5011\",\"type\":\"LegendItem\"},{\"attributes\":{\"data\":{\"x\":[1586649600000.0,1586736000000.0,1586822400000.0,1586995200000.0],\"y\":[206.0,218.0,239.0,261.0]},\"selected\":{\"id\":\"5080\"},\"selection_policy\":{\"id\":\"5081\"}},\"id\":\"5012\",\"type\":\"ColumnDataSource\"},{\"attributes\":{\"line_alpha\":0.8,\"line_color\":\"#abdda4\",\"line_width\":2,\"x\":{\"field\":\"x\"},\"y\":{\"field\":\"y\"}},\"id\":\"4797\",\"type\":\"Line\"},{\"attributes\":{\"months\":[0,6]},\"id\":\"4735\",\"type\":\"MonthsTicker\"},{\"attributes\":{},\"id\":\"4752\",\"type\":\"UnionRenderers\"},{\"attributes\":{\"line_alpha\":0.1,\"line_color\":\"#3288bd\",\"line_width\":2,\"x\":{\"field\":\"x\"},\"y\":{\"field\":\"y\"}},\"id\":\"4742\",\"type\":\"Line\"},{\"attributes\":{\"line_alpha\":0.8,\"line_color\":\"#fdae61\",\"line_width\":2,\"x\":{\"field\":\"x\"},\"y\":{\"field\":\"y\"}},\"id\":\"4896\",\"type\":\"Line\"},{\"attributes\":{\"source\":{\"id\":\"4932\"}},\"id\":\"4936\",\"type\":\"CDSView\"},{\"attributes\":{\"data_source\":{\"id\":\"4971\"},\"glyph\":{\"id\":\"4972\"},\"hover_glyph\":null,\"muted_glyph\":null,\"nonselection_glyph\":{\"id\":\"4973\"},\"selection_glyph\":null,\"view\":{\"id\":\"4975\"}},\"id\":\"4974\",\"type\":\"GlyphRenderer\"},{\"attributes\":{\"data\":{\"x\":[1586649600000.0,1586736000000.0,1586822400000.0,1586995200000.0],\"y\":[130.0,133.0,134.0,144.0]},\"selected\":{\"id\":\"5039\"},\"selection_policy\":{\"id\":\"5040\"}},\"id\":\"4971\",\"type\":\"ColumnDataSource\"},{\"attributes\":{},\"id\":\"4685\",\"type\":\"DataRange1d\"},{\"attributes\":{},\"id\":\"5039\",\"type\":\"Selection\"},{\"attributes\":{},\"id\":\"4687\",\"type\":\"LinearScale\"},{\"attributes\":{\"line_alpha\":0.8,\"line_color\":\"#3288bd\",\"line_width\":2,\"x\":{\"field\":\"x\"},\"y\":{\"field\":\"y\"}},\"id\":\"4741\",\"type\":\"Line\"},{\"attributes\":{},\"id\":\"4997\",\"type\":\"UnionRenderers\"},{\"attributes\":{},\"id\":\"4955\",\"type\":\"Selection\"},{\"attributes\":{},\"id\":\"4683\",\"type\":\"DataRange1d\"},{\"attributes\":{},\"id\":\"4844\",\"type\":\"Selection\"},{\"attributes\":{\"source\":{\"id\":\"4714\"}},\"id\":\"4718\",\"type\":\"CDSView\"},{\"attributes\":{\"data_source\":{\"id\":\"4714\"},\"glyph\":{\"id\":\"4715\"},\"hover_glyph\":null,\"muted_glyph\":null,\"nonselection_glyph\":{\"id\":\"4716\"},\"selection_glyph\":null,\"view\":{\"id\":\"4718\"}},\"id\":\"4717\",\"type\":\"GlyphRenderer\"},{\"attributes\":{\"data_source\":{\"id\":\"5012\"},\"glyph\":{\"id\":\"5013\"},\"hover_glyph\":null,\"muted_glyph\":null,\"nonselection_glyph\":{\"id\":\"5014\"},\"selection_glyph\":null,\"view\":{\"id\":\"5016\"}},\"id\":\"5015\",\"type\":\"GlyphRenderer\"},{\"attributes\":{},\"id\":\"4721\",\"type\":\"BasicTickFormatter\"},{\"attributes\":{},\"id\":\"4689\",\"type\":\"LinearScale\"},{\"attributes\":{\"label\":{\"value\":\"\\u05d0\\u05e4\\u05e8\\u05ea\"},\"renderers\":[{\"id\":\"4830\"}]},\"id\":\"4859\",\"type\":\"LegendItem\"},{\"attributes\":{\"formatter\":{\"id\":\"4723\"},\"ticker\":{\"id\":\"4692\"}},\"id\":\"4691\",\"type\":\"DatetimeAxis\"},{\"attributes\":{\"line_alpha\":0.8,\"line_color\":\"#fee08b\",\"line_width\":2,\"x\":{\"field\":\"x\"},\"y\":{\"field\":\"y\"}},\"id\":\"4861\",\"type\":\"Line\"},{\"attributes\":{\"line_alpha\":0.8,\"line_color\":\"#9e0142\",\"line_width\":2,\"x\":{\"field\":\"x\"},\"y\":{\"field\":\"y\"}},\"id\":\"5013\",\"type\":\"Line\"},{\"attributes\":{\"num_minor_ticks\":5,\"tickers\":[{\"id\":\"4725\"},{\"id\":\"4726\"},{\"id\":\"4727\"},{\"id\":\"4728\"},{\"id\":\"4729\"},{\"id\":\"4730\"},{\"id\":\"4731\"},{\"id\":\"4732\"},{\"id\":\"4733\"},{\"id\":\"4734\"},{\"id\":\"4735\"},{\"id\":\"4736\"}]},\"id\":\"4692\",\"type\":\"DatetimeTicker\"},{\"attributes\":{\"data\":{\"x\":[1586649600000.0,1586736000000.0,1586822400000.0,1586995200000.0],\"y\":[113.0,117.0,120.0,122.0]},\"selected\":{\"id\":\"4996\"},\"selection_policy\":{\"id\":\"4997\"}},\"id\":\"4932\",\"type\":\"ColumnDataSource\"},{\"attributes\":{\"line_alpha\":0.1,\"line_color\":\"#5e4fa2\",\"line_width\":2,\"x\":{\"field\":\"x\"},\"y\":{\"field\":\"y\"}},\"id\":\"4716\",\"type\":\"Line\"},{\"attributes\":{\"source\":{\"id\":\"4827\"}},\"id\":\"4831\",\"type\":\"CDSView\"},{\"attributes\":{\"line_alpha\":0.1,\"line_color\":\"#9e0142\",\"line_width\":2,\"x\":{\"field\":\"x\"},\"y\":{\"field\":\"y\"}},\"id\":\"5014\",\"type\":\"Line\"},{\"attributes\":{\"axis\":{\"id\":\"4691\"},\"ticker\":null},\"id\":\"4694\",\"type\":\"Grid\"},{\"attributes\":{\"formatter\":{\"id\":\"4721\"},\"ticker\":{\"id\":\"4696\"}},\"id\":\"4695\",\"type\":\"LinearAxis\"},{\"attributes\":{\"line_alpha\":0.1,\"line_color\":\"#fee08b\",\"line_width\":2,\"x\":{\"field\":\"x\"},\"y\":{\"field\":\"y\"}},\"id\":\"4862\",\"type\":\"Line\"},{\"attributes\":{\"source\":{\"id\":\"5012\"}},\"id\":\"5016\",\"type\":\"CDSView\"},{\"attributes\":{},\"id\":\"4696\",\"type\":\"BasicTicker\"},{\"attributes\":{\"line_alpha\":0.8,\"line_color\":\"#5e4fa2\",\"line_width\":2,\"x\":{\"field\":\"x\"},\"y\":{\"field\":\"y\"}},\"id\":\"4715\",\"type\":\"Line\"},{\"attributes\":{\"source\":{\"id\":\"4860\"}},\"id\":\"4864\",\"type\":\"CDSView\"},{\"attributes\":{\"data\":{\"x\":[1586649600000.0,1586736000000.0,1586822400000.0,1586995200000.0],\"y\":[44.0,44.0,44.0,44.0]},\"selected\":{\"id\":\"4811\"},\"selection_policy\":{\"id\":\"4812\"}},\"id\":\"4767\",\"type\":\"ColumnDataSource\"},{\"attributes\":{\"line_alpha\":0.1,\"line_color\":\"#e6f598\",\"line_width\":2,\"x\":{\"field\":\"x\"},\"y\":{\"field\":\"y\"}},\"id\":\"4829\",\"type\":\"Line\"},{\"attributes\":{\"source\":{\"id\":\"4971\"}},\"id\":\"4975\",\"type\":\"CDSView\"},{\"attributes\":{},\"id\":\"4956\",\"type\":\"UnionRenderers\"},{\"attributes\":{\"axis\":{\"id\":\"4695\"},\"dimension\":1,\"ticker\":null},\"id\":\"4698\",\"type\":\"Grid\"},{\"attributes\":{\"label\":{\"value\":\"\\u05e7\\u05e8\\u05d9\\u05ea \\u05d9\\u05e2\\u05e8\\u05d9\\u05dd\"},\"renderers\":[{\"id\":\"4743\"}]},\"id\":\"4766\",\"type\":\"LegendItem\"},{\"attributes\":{\"data_source\":{\"id\":\"4860\"},\"glyph\":{\"id\":\"4861\"},\"hover_glyph\":null,\"muted_glyph\":null,\"nonselection_glyph\":{\"id\":\"4862\"},\"selection_glyph\":null,\"view\":{\"id\":\"4864\"}},\"id\":\"4863\",\"type\":\"GlyphRenderer\"},{\"attributes\":{\"data_source\":{\"id\":\"4895\"},\"glyph\":{\"id\":\"4896\"},\"hover_glyph\":null,\"muted_glyph\":null,\"nonselection_glyph\":{\"id\":\"4897\"},\"selection_glyph\":null,\"view\":{\"id\":\"4899\"}},\"id\":\"4898\",\"type\":\"GlyphRenderer\"},{\"attributes\":{\"source\":{\"id\":\"4895\"}},\"id\":\"4899\",\"type\":\"CDSView\"},{\"attributes\":{\"days\":[1,15]},\"id\":\"4731\",\"type\":\"DaysTicker\"},{\"attributes\":{\"label\":{\"value\":\"\\u05db\\u05d5\\u05db\\u05d1 \\u05d9\\u05e2\\u05e7\\u05d1\"},\"renderers\":[{\"id\":\"4799\"}]},\"id\":\"4826\",\"type\":\"LegendItem\"},{\"attributes\":{\"days\":[1,8,15,22]},\"id\":\"4730\",\"type\":\"DaysTicker\"},{\"attributes\":{\"mantissas\":[1,2,5],\"max_interval\":500.0,\"num_minor_ticks\":0},\"id\":\"4725\",\"type\":\"AdaptiveTicker\"},{\"attributes\":{\"line_alpha\":0.1,\"line_color\":\"#66c2a5\",\"line_width\":2,\"x\":{\"field\":\"x\"},\"y\":{\"field\":\"y\"}},\"id\":\"4769\",\"type\":\"Line\"},{\"attributes\":{},\"id\":\"4704\",\"type\":\"HelpTool\"},{\"attributes\":{\"line_alpha\":0.8,\"line_color\":\"#66c2a5\",\"line_width\":2,\"x\":{\"field\":\"x\"},\"y\":{\"field\":\"y\"}},\"id\":\"4768\",\"type\":\"Line\"},{\"attributes\":{},\"id\":\"5080\",\"type\":\"Selection\"},{\"attributes\":{\"base\":24,\"mantissas\":[1,2,4,6,8,12],\"max_interval\":43200000.0,\"min_interval\":3600000.0,\"num_minor_ticks\":0},\"id\":\"4727\",\"type\":\"AdaptiveTicker\"},{\"attributes\":{\"days\":[1,4,7,10,13,16,19,22,25,28]},\"id\":\"4729\",\"type\":\"DaysTicker\"},{\"attributes\":{\"data_source\":{\"id\":\"4767\"},\"glyph\":{\"id\":\"4768\"},\"hover_glyph\":null,\"muted_glyph\":null,\"nonselection_glyph\":{\"id\":\"4769\"},\"selection_glyph\":null,\"view\":{\"id\":\"4771\"}},\"id\":\"4770\",\"type\":\"GlyphRenderer\"},{\"attributes\":{\"data\":{\"x\":[1586649600000.0,1586736000000.0,1586822400000.0,1586995200000.0],\"y\":[39.0,39.0,39.0,39.0]},\"selected\":{\"id\":\"4780\"},\"selection_policy\":{\"id\":\"4781\"}},\"id\":\"4740\",\"type\":\"ColumnDataSource\"},{\"attributes\":{},\"id\":\"5081\",\"type\":\"UnionRenderers\"},{\"attributes\":{},\"id\":\"4780\",\"type\":\"Selection\"},{\"attributes\":{\"days\":[1,2,3,4,5,6,7,8,9,10,11,12,13,14,15,16,17,18,19,20,21,22,23,24,25,26,27,28,29,30,31]},\"id\":\"4728\",\"type\":\"DaysTicker\"},{\"attributes\":{\"source\":{\"id\":\"4796\"}},\"id\":\"4800\",\"type\":\"CDSView\"},{\"attributes\":{\"data\":{\"x\":[1586649600000.0,1586736000000.0,1586822400000.0,1586995200000.0],\"y\":[242.0,253.0,278.0,301.0]},\"selected\":{\"id\":\"4916\"},\"selection_policy\":{\"id\":\"4917\"}},\"id\":\"4860\",\"type\":\"ColumnDataSource\"},{\"attributes\":{\"source\":{\"id\":\"4767\"}},\"id\":\"4771\",\"type\":\"CDSView\"},{\"attributes\":{},\"id\":\"4811\",\"type\":\"Selection\"},{\"attributes\":{\"label\":{\"value\":\"\\u05d0\\u05d5\\u05e8 \\u05d9\\u05d4\\u05d5\\u05d3\\u05d4\"},\"renderers\":[{\"id\":\"4935\"}]},\"id\":\"4970\",\"type\":\"LegendItem\"},{\"attributes\":{\"months\":[0,1,2,3,4,5,6,7,8,9,10,11]},\"id\":\"4732\",\"type\":\"MonthsTicker\"},{\"attributes\":{},\"id\":\"4700\",\"type\":\"WheelZoomTool\"},{\"attributes\":{\"label\":{\"value\":\"\\u05d0\\u05dc\\u05e2\\u05d3\"},\"renderers\":[{\"id\":\"4863\"}]},\"id\":\"4894\",\"type\":\"LegendItem\"},{\"attributes\":{\"label\":{\"value\":\"\\u05db\\u05e4\\u05e8 \\u05d7\\u05d1\\\"\\u05d3\"},\"renderers\":[{\"id\":\"4770\"}]},\"id\":\"4795\",\"type\":\"LegendItem\"},{\"attributes\":{},\"id\":\"4703\",\"type\":\"ResetTool\"},{\"attributes\":{\"data_source\":{\"id\":\"4796\"},\"glyph\":{\"id\":\"4797\"},\"hover_glyph\":null,\"muted_glyph\":null,\"nonselection_glyph\":{\"id\":\"4798\"},\"selection_glyph\":null,\"view\":{\"id\":\"4800\"}},\"id\":\"4799\",\"type\":\"GlyphRenderer\"},{\"attributes\":{},\"id\":\"4702\",\"type\":\"SaveTool\"},{\"attributes\":{},\"id\":\"4812\",\"type\":\"UnionRenderers\"},{\"attributes\":{\"base\":60,\"mantissas\":[1,2,5,10,15,20,30],\"max_interval\":1800000.0,\"min_interval\":1000.0,\"num_minor_ticks\":0},\"id\":\"4726\",\"type\":\"AdaptiveTicker\"},{\"attributes\":{\"data\":{\"x\":[1586649600000.0,1586736000000.0,1586822400000.0,1586995200000.0],\"y\":[55.0,56.0,57.0,58.0]},\"selected\":{\"id\":\"4844\"},\"selection_policy\":{\"id\":\"4845\"}},\"id\":\"4796\",\"type\":\"ColumnDataSource\"},{\"attributes\":{\"active_drag\":\"auto\",\"active_inspect\":\"auto\",\"active_multi\":null,\"active_scroll\":\"auto\",\"active_tap\":\"auto\",\"tools\":[{\"id\":\"4699\"},{\"id\":\"4700\"},{\"id\":\"4701\"},{\"id\":\"4702\"},{\"id\":\"4703\"},{\"id\":\"4704\"}]},\"id\":\"4706\",\"type\":\"Toolbar\"},{\"attributes\":{},\"id\":\"4723\",\"type\":\"DatetimeTickFormatter\"},{\"attributes\":{\"months\":[0,4,8]},\"id\":\"4734\",\"type\":\"MonthsTicker\"},{\"attributes\":{\"bottom_units\":\"screen\",\"fill_alpha\":0.5,\"fill_color\":\"lightgrey\",\"left_units\":\"screen\",\"level\":\"overlay\",\"line_alpha\":1.0,\"line_color\":\"black\",\"line_dash\":[4,4],\"line_width\":2,\"render_mode\":\"css\",\"right_units\":\"screen\",\"top_units\":\"screen\"},\"id\":\"4705\",\"type\":\"BoxAnnotation\"},{\"attributes\":{},\"id\":\"4699\",\"type\":\"PanTool\"},{\"attributes\":{\"months\":[0,2,4,6,8,10]},\"id\":\"4733\",\"type\":\"MonthsTicker\"},{\"attributes\":{\"label\":{\"value\":\"\\u05de\\u05d2\\u05d3\\u05dc \\u05d4\\u05e2\\u05de\\u05e7\"},\"renderers\":[{\"id\":\"4898\"}]},\"id\":\"4931\",\"type\":\"LegendItem\"},{\"attributes\":{},\"id\":\"5040\",\"type\":\"UnionRenderers\"},{\"attributes\":{\"line_alpha\":0.1,\"line_color\":\"#abdda4\",\"line_width\":2,\"x\":{\"field\":\"x\"},\"y\":{\"field\":\"y\"}},\"id\":\"4798\",\"type\":\"Line\"},{\"attributes\":{\"data\":{\"x\":[1586649600000.0,1586736000000.0,1586822400000.0,1586995200000.0],\"y\":[97.0,99.0,99.0,99.0]},\"selected\":{\"id\":\"4955\"},\"selection_policy\":{\"id\":\"4956\"}},\"id\":\"4895\",\"type\":\"ColumnDataSource\"},{\"attributes\":{\"overlay\":{\"id\":\"4705\"}},\"id\":\"4701\",\"type\":\"BoxZoomTool\"},{\"attributes\":{\"data\":{\"x\":[1586649600000.0,1586736000000.0,1586822400000.0,1586995200000.0],\"y\":[1806.0,1888.0,2053.0,2150.0]},\"selected\":{\"id\":\"4751\"},\"selection_policy\":{\"id\":\"4752\"}},\"id\":\"4714\",\"type\":\"ColumnDataSource\"},{\"attributes\":{},\"id\":\"4781\",\"type\":\"UnionRenderers\"}],\"root_ids\":[\"4682\"]},\"title\":\"Bokeh Application\",\"version\":\"2.0.1\"}};\n",
       "  var render_items = [{\"docid\":\"9dcfd445-b138-47c7-970d-d052afc8232c\",\"root_ids\":[\"4682\"],\"roots\":{\"4682\":\"d767a82b-099c-4a28-a9c3-47792a1c19b6\"}}];\n",
       "  root.Bokeh.embed.embed_items_notebook(docs_json, render_items);\n",
       "\n",
       "  }\n",
       "  if (root.Bokeh !== undefined) {\n",
       "    embed_document(root);\n",
       "  } else {\n",
       "    var attempts = 0;\n",
       "    var timer = setInterval(function(root) {\n",
       "      if (root.Bokeh !== undefined) {\n",
       "        clearInterval(timer);\n",
       "        embed_document(root);\n",
       "      } else {\n",
       "        attempts++;\n",
       "        if (attempts > 100) {\n",
       "          clearInterval(timer);\n",
       "          console.log(\"Bokeh: ERROR: Unable to run BokehJS code because BokehJS library is missing\");\n",
       "        }\n",
       "      }\n",
       "    }, 10, root)\n",
       "  }\n",
       "})(window);"
      ],
      "application/vnd.bokehjs_exec.v0+json": ""
     },
     "metadata": {
      "application/vnd.bokehjs_exec.v0+json": {
       "id": "4682"
      }
     },
     "output_type": "display_data"
    }
   ],
   "source": [
    "from bokeh.palettes import Spectral10\n",
    "from bokeh.plotting import figure, output_file, show, output_notebook, reset_output\n",
    "# from bokeh.sampledata.stocks import AAPL, GOOG, IBM, MSFT\n",
    "\n",
    "p = figure(plot_width=800, plot_height=500, x_axis_type=\"datetime\")\n",
    "p.title.text = 'Click on legend entries to hide the corresponding lines'\n",
    "dates_str = confirmed_cases.columns.to_list()\n",
    "dates_str.remove('City')\n",
    "x = [datetime.strptime(s, '%Y-%m-%d') for s in dates_str]\n",
    "\n",
    "for irow,color in zip(confirmed_cases.head(10).iterrows(), Spectral10):\n",
    "#     df = pd.DataFrame(data)\n",
    "    row = irow[1]\n",
    "    city_name = row['City']\n",
    "    y = row.drop(labels=['City']).to_list()\n",
    "    p.line(x, y, line_width=2, alpha=0.8, legend_label=city_name, color=color)\n",
    "\n",
    "p.legend.location = \"top_left\"\n",
    "p.legend.click_policy=\"hide\"\n",
    "\n",
    "# output_file(\"interactive_legend.html\", title=\"interactive_legend.py example\")\n",
    "reset_output()\n",
    "output_notebook()\n",
    "\n",
    "show(p)\n",
    "\n",
    "\n",
    "# def bubble_chart(n):\n",
    "#     fig = px.scatter(parsed_data.head(n), x=\"City\", y=\"Rate per 100000\", size=\"Rate per 100000\", color=\"City\",\n",
    "#                hover_name=\"City\", size_max=60)\n",
    "#     fig.update_layout(\n",
    "#       title=str(n) +\" ערים הנפגעות ביותר\",\n",
    "#       xaxis_title=\"ערים\",\n",
    "#       yaxis_title=\"שיעור ל100,000\",\n",
    "#       width = 700\n",
    "#     )\n",
    "#     fig.show();\n",
    "\n",
    "# interact(bubble_chart, n=10)\n",
    "# plt.show()\n",
    "\n",
    "# ipywLayout = widgets.Layout(border='solid 2px green')\n",
    "# ipywLayout.display='none'\n",
    "# widgets.VBox([fig], layout=ipywLayout)"
   ]
  },
  {
   "cell_type": "markdown",
   "metadata": {},
   "source": [
    "Geolocate cities:"
   ]
  },
  {
   "cell_type": "code",
   "execution_count": null,
   "metadata": {},
   "outputs": [],
   "source": [
    "itm_crs = CRS.from_proj4(\"+proj=tmerc +lat_0=31.7343936111111 +lon_0=35.2045169444445 +k=1.0000067 +x_0=219529.584 +y_0=626907.39 +ellps=GRS80 +towgs84=-24.002400,-17.103200,-17.844400,-0.33077,-1.852690,1.669690,5.424800 +units=m +no_defs\")\n",
    "wgs84_crs = CRS.from_epsg(4326)\n",
    "transformer = Transformer.from_crs(itm_crs, wgs84_crs)\n",
    "\n",
    "cities_df = pd.read_excel(\"ressources/bycode2018.xlsx\", usecols = [\"שם יישוב\", \"קואורדינטות\", 'תעתיק'])\n",
    "cities_df.dropna(axis=0, how='any', inplace=True)\n",
    "cities_df.loc[:, \"קואורדינטות\"] = cities_df.loc[:, \"קואורדינטות\"].round(0).astype(np.int64).astype(str)\n",
    "cities_df['x'] = cities_df.loc[:, \"קואורדינטות\"].str[0:5].astype(int)\n",
    "cities_df['y'] = cities_df.loc[:, \"קואורדינטות\"].str[5:].astype(int)\n",
    "lats, lons = transformer.transform(cities_df['x'].to_numpy()*10, cities_df['y'].to_numpy()*10)\n",
    "cities_df['lat'] = lats\n",
    "cities_df['lon'] = lons\n",
    "cities_df = cities_df[['שם יישוב', 'lat', 'lon', 'תעתיק']]\n",
    "cities_df.rename(columns = {\"שם יישוב\":\"City\", \"תעתיק\":\"CityEng\"} ,inplace=True)\n",
    "cities_df.head(5)"
   ]
  },
  {
   "cell_type": "markdown",
   "metadata": {},
   "source": [
    "Merge:"
   ]
  },
  {
   "cell_type": "code",
   "execution_count": null,
   "metadata": {},
   "outputs": [],
   "source": [
    "# print(confirmed_cases.index)\n",
    "confirmed_df = confirmed_cases.copy()\n",
    "confirmed_df = confirmed_df.merge(cities_df, how='left', on=\"City\")\n",
    "confirmed_df.dropna(axis=0, how='any', inplace=True)\n",
    "confirmed_df = confirmed_df.reset_index(drop=True) #TODO: correct and search\n",
    "# confirmed_df.head(20)\n",
    "# print(confirmed_df.loc[confirmed_df.City.str.contains(\"בני ברק\"),:])\n",
    "#print(str(confirmed_df.iloc[10,1]))\n",
    "# confirmed_df.head(20)\n"
   ]
  },
  {
   "cell_type": "code",
   "execution_count": null,
   "metadata": {},
   "outputs": [],
   "source": [
    "world_map = folium.Map(location=[31.4,35], tiles=\"cartodbpositron\", zoom_start=8, max_zoom = 15, min_zoom = 8)\n",
    "\n",
    "for i in range(0,len(confirmed_df)):\n",
    "    folium.Circle(\n",
    "        location=[confirmed_df.at[i,'lat'], confirmed_df.at[i,'lon']],\n",
    "        fill=True,\n",
    "#         radius=(int((np.log(500*confirmed_df.iloc[i,-1]+1.00001)))+0.2),\n",
    "         radius=int(confirmed_df.iloc[i,1]),\n",
    "        color='red',\n",
    "        fill_color='indigo',\n",
    "        tooltip = \"<meta http-equiv='content-type' content='text/html; charset=UTF-8' /><div style='margin: 0; background-color: black; color: white;'>\"+\n",
    "                    \"<h5 style='text-align:center;font-weight: bold'>\"+str(confirmed_df.at[i,'CityEng']) + \"</h4>\"\n",
    "                    \"<hr style='margin:10px;color: white;'>\"+\n",
    "                    \"<ul style='color: white;;list-style-type:circle;align-item:left;padding-left:20px;padding-right:20px'>\"+\n",
    "                        \"<li>Confirmed: \"+str(confirmed_df.at[i,\"2020-04-16\"])+\"</li>\"+\n",
    "                        \"</ul></div>\",\n",
    "        ).add_to(world_map)\n",
    "\n",
    "world_map"
   ]
  },
  {
   "cell_type": "markdown",
   "metadata": {},
   "source": [
    "With time evolution!\n"
   ]
  },
  {
   "cell_type": "code",
   "execution_count": null,
   "metadata": {},
   "outputs": [],
   "source": [
    "import vincent\n",
    "import json\n",
    "# from bokeh.plotting import figure, output_file, show\n",
    "from bokeh.plotting import figure\n",
    "from bokeh.resources import CDN\n",
    "from bokeh.embed import file_html\n",
    "\n",
    "# plot = figure()\n",
    "# plot.circle([1,2], [3,4])\n",
    "\n",
    "# html = file_html(plot, CDN, \"my plot\")\n",
    "\n",
    "\n",
    "# scatter_json = line.to_json()\n",
    "\n",
    "# # Let's convert it to dict.\n",
    "# scatter_dict = json.loads(scatter_json)\n",
    "\n",
    "world_map = folium.Map(location=[31.4,35], tiles=\"cartodbpositron\", zoom_start=8, max_zoom = 15, min_zoom = 8)\n",
    "\n",
    "for i in range(0,len(confirmed_df)):\n",
    "    values = confirmed_df.loc[i, [\"2020-04-12\",\"2020-04-13\",\"2020-04-14\", \"2020-04-16\"]].to_list()\n",
    "    print(values)\n",
    "    scatter_chart = vincent.Line()\n",
    "    scatter_chart.width = 350\n",
    "    scatter_chart.height = 175\n",
    "    popup = folium.Popup(max_width=400)\n",
    "    folium.Vega(scatter_chart, height=200, width=400).add_to(popup)\n",
    "    folium.Circle(\n",
    "        location=[confirmed_df.at[i,'lat'], confirmed_df.at[i,'lon']],\n",
    "        fill=True,\n",
    "#         radius=(int((np.log(500*confirmed_df.iloc[i,-1]+1.00001)))+0.2),\n",
    "         radius=int(confirmed_df.iloc[i,1]),\n",
    "        color='red',\n",
    "        fill_color='indigo',\n",
    "        popup = popup,\n",
    "        ).add_to(world_map)\n",
    "\n",
    "world_map\n",
    "# world_map.save('data.html')\n",
    "#https://towardsdatascience.com/building-covid-19-analysis-dashboard-using-python-and-voila-ee091f65dcbb"
   ]
  }
 ],
 "metadata": {
  "colab": {
   "collapsed_sections": [],
   "name": "MOH-Parser.ipynb",
   "provenance": []
  },
  "kernelspec": {
   "display_name": "Python (covid_env)",
   "language": "python",
   "name": "covid_env"
  },
  "language_info": {
   "codemirror_mode": {
    "name": "ipython",
    "version": 3
   },
   "file_extension": ".py",
   "mimetype": "text/x-python",
   "name": "python",
   "nbconvert_exporter": "python",
   "pygments_lexer": "ipython3",
   "version": "3.7.6"
  },
  "widgets": {
   "application/vnd.jupyter.widget-state+json": {
    "34eef80e1d4042d6a721c083763d6e36": {
     "model_module": "@jupyter-widgets/controls",
     "model_name": "IntSliderModel",
     "state": {
      "_dom_classes": [],
      "_model_module": "@jupyter-widgets/controls",
      "_model_module_version": "1.5.0",
      "_model_name": "IntSliderModel",
      "_view_count": null,
      "_view_module": "@jupyter-widgets/controls",
      "_view_module_version": "1.5.0",
      "_view_name": "IntSliderView",
      "continuous_update": true,
      "description": "n",
      "description_tooltip": null,
      "disabled": false,
      "layout": "IPY_MODEL_429ccffcdbf941e4aadb443b277377bd",
      "max": 30,
      "min": -10,
      "orientation": "horizontal",
      "readout": true,
      "readout_format": "d",
      "step": 1,
      "style": "IPY_MODEL_8f59a3c72c45467a96812024a696c4fe",
      "value": 10
     }
    },
    "429ccffcdbf941e4aadb443b277377bd": {
     "model_module": "@jupyter-widgets/base",
     "model_name": "LayoutModel",
     "state": {
      "_model_module": "@jupyter-widgets/base",
      "_model_module_version": "1.2.0",
      "_model_name": "LayoutModel",
      "_view_count": null,
      "_view_module": "@jupyter-widgets/base",
      "_view_module_version": "1.2.0",
      "_view_name": "LayoutView",
      "align_content": null,
      "align_items": null,
      "align_self": null,
      "border": null,
      "bottom": null,
      "display": null,
      "flex": null,
      "flex_flow": null,
      "grid_area": null,
      "grid_auto_columns": null,
      "grid_auto_flow": null,
      "grid_auto_rows": null,
      "grid_column": null,
      "grid_gap": null,
      "grid_row": null,
      "grid_template_areas": null,
      "grid_template_columns": null,
      "grid_template_rows": null,
      "height": null,
      "justify_content": null,
      "justify_items": null,
      "left": null,
      "margin": null,
      "max_height": null,
      "max_width": null,
      "min_height": null,
      "min_width": null,
      "object_fit": null,
      "object_position": null,
      "order": null,
      "overflow": null,
      "overflow_x": null,
      "overflow_y": null,
      "padding": null,
      "right": null,
      "top": null,
      "visibility": null,
      "width": null
     }
    },
    "4623b62446d14eaaa40b94a45cb552d4": {
     "model_module": "@jupyter-widgets/base",
     "model_name": "LayoutModel",
     "state": {
      "_model_module": "@jupyter-widgets/base",
      "_model_module_version": "1.2.0",
      "_model_name": "LayoutModel",
      "_view_count": null,
      "_view_module": "@jupyter-widgets/base",
      "_view_module_version": "1.2.0",
      "_view_name": "LayoutView",
      "align_content": null,
      "align_items": null,
      "align_self": null,
      "border": null,
      "bottom": null,
      "display": null,
      "flex": null,
      "flex_flow": null,
      "grid_area": null,
      "grid_auto_columns": null,
      "grid_auto_flow": null,
      "grid_auto_rows": null,
      "grid_column": null,
      "grid_gap": null,
      "grid_row": null,
      "grid_template_areas": null,
      "grid_template_columns": null,
      "grid_template_rows": null,
      "height": null,
      "justify_content": null,
      "justify_items": null,
      "left": null,
      "margin": null,
      "max_height": null,
      "max_width": null,
      "min_height": null,
      "min_width": null,
      "object_fit": null,
      "object_position": null,
      "order": null,
      "overflow": null,
      "overflow_x": null,
      "overflow_y": null,
      "padding": null,
      "right": null,
      "top": null,
      "visibility": null,
      "width": null
     }
    },
    "5b521e77f25f41f09c07f170238b4182": {
     "model_module": "@jupyter-widgets/base",
     "model_name": "LayoutModel",
     "state": {
      "_model_module": "@jupyter-widgets/base",
      "_model_module_version": "1.2.0",
      "_model_name": "LayoutModel",
      "_view_count": null,
      "_view_module": "@jupyter-widgets/base",
      "_view_module_version": "1.2.0",
      "_view_name": "LayoutView",
      "align_content": null,
      "align_items": null,
      "align_self": null,
      "border": null,
      "bottom": null,
      "display": null,
      "flex": null,
      "flex_flow": null,
      "grid_area": null,
      "grid_auto_columns": null,
      "grid_auto_flow": null,
      "grid_auto_rows": null,
      "grid_column": null,
      "grid_gap": null,
      "grid_row": null,
      "grid_template_areas": null,
      "grid_template_columns": null,
      "grid_template_rows": null,
      "height": null,
      "justify_content": null,
      "justify_items": null,
      "left": null,
      "margin": null,
      "max_height": null,
      "max_width": null,
      "min_height": null,
      "min_width": null,
      "object_fit": null,
      "object_position": null,
      "order": null,
      "overflow": null,
      "overflow_x": null,
      "overflow_y": null,
      "padding": null,
      "right": null,
      "top": null,
      "visibility": null,
      "width": null
     }
    },
    "6a3ad954440a4ad7ba4c2ba350d9617a": {
     "model_module": "@jupyter-widgets/controls",
     "model_name": "VBoxModel",
     "state": {
      "_dom_classes": [
       "widget-interact"
      ],
      "_model_module": "@jupyter-widgets/controls",
      "_model_module_version": "1.5.0",
      "_model_name": "VBoxModel",
      "_view_count": null,
      "_view_module": "@jupyter-widgets/controls",
      "_view_module_version": "1.5.0",
      "_view_name": "VBoxView",
      "box_style": "",
      "children": [
       "IPY_MODEL_34eef80e1d4042d6a721c083763d6e36",
       "IPY_MODEL_a0d1db1b15624ab9bcdc0ef487590f84"
      ],
      "layout": "IPY_MODEL_4623b62446d14eaaa40b94a45cb552d4"
     }
    },
    "8f59a3c72c45467a96812024a696c4fe": {
     "model_module": "@jupyter-widgets/controls",
     "model_name": "SliderStyleModel",
     "state": {
      "_model_module": "@jupyter-widgets/controls",
      "_model_module_version": "1.5.0",
      "_model_name": "SliderStyleModel",
      "_view_count": null,
      "_view_module": "@jupyter-widgets/base",
      "_view_module_version": "1.2.0",
      "_view_name": "StyleView",
      "description_width": "",
      "handle_color": null
     }
    },
    "a0d1db1b15624ab9bcdc0ef487590f84": {
     "model_module": "@jupyter-widgets/output",
     "model_name": "OutputModel",
     "state": {
      "_dom_classes": [],
      "_model_module": "@jupyter-widgets/output",
      "_model_module_version": "1.0.0",
      "_model_name": "OutputModel",
      "_view_count": null,
      "_view_module": "@jupyter-widgets/output",
      "_view_module_version": "1.0.0",
      "_view_name": "OutputView",
      "layout": "IPY_MODEL_5b521e77f25f41f09c07f170238b4182",
      "msg_id": "",
      "outputs": [
       {
        "metadata": {
         "tags": []
        },
        "output_type": "display_data",
        "text/html": "<html>\n<head><meta charset=\"utf-8\" /></head>\n<body>\n    <div>\n            <script src=\"https://cdnjs.cloudflare.com/ajax/libs/mathjax/2.7.5/MathJax.js?config=TeX-AMS-MML_SVG\"></script><script type=\"text/javascript\">if (window.MathJax) {MathJax.Hub.Config({SVG: {font: \"STIX-Web\"}});}</script>\n                <script type=\"text/javascript\">window.PlotlyConfig = {MathJaxConfig: 'local'};</script>\n        <script src=\"https://cdn.plot.ly/plotly-latest.min.js\"></script>    \n            <div id=\"ce15e5e7-08bd-4b83-b8a0-7244a627bc5d\" class=\"plotly-graph-div\" style=\"height:525px; width:700px;\"></div>\n            <script type=\"text/javascript\">\n                \n                    window.PLOTLYENV=window.PLOTLYENV || {};\n                    \n                if (document.getElementById(\"ce15e5e7-08bd-4b83-b8a0-7244a627bc5d\")) {\n                    Plotly.newPlot(\n                        'ce15e5e7-08bd-4b83-b8a0-7244a627bc5d',\n                        [{\"hoverlabel\": {\"namelength\": 0}, \"hovertemplate\": \"<b>%{hovertext}</b><br><br>City=%{x}<br>Rate per 100000=%{marker.size}\", \"hovertext\": [\"\\u05d1\\u05e0\\u05d9 \\u05d1\\u05e8\\u05e7\"], \"legendgroup\": \"City=\\u05d1\\u05e0\\u05d9 \\u05d1\\u05e8\\u05e7\", \"marker\": {\"color\": \"#636efa\", \"size\": [1100.88], \"sizemode\": \"area\", \"sizeref\": 0.3058, \"symbol\": \"circle\"}, \"mode\": \"markers\", \"name\": \"City=\\u05d1\\u05e0\\u05d9 \\u05d1\\u05e8\\u05e7\", \"showlegend\": true, \"type\": \"scatter\", \"x\": [\"\\u05d1\\u05e0\\u05d9 \\u05d1\\u05e8\\u05e7\"], \"xaxis\": \"x\", \"y\": [1100.88], \"yaxis\": \"y\"}, {\"hoverlabel\": {\"namelength\": 0}, \"hovertemplate\": \"<b>%{hovertext}</b><br><br>City=%{x}<br>Rate per 100000=%{marker.size}\", \"hovertext\": [\"\\u05e7\\u05e8\\u05d9\\u05ea \\u05d9\\u05e2\\u05e8\\u05d9\\u05dd\"], \"legendgroup\": \"City=\\u05e7\\u05e8\\u05d9\\u05ea \\u05d9\\u05e2\\u05e8\\u05d9\\u05dd\", \"marker\": {\"color\": \"#EF553B\", \"size\": [682.65], \"sizemode\": \"area\", \"sizeref\": 0.3058, \"symbol\": \"circle\"}, \"mode\": \"markers\", \"name\": \"City=\\u05e7\\u05e8\\u05d9\\u05ea \\u05d9\\u05e2\\u05e8\\u05d9\\u05dd\", \"showlegend\": true, \"type\": \"scatter\", \"x\": [\"\\u05e7\\u05e8\\u05d9\\u05ea \\u05d9\\u05e2\\u05e8\\u05d9\\u05dd\"], \"xaxis\": \"x\", \"y\": [682.65], \"yaxis\": \"y\"}, {\"hoverlabel\": {\"namelength\": 0}, \"hovertemplate\": \"<b>%{hovertext}</b><br><br>City=%{x}<br>Rate per 100000=%{marker.size}\", \"hovertext\": [\"\\u05db\\u05d5\\u05db\\u05d1 \\u05d9\\u05e2\\u05e7\\u05d1\"], \"legendgroup\": \"City=\\u05db\\u05d5\\u05db\\u05d1 \\u05d9\\u05e2\\u05e7\\u05d1\", \"marker\": {\"color\": \"#00cc96\", \"size\": [674.26], \"sizemode\": \"area\", \"sizeref\": 0.3058, \"symbol\": \"circle\"}, \"mode\": \"markers\", \"name\": \"City=\\u05db\\u05d5\\u05db\\u05d1 \\u05d9\\u05e2\\u05e7\\u05d1\", \"showlegend\": true, \"type\": \"scatter\", \"x\": [\"\\u05db\\u05d5\\u05db\\u05d1 \\u05d9\\u05e2\\u05e7\\u05d1\"], \"xaxis\": \"x\", \"y\": [674.26], \"yaxis\": \"y\"}, {\"hoverlabel\": {\"namelength\": 0}, \"hovertemplate\": \"<b>%{hovertext}</b><br><br>City=%{x}<br>Rate per 100000=%{marker.size}\", \"hovertext\": [\"\\u05db\\u05e4\\u05e8 \\u05d7\\u05d1\\\"\\u05d3\"], \"legendgroup\": \"City=\\u05db\\u05e4\\u05e8 \\u05d7\\u05d1\\\"\\u05d3\", \"marker\": {\"color\": \"#ab63fa\", \"size\": [654.37], \"sizemode\": \"area\", \"sizeref\": 0.3058, \"symbol\": \"circle\"}, \"mode\": \"markers\", \"name\": \"City=\\u05db\\u05e4\\u05e8 \\u05d7\\u05d1\\\"\\u05d3\", \"showlegend\": true, \"type\": \"scatter\", \"x\": [\"\\u05db\\u05e4\\u05e8 \\u05d7\\u05d1\\\"\\u05d3\"], \"xaxis\": \"x\", \"y\": [654.37], \"yaxis\": \"y\"}, {\"hoverlabel\": {\"namelength\": 0}, \"hovertemplate\": \"<b>%{hovertext}</b><br><br>City=%{x}<br>Rate per 100000=%{marker.size}\", \"hovertext\": [\"\\u05d0\\u05dc\\u05e2\\u05d3\"], \"legendgroup\": \"City=\\u05d0\\u05dc\\u05e2\\u05d3\", \"marker\": {\"color\": \"#FFA15A\", \"size\": [643.71], \"sizemode\": \"area\", \"sizeref\": 0.3058, \"symbol\": \"circle\"}, \"mode\": \"markers\", \"name\": \"City=\\u05d0\\u05dc\\u05e2\\u05d3\", \"showlegend\": true, \"type\": \"scatter\", \"x\": [\"\\u05d0\\u05dc\\u05e2\\u05d3\"], \"xaxis\": \"x\", \"y\": [643.71], \"yaxis\": \"y\"}, {\"hoverlabel\": {\"namelength\": 0}, \"hovertemplate\": \"<b>%{hovertext}</b><br><br>City=%{x}<br>Rate per 100000=%{marker.size}\", \"hovertext\": [\"\\u05d0\\u05e4\\u05e8\\u05ea\"], \"legendgroup\": \"City=\\u05d0\\u05e4\\u05e8\\u05ea\", \"marker\": {\"color\": \"#19d3f3\", \"size\": [599.48], \"sizemode\": \"area\", \"sizeref\": 0.3058, \"symbol\": \"circle\"}, \"mode\": \"markers\", \"name\": \"City=\\u05d0\\u05e4\\u05e8\\u05ea\", \"showlegend\": true, \"type\": \"scatter\", \"x\": [\"\\u05d0\\u05e4\\u05e8\\u05ea\"], \"xaxis\": \"x\", \"y\": [599.48], \"yaxis\": \"y\"}, {\"hoverlabel\": {\"namelength\": 0}, \"hovertemplate\": \"<b>%{hovertext}</b><br><br>City=%{x}<br>Rate per 100000=%{marker.size}\", \"hovertext\": [\"\\u05de\\u05e6\\u05e4\\u05d4 \\u05e8\\u05de\\u05d5\\u05df\"], \"legendgroup\": \"City=\\u05de\\u05e6\\u05e4\\u05d4 \\u05e8\\u05de\\u05d5\\u05df\", \"marker\": {\"color\": \"#FF6692\", \"size\": [480.87], \"sizemode\": \"area\", \"sizeref\": 0.3058, \"symbol\": \"circle\"}, \"mode\": \"markers\", \"name\": \"City=\\u05de\\u05e6\\u05e4\\u05d4 \\u05e8\\u05de\\u05d5\\u05df\", \"showlegend\": true, \"type\": \"scatter\", \"x\": [\"\\u05de\\u05e6\\u05e4\\u05d4 \\u05e8\\u05de\\u05d5\\u05df\"], \"xaxis\": \"x\", \"y\": [480.87], \"yaxis\": \"y\"}, {\"hoverlabel\": {\"namelength\": 0}, \"hovertemplate\": \"<b>%{hovertext}</b><br><br>City=%{x}<br>Rate per 100000=%{marker.size}\", \"hovertext\": [\"\\u05de\\u05d2\\u05d3\\u05dc \\u05d4\\u05e2\\u05de\\u05e7\"], \"legendgroup\": \"City=\\u05de\\u05d2\\u05d3\\u05dc \\u05d4\\u05e2\\u05de\\u05e7\", \"marker\": {\"color\": \"#B6E880\", \"size\": [379.92], \"sizemode\": \"area\", \"sizeref\": 0.3058, \"symbol\": \"circle\"}, \"mode\": \"markers\", \"name\": \"City=\\u05de\\u05d2\\u05d3\\u05dc \\u05d4\\u05e2\\u05de\\u05e7\", \"showlegend\": true, \"type\": \"scatter\", \"x\": [\"\\u05de\\u05d2\\u05d3\\u05dc \\u05d4\\u05e2\\u05de\\u05e7\"], \"xaxis\": \"x\", \"y\": [379.92], \"yaxis\": \"y\"}, {\"hoverlabel\": {\"namelength\": 0}, \"hovertemplate\": \"<b>%{hovertext}</b><br><br>City=%{x}<br>Rate per 100000=%{marker.size}\", \"hovertext\": [\"\\u05de\\u05d5\\u05d3\\u05d9\\u05e2\\u05d9\\u05df \\u05e2\\u05d9\\u05dc\\u05d9\\u05ea\"], \"legendgroup\": \"City=\\u05de\\u05d5\\u05d3\\u05d9\\u05e2\\u05d9\\u05df \\u05e2\\u05d9\\u05dc\\u05d9\\u05ea\", \"marker\": {\"color\": \"#FF97FF\", \"size\": [353.62], \"sizemode\": \"area\", \"sizeref\": 0.3058, \"symbol\": \"circle\"}, \"mode\": \"markers\", \"name\": \"City=\\u05de\\u05d5\\u05d3\\u05d9\\u05e2\\u05d9\\u05df \\u05e2\\u05d9\\u05dc\\u05d9\\u05ea\", \"showlegend\": true, \"type\": \"scatter\", \"x\": [\"\\u05de\\u05d5\\u05d3\\u05d9\\u05e2\\u05d9\\u05df \\u05e2\\u05d9\\u05dc\\u05d9\\u05ea\"], \"xaxis\": \"x\", \"y\": [353.62], \"yaxis\": \"y\"}, {\"hoverlabel\": {\"namelength\": 0}, \"hovertemplate\": \"<b>%{hovertext}</b><br><br>City=%{x}<br>Rate per 100000=%{marker.size}\", \"hovertext\": [\"\\u05d0\\u05d5\\u05e8 \\u05d9\\u05d4\\u05d5\\u05d3\\u05d4\"], \"legendgroup\": \"City=\\u05d0\\u05d5\\u05e8 \\u05d9\\u05d4\\u05d5\\u05d3\\u05d4\", \"marker\": {\"color\": \"#FECB52\", \"size\": [350.14], \"sizemode\": \"area\", \"sizeref\": 0.3058, \"symbol\": \"circle\"}, \"mode\": \"markers\", \"name\": \"City=\\u05d0\\u05d5\\u05e8 \\u05d9\\u05d4\\u05d5\\u05d3\\u05d4\", \"showlegend\": true, \"type\": \"scatter\", \"x\": [\"\\u05d0\\u05d5\\u05e8 \\u05d9\\u05d4\\u05d5\\u05d3\\u05d4\"], \"xaxis\": \"x\", \"y\": [350.14], \"yaxis\": \"y\"}],\n                        {\"legend\": {\"itemsizing\": \"constant\", \"tracegroupgap\": 0}, \"margin\": {\"t\": 60}, \"template\": {\"data\": {\"bar\": [{\"error_x\": {\"color\": \"#2a3f5f\"}, \"error_y\": {\"color\": \"#2a3f5f\"}, \"marker\": {\"line\": {\"color\": \"#E5ECF6\", \"width\": 0.5}}, \"type\": \"bar\"}], \"barpolar\": [{\"marker\": {\"line\": {\"color\": \"#E5ECF6\", \"width\": 0.5}}, \"type\": \"barpolar\"}], \"carpet\": [{\"aaxis\": {\"endlinecolor\": \"#2a3f5f\", \"gridcolor\": \"white\", \"linecolor\": \"white\", \"minorgridcolor\": \"white\", \"startlinecolor\": \"#2a3f5f\"}, \"baxis\": {\"endlinecolor\": \"#2a3f5f\", \"gridcolor\": \"white\", \"linecolor\": \"white\", \"minorgridcolor\": \"white\", \"startlinecolor\": \"#2a3f5f\"}, \"type\": \"carpet\"}], \"choropleth\": [{\"colorbar\": {\"outlinewidth\": 0, \"ticks\": \"\"}, \"type\": \"choropleth\"}], \"contour\": [{\"colorbar\": {\"outlinewidth\": 0, \"ticks\": \"\"}, \"colorscale\": [[0.0, \"#0d0887\"], [0.1111111111111111, \"#46039f\"], [0.2222222222222222, \"#7201a8\"], [0.3333333333333333, \"#9c179e\"], [0.4444444444444444, \"#bd3786\"], [0.5555555555555556, \"#d8576b\"], [0.6666666666666666, \"#ed7953\"], [0.7777777777777778, \"#fb9f3a\"], [0.8888888888888888, \"#fdca26\"], [1.0, \"#f0f921\"]], \"type\": \"contour\"}], \"contourcarpet\": [{\"colorbar\": {\"outlinewidth\": 0, \"ticks\": \"\"}, \"type\": \"contourcarpet\"}], \"heatmap\": [{\"colorbar\": {\"outlinewidth\": 0, \"ticks\": \"\"}, \"colorscale\": [[0.0, \"#0d0887\"], [0.1111111111111111, \"#46039f\"], [0.2222222222222222, \"#7201a8\"], [0.3333333333333333, \"#9c179e\"], [0.4444444444444444, \"#bd3786\"], [0.5555555555555556, \"#d8576b\"], [0.6666666666666666, \"#ed7953\"], [0.7777777777777778, \"#fb9f3a\"], [0.8888888888888888, \"#fdca26\"], [1.0, \"#f0f921\"]], \"type\": \"heatmap\"}], \"heatmapgl\": [{\"colorbar\": {\"outlinewidth\": 0, \"ticks\": \"\"}, \"colorscale\": [[0.0, \"#0d0887\"], [0.1111111111111111, \"#46039f\"], [0.2222222222222222, \"#7201a8\"], [0.3333333333333333, \"#9c179e\"], [0.4444444444444444, \"#bd3786\"], [0.5555555555555556, \"#d8576b\"], [0.6666666666666666, \"#ed7953\"], [0.7777777777777778, \"#fb9f3a\"], [0.8888888888888888, \"#fdca26\"], [1.0, \"#f0f921\"]], \"type\": \"heatmapgl\"}], \"histogram\": [{\"marker\": {\"colorbar\": {\"outlinewidth\": 0, \"ticks\": \"\"}}, \"type\": \"histogram\"}], \"histogram2d\": [{\"colorbar\": {\"outlinewidth\": 0, \"ticks\": \"\"}, \"colorscale\": [[0.0, \"#0d0887\"], [0.1111111111111111, \"#46039f\"], [0.2222222222222222, \"#7201a8\"], [0.3333333333333333, \"#9c179e\"], [0.4444444444444444, \"#bd3786\"], [0.5555555555555556, \"#d8576b\"], [0.6666666666666666, \"#ed7953\"], [0.7777777777777778, \"#fb9f3a\"], [0.8888888888888888, \"#fdca26\"], [1.0, \"#f0f921\"]], \"type\": \"histogram2d\"}], \"histogram2dcontour\": [{\"colorbar\": {\"outlinewidth\": 0, \"ticks\": \"\"}, \"colorscale\": [[0.0, \"#0d0887\"], [0.1111111111111111, \"#46039f\"], [0.2222222222222222, \"#7201a8\"], [0.3333333333333333, \"#9c179e\"], [0.4444444444444444, \"#bd3786\"], [0.5555555555555556, \"#d8576b\"], [0.6666666666666666, \"#ed7953\"], [0.7777777777777778, \"#fb9f3a\"], [0.8888888888888888, \"#fdca26\"], [1.0, \"#f0f921\"]], \"type\": \"histogram2dcontour\"}], \"mesh3d\": [{\"colorbar\": {\"outlinewidth\": 0, \"ticks\": \"\"}, \"type\": \"mesh3d\"}], \"parcoords\": [{\"line\": {\"colorbar\": {\"outlinewidth\": 0, \"ticks\": \"\"}}, \"type\": \"parcoords\"}], \"pie\": [{\"automargin\": true, \"type\": \"pie\"}], \"scatter\": [{\"marker\": {\"colorbar\": {\"outlinewidth\": 0, \"ticks\": \"\"}}, \"type\": \"scatter\"}], \"scatter3d\": [{\"line\": {\"colorbar\": {\"outlinewidth\": 0, \"ticks\": \"\"}}, \"marker\": {\"colorbar\": {\"outlinewidth\": 0, \"ticks\": \"\"}}, \"type\": \"scatter3d\"}], \"scattercarpet\": [{\"marker\": {\"colorbar\": {\"outlinewidth\": 0, \"ticks\": \"\"}}, \"type\": \"scattercarpet\"}], \"scattergeo\": [{\"marker\": {\"colorbar\": {\"outlinewidth\": 0, \"ticks\": \"\"}}, \"type\": \"scattergeo\"}], \"scattergl\": [{\"marker\": {\"colorbar\": {\"outlinewidth\": 0, \"ticks\": \"\"}}, \"type\": \"scattergl\"}], \"scattermapbox\": [{\"marker\": {\"colorbar\": {\"outlinewidth\": 0, \"ticks\": \"\"}}, \"type\": \"scattermapbox\"}], \"scatterpolar\": [{\"marker\": {\"colorbar\": {\"outlinewidth\": 0, \"ticks\": \"\"}}, \"type\": \"scatterpolar\"}], \"scatterpolargl\": [{\"marker\": {\"colorbar\": {\"outlinewidth\": 0, \"ticks\": \"\"}}, \"type\": \"scatterpolargl\"}], \"scatterternary\": [{\"marker\": {\"colorbar\": {\"outlinewidth\": 0, \"ticks\": \"\"}}, \"type\": \"scatterternary\"}], \"surface\": [{\"colorbar\": {\"outlinewidth\": 0, \"ticks\": \"\"}, \"colorscale\": [[0.0, \"#0d0887\"], [0.1111111111111111, \"#46039f\"], [0.2222222222222222, \"#7201a8\"], [0.3333333333333333, \"#9c179e\"], [0.4444444444444444, \"#bd3786\"], [0.5555555555555556, \"#d8576b\"], [0.6666666666666666, \"#ed7953\"], [0.7777777777777778, \"#fb9f3a\"], [0.8888888888888888, \"#fdca26\"], [1.0, \"#f0f921\"]], \"type\": \"surface\"}], \"table\": [{\"cells\": {\"fill\": {\"color\": \"#EBF0F8\"}, \"line\": {\"color\": \"white\"}}, \"header\": {\"fill\": {\"color\": \"#C8D4E3\"}, \"line\": {\"color\": \"white\"}}, \"type\": \"table\"}]}, \"layout\": {\"annotationdefaults\": {\"arrowcolor\": \"#2a3f5f\", \"arrowhead\": 0, \"arrowwidth\": 1}, \"coloraxis\": {\"colorbar\": {\"outlinewidth\": 0, \"ticks\": \"\"}}, \"colorscale\": {\"diverging\": [[0, \"#8e0152\"], [0.1, \"#c51b7d\"], [0.2, \"#de77ae\"], [0.3, \"#f1b6da\"], [0.4, \"#fde0ef\"], [0.5, \"#f7f7f7\"], [0.6, \"#e6f5d0\"], [0.7, \"#b8e186\"], [0.8, \"#7fbc41\"], [0.9, \"#4d9221\"], [1, \"#276419\"]], \"sequential\": [[0.0, \"#0d0887\"], [0.1111111111111111, \"#46039f\"], [0.2222222222222222, \"#7201a8\"], [0.3333333333333333, \"#9c179e\"], [0.4444444444444444, \"#bd3786\"], [0.5555555555555556, \"#d8576b\"], [0.6666666666666666, \"#ed7953\"], [0.7777777777777778, \"#fb9f3a\"], [0.8888888888888888, \"#fdca26\"], [1.0, \"#f0f921\"]], \"sequentialminus\": [[0.0, \"#0d0887\"], [0.1111111111111111, \"#46039f\"], [0.2222222222222222, \"#7201a8\"], [0.3333333333333333, \"#9c179e\"], [0.4444444444444444, \"#bd3786\"], [0.5555555555555556, \"#d8576b\"], [0.6666666666666666, \"#ed7953\"], [0.7777777777777778, \"#fb9f3a\"], [0.8888888888888888, \"#fdca26\"], [1.0, \"#f0f921\"]]}, \"colorway\": [\"#636efa\", \"#EF553B\", \"#00cc96\", \"#ab63fa\", \"#FFA15A\", \"#19d3f3\", \"#FF6692\", \"#B6E880\", \"#FF97FF\", \"#FECB52\"], \"font\": {\"color\": \"#2a3f5f\"}, \"geo\": {\"bgcolor\": \"white\", \"lakecolor\": \"white\", \"landcolor\": \"#E5ECF6\", \"showlakes\": true, \"showland\": true, \"subunitcolor\": \"white\"}, \"hoverlabel\": {\"align\": \"left\"}, \"hovermode\": \"closest\", \"mapbox\": {\"style\": \"light\"}, \"paper_bgcolor\": \"white\", \"plot_bgcolor\": \"#E5ECF6\", \"polar\": {\"angularaxis\": {\"gridcolor\": \"white\", \"linecolor\": \"white\", \"ticks\": \"\"}, \"bgcolor\": \"#E5ECF6\", \"radialaxis\": {\"gridcolor\": \"white\", \"linecolor\": \"white\", \"ticks\": \"\"}}, \"scene\": {\"xaxis\": {\"backgroundcolor\": \"#E5ECF6\", \"gridcolor\": \"white\", \"gridwidth\": 2, \"linecolor\": \"white\", \"showbackground\": true, \"ticks\": \"\", \"zerolinecolor\": \"white\"}, \"yaxis\": {\"backgroundcolor\": \"#E5ECF6\", \"gridcolor\": \"white\", \"gridwidth\": 2, \"linecolor\": \"white\", \"showbackground\": true, \"ticks\": \"\", \"zerolinecolor\": \"white\"}, \"zaxis\": {\"backgroundcolor\": \"#E5ECF6\", \"gridcolor\": \"white\", \"gridwidth\": 2, \"linecolor\": \"white\", \"showbackground\": true, \"ticks\": \"\", \"zerolinecolor\": \"white\"}}, \"shapedefaults\": {\"line\": {\"color\": \"#2a3f5f\"}}, \"ternary\": {\"aaxis\": {\"gridcolor\": \"white\", \"linecolor\": \"white\", \"ticks\": \"\"}, \"baxis\": {\"gridcolor\": \"white\", \"linecolor\": \"white\", \"ticks\": \"\"}, \"bgcolor\": \"#E5ECF6\", \"caxis\": {\"gridcolor\": \"white\", \"linecolor\": \"white\", \"ticks\": \"\"}}, \"title\": {\"x\": 0.05}, \"xaxis\": {\"automargin\": true, \"gridcolor\": \"white\", \"linecolor\": \"white\", \"ticks\": \"\", \"title\": {\"standoff\": 15}, \"zerolinecolor\": \"white\", \"zerolinewidth\": 2}, \"yaxis\": {\"automargin\": true, \"gridcolor\": \"white\", \"linecolor\": \"white\", \"ticks\": \"\", \"title\": {\"standoff\": 15}, \"zerolinecolor\": \"white\", \"zerolinewidth\": 2}}}, \"title\": {\"text\": \"10 Worst hit countries\"}, \"width\": 700, \"xaxis\": {\"anchor\": \"y\", \"categoryarray\": [\"\\u05d1\\u05e0\\u05d9 \\u05d1\\u05e8\\u05e7\", \"\\u05e7\\u05e8\\u05d9\\u05ea \\u05d9\\u05e2\\u05e8\\u05d9\\u05dd\", \"\\u05db\\u05d5\\u05db\\u05d1 \\u05d9\\u05e2\\u05e7\\u05d1\", \"\\u05db\\u05e4\\u05e8 \\u05d7\\u05d1\\\"\\u05d3\", \"\\u05d0\\u05dc\\u05e2\\u05d3\", \"\\u05d0\\u05e4\\u05e8\\u05ea\", \"\\u05de\\u05e6\\u05e4\\u05d4 \\u05e8\\u05de\\u05d5\\u05df\", \"\\u05de\\u05d2\\u05d3\\u05dc \\u05d4\\u05e2\\u05de\\u05e7\", \"\\u05de\\u05d5\\u05d3\\u05d9\\u05e2\\u05d9\\u05df \\u05e2\\u05d9\\u05dc\\u05d9\\u05ea\", \"\\u05d0\\u05d5\\u05e8 \\u05d9\\u05d4\\u05d5\\u05d3\\u05d4\"], \"categoryorder\": \"array\", \"domain\": [0.0, 1.0], \"title\": {\"text\": \"Countries\"}}, \"yaxis\": {\"anchor\": \"x\", \"domain\": [0.0, 1.0], \"title\": {\"text\": \"Confirmed Cases\"}}},\n                        {\"responsive\": true}\n                    ).then(function(){\n                            \nvar gd = document.getElementById('ce15e5e7-08bd-4b83-b8a0-7244a627bc5d');\nvar x = new MutationObserver(function (mutations, observer) {{\n        var display = window.getComputedStyle(gd).display;\n        if (!display || display === 'none') {{\n            console.log([gd, 'removed!']);\n            Plotly.purge(gd);\n            observer.disconnect();\n        }}\n}});\n\n// Listen for the removal of the full notebook cells\nvar notebookContainer = gd.closest('#notebook-container');\nif (notebookContainer) {{\n    x.observe(notebookContainer, {childList: true});\n}}\n\n// Listen for the clearing of the current output cell\nvar outputEl = gd.closest('.output');\nif (outputEl) {{\n    x.observe(outputEl, {childList: true});\n}}\n\n                        })\n                };\n                \n            </script>\n        </div>\n</body>\n</html>"
       }
      ]
     }
    }
   }
  }
 },
 "nbformat": 4,
 "nbformat_minor": 4
}
