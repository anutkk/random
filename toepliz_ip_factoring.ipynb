{
 "metadata": {
  "language_info": {
   "codemirror_mode": {
    "name": "ipython",
    "version": 3
   },
   "file_extension": ".py",
   "mimetype": "text/x-python",
   "name": "python",
   "nbconvert_exporter": "python",
   "pygments_lexer": "ipython3",
   "version": "3.7.6-final"
  },
  "orig_nbformat": 2,
  "kernelspec": {
   "name": "python3",
   "display_name": "Python 3"
  }
 },
 "nbformat": 4,
 "nbformat_minor": 2,
 "cells": [
  {
   "source": [
    "# Integer Levinson Algoritm\n",
    "\n",
    "Implementation of \"LEVINSON ALGORITHM OVER INTEGERS FOR STRONGLY REGULAR HERMITIAN TOEPLITZ MATRICES\" by Segalov and Bistritz.\n",
    "\n",
    "The [Levinson Algorithm](https://en.wikipedia.org/wiki/Levinson_recursion) is a procedure in linear algebra to recursively calculate the solution to an equation involving a Toeplitz matrix. The matrix structure is taken advantage of to get a better complexity than classic Gauss reduction.\n",
    "\n",
    "The following version works purely in integers."
   ],
   "cell_type": "markdown",
   "metadata": {}
  },
  {
   "source": [
    "$$\n",
    "R_n = \\begin{pmatrix}\n",
    "r_0 & r_1 & ... & r_n\\\\\n",
    "r_1* & r_0 & ... & r_{n-1}\\\\\n",
    "\\vdots &  & \\ddots & \\\\\n",
    "r_n* & r_{n-1}* & ... & r_0\\\\\n",
    "\\end{pmatrix}\n",
    "\n",
    "\\\\\n",
    "\\\\\n",
    "\n",
    "R_n \\cdot \\begin{bmatrix}\n",
    "\\alpha_0 \\\\\n",
    "\\vdots \\\\\n",
    "\\alpha_{n-1} \\\\\n",
    "1\n",
    "\\end{bmatrix}\n",
    "\n",
    "=\n",
    "\n",
    "\\begin{bmatrix}\n",
    "0 \\\\\n",
    "\\vdots \\\\\n",
    "0 \\\\\n",
    "E_n\n",
    "\\end{bmatrix}\n",
    "\n",
    "\n",
    "\n",
    "$$"
   ],
   "cell_type": "markdown",
   "metadata": {}
  },
  {
   "source": [
    "Define polynomial class:"
   ],
   "cell_type": "markdown",
   "metadata": {}
  },
  {
   "cell_type": "code",
   "execution_count": 43,
   "metadata": {},
   "outputs": [],
   "source": [
    "class Polynomial:\n",
    "    def __init__(self, coeffs = [1]): #init to 1\n",
    "            self.coeffs = coeffs\n",
    "            \n",
    "    def __rmul__(self, other): #multiplication by scalar\n",
    "        new_coeffs = []\n",
    "        for c in self.coeffs:\n",
    "            new_coeffs += [c * other]\n",
    "        return Polynomial(new_coeffs)\n",
    "    \n",
    "    def __truediv__(self, other): #divison by scalar\n",
    "        new_coeffs = []\n",
    "        for c in self.coeffs:\n",
    "            new_coeffs += [c // other]\n",
    "        return Polynomial(new_coeffs)\n",
    "\n",
    "    \n",
    "    def __add__(self, other): # add to other polynom\n",
    "        cs1 = self.coeffs\n",
    "        cs2 = other.coeffs\n",
    "        if len(cs2)<len(cs1):\n",
    "            cs2 = cs2 + [0]*(len(cs1)-len(cs2))\n",
    "        elif len(cs1)<len(cs2):\n",
    "            cs1 = cs1 + [0]*(len(cs2)-len(cs1))\n",
    "        res = [sum(x) for x in zip(cs1, cs2)]\n",
    "        return Polynomial(res)\n",
    "    \n",
    "    def __sub__(self, other):\n",
    "        return self + (-1)*other\n",
    "    \n",
    "    def multiplybyz(self):\n",
    "        return Polynomial([0] + self.coeffs)\n",
    "    \n",
    "    def reciprocal(self):\n",
    "        new_coeffs = [x.conjugate() for x in self.coeffs[::-1]]\n",
    "        return Polynomial(new_coeffs)\n",
    "\n",
    "    def __call__(self, z):\n",
    "        res = 0\n",
    "        for coeff in self.coeffs[::-1]:\n",
    "            res = res * z + coeff\n",
    "        return res \n",
    "    \n",
    "    def levinson_eval(self, rs):\n",
    "        res = 0\n",
    "        for i, c in enumerate(self.coeffs):\n",
    "            res += c * r[i+1]\n",
    "        return res\n",
    "    \n",
    "    def __str__(self):\n",
    "        s = ''\n",
    "        for p, coeff in enumerate(self.coeffs[::-1]):\n",
    "            p1 = len(self.coeffs) - 1 - p\n",
    "            if coeff!=0:\n",
    "                if coeff==1 and p1>0:\n",
    "                    s_tmp = ''\n",
    "                else:\n",
    "                    s_tmp = str(coeff)\n",
    "                if p1>0:\n",
    "                    s_tmp += 'z'\n",
    "                if p1>1:\n",
    "                    s_tmp +='^'+str(p1)               \n",
    "                    \n",
    "                if s=='':\n",
    "                    s = s_tmp\n",
    "                else:\n",
    "                    s += ' + ' + s_tmp\n",
    "        return s\n",
    "    \n",
    "    def __repr__(self):\n",
    "        return self.__str__()"
   ]
  },
  {
   "cell_type": "code",
   "execution_count": 23,
   "metadata": {},
   "outputs": [
    {
     "output_type": "stream",
     "name": "stdout",
     "text": [
      "3z^2 + 2z + 1\n3z^3 + 2z^2 + z\n15z^2 + 10z + 5\n"
     ]
    }
   ],
   "source": [
    "a = Polynomial([1,2,3])\n",
    "print(a)\n",
    "print(a.multiplybyz())\n",
    "print(5*a)"
   ]
  },
  {
   "source": [
    "r = list(range(1,30+1)[::-1])\n",
    "#from scipy.linalg import toeplitz\n",
    "#print(toeplitz(r))\n",
    "\n",
    "f = Polynomial([1])\n",
    "e = r[0]\n",
    "d = r[1]\n",
    "e_prev = 1\n",
    "print(f'0 | f={f}  e={e} d={d}  ')\n",
    "for m in range(1, len(r)):\n",
    "    f = (e * f.multiplybyz() - d * f.reciprocal()) / f.coeffs[-1]\n",
    "    e, e_prev = (e**2 - abs(d)**2) // e_prev , e\n",
    "    if m<(len(r)-1):\n",
    "        d = f.levinson_eval(r)\n",
    "    else:\n",
    "        d = None\n",
    "    print(f'{m} | f={f}  e={e} d={d}  ')\n",
    "\n",
    "print(\"Solution:\")\n",
    "from fractions import Fraction\n",
    "alphas_str = [str(Fraction(x,f.coeffs[-1]))  for x in f.coeffs]\n",
    "En = Fraction(e, f.coeffs[-1])\n",
    "print(f'alpha = {alphas_str}, En={En}')\n"
   ],
   "cell_type": "code",
   "metadata": {},
   "execution_count": 60,
   "outputs": [
    {
     "output_type": "stream",
     "name": "stdout",
     "text": [
      "0 | f=1  e=30 d=29  \n1 | f=30z + -29  e=59 d=-1  \n2 | f=59z^2 + -58z + 1  e=116 d=-2  \n3 | f=116z^3 + -114z^2 + 2  e=228 d=-4  \n4 | f=228z^4 + -224z^3 + 4  e=448 d=-8  \n5 | f=448z^5 + -440z^4 + 8  e=880 d=-16  \n6 | f=880z^6 + -864z^5 + 16  e=1728 d=-32  \n7 | f=1728z^7 + -1696z^6 + 32  e=3392 d=-64  \n8 | f=3392z^8 + -3328z^7 + 64  e=6656 d=-128  \n9 | f=6656z^9 + -6528z^8 + 128  e=13056 d=-256  \n10 | f=13056z^10 + -12800z^9 + 256  e=25600 d=-512  \n11 | f=25600z^11 + -25088z^10 + 512  e=50176 d=-1024  \n12 | f=50176z^12 + -49152z^11 + 1024  e=98304 d=-2048  \n13 | f=98304z^13 + -96256z^12 + 2048  e=192512 d=-4096  \n14 | f=192512z^14 + -188416z^13 + 4096  e=376832 d=-8192  \n15 | f=376832z^15 + -368640z^14 + 8192  e=737280 d=-16384  \n16 | f=737280z^16 + -720896z^15 + 16384  e=1441792 d=-32768  \n17 | f=1441792z^17 + -1409024z^16 + 32768  e=2818048 d=-65536  \n18 | f=2818048z^18 + -2752512z^17 + 65536  e=5505024 d=-131072  \n19 | f=5505024z^19 + -5373952z^18 + 131072  e=10747904 d=-262144  \n20 | f=10747904z^20 + -10485760z^19 + 262144  e=20971520 d=-524288  \n21 | f=20971520z^21 + -20447232z^20 + 524288  e=40894464 d=-1048576  \n22 | f=40894464z^22 + -39845888z^21 + 1048576  e=79691776 d=-2097152  \n23 | f=79691776z^23 + -77594624z^22 + 2097152  e=155189248 d=-4194304  \n24 | f=155189248z^24 + -150994944z^23 + 4194304  e=301989888 d=-8388608  \n25 | f=301989888z^25 + -293601280z^24 + 8388608  e=587202560 d=-16777216  \n26 | f=587202560z^26 + -570425344z^25 + 16777216  e=1140850688 d=-33554432  \n27 | f=1140850688z^27 + -1107296256z^26 + 33554432  e=2214592512 d=-67108864  \n28 | f=2214592512z^28 + -2147483648z^27 + 67108864  e=4294967296 d=-134217728  \n29 | f=4294967296z^29 + -4160749568z^28 + 134217728  e=8321499136 d=None  \nSolution:\nalpha = ['1/32', '0', '0', '0', '0', '0', '0', '0', '0', '0', '0', '0', '0', '0', '0', '0', '0', '0', '0', '0', '0', '0', '0', '0', '0', '0', '0', '0', '-31/32', '1'], En=31/16\n"
     ]
    }
   ]
  },
  {
   "source": [
    "Verification of solution:"
   ],
   "cell_type": "markdown",
   "metadata": {}
  },
  {
   "cell_type": "code",
   "execution_count": 63,
   "metadata": {},
   "outputs": [
    {
     "output_type": "stream",
     "name": "stdout",
     "text": [
      "[0.     0.     0.     0.     0.     0.     0.     0.     0.     0.\n 0.     0.     0.     0.     0.     0.     0.     0.     0.     0.\n 0.     0.     0.     0.     0.     0.     0.     0.     0.     1.9375]\n"
     ]
    }
   ],
   "source": [
    "import numpy as np\n",
    "from scipy.linalg import toeplitz\n",
    "mat = toeplitz(r)\n",
    "alphas = np.array([x/f.coeffs[-1]  for x in f.coeffs])\n",
    "print(np.dot(mat,alphas))"
   ]
  },
  {
   "cell_type": "code",
   "execution_count": null,
   "metadata": {},
   "outputs": [],
   "source": []
  }
 ]
}