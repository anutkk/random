{
 "cells": [
  {
   "cell_type": "markdown",
   "metadata": {},
   "source": [
    "# Download Zoom Cloud Recording\n",
    "\n",
    "A sample notebook which illustrates how to download a cloud recording from Zoom.\n",
    "\n",
    "Imports:"
   ]
  },
  {
   "cell_type": "code",
   "execution_count": null,
   "metadata": {},
   "outputs": [],
   "source": [
    "import requests #to get data\n",
    "from bs4 import BeautifulSoup #to parse\n",
    "import string #create valid filename\n",
    "import time #timestamp for output filename"
   ]
  },
  {
   "cell_type": "markdown",
   "metadata": {},
   "source": [
    "URL of cloud recording:"
   ]
  },
  {
   "cell_type": "code",
   "execution_count": 5,
   "metadata": {},
   "outputs": [],
   "source": [
    "url = \"https://zoom.us/rec/share/_PUT_DETAILS_HERE\""
   ]
  },
  {
   "cell_type": "markdown",
   "metadata": {},
   "source": [
    "A function by [seanh](https://gist.github.com/seanh/93666) to create a valid filename:"
   ]
  },
  {
   "cell_type": "code",
   "execution_count": 6,
   "metadata": {},
   "outputs": [],
   "source": [
    "#source: https://gist.github.com/seanh/93666\n",
    "def format_filename(s):\n",
    "    valid_chars = \"-_.() %s%s\" % (string.ascii_letters, string.digits)\n",
    "    filename = ''.join(c for c in s if c in valid_chars)\n",
    "    filename = filename.replace(' ','_') # I don't like spaces in filenames.\n",
    "    return filename"
   ]
  },
  {
   "cell_type": "markdown",
   "metadata": {},
   "source": [
    "Get the actual video URL and download to current folder:"
   ]
  },
  {
   "cell_type": "code",
   "execution_count": 7,
   "metadata": {},
   "outputs": [],
   "source": [
    "with requests.Session() as s: #so that cookies are kept along requests\n",
    "    raw = s.get(url)\n",
    "    parsed = BeautifulSoup(raw.text, 'html.parser')   #parse  \n",
    "     #turns out in the original HTML response the actual URL is nested in <source> element inside of <video> element\n",
    "    vurl = parsed.find('video').find_all('source')[1].get('src')\n",
    "    # get video data\n",
    "    vid = s.get(vurl, stream=True, timeout=20, headers={'referer':'https://zoom.us'}) #referer is needed because note included in requests session\n",
    "    ofn = format_filename(parsed.find('title').string) + str(time.time()) + '.mp4' #create valid timestamped filename for output\n",
    "    \n",
    "    #write output to file:\n",
    "    with open(ofn, 'wb') as f:\n",
    "        for data in vid.iter_content(chunk_size=1024, decode_unicode=False):\n",
    "            f.write(data)"
   ]
  }
 ],
 "metadata": {
  "kernelspec": {
   "display_name": "Python 3",
   "language": "python",
   "name": "python3"
  },
  "language_info": {
   "codemirror_mode": {
    "name": "ipython",
    "version": 3
   },
   "file_extension": ".py",
   "mimetype": "text/x-python",
   "name": "python",
   "nbconvert_exporter": "python",
   "pygments_lexer": "ipython3",
   "version": "3.7.6"
  }
 },
 "nbformat": 4,
 "nbformat_minor": 2
}
