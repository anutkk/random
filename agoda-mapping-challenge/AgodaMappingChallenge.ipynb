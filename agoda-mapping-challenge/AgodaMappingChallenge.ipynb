{
  "cells": [
    {
      "cell_type": "markdown",
      "metadata": {
        "id": "ZcbPIDUiLuSk"
      },
      "source": [
        "# Agoda Mapping Challenge\n",
        "\n",
        "- Compute embeddings of data\n",
        "    - TF-IDF (term frequency-inverse document frequency)\n",
        "- Columnwise / Concatenation of columns\n",
        "- Compute cosine similarity between embeddings\n",
        "    - Gives a similarity matrix per field\n",
        "- Total similarity matrix is an addition/multiplication combination of field matrices\n",
        "- For each row choose the column corresponding to the row maximum\n",
        "    - In case of collision (i.e. two or more hotels mapped to the same hotel) – go for the next unassigned index with the largest similarity\n",
        "    - If the similarity falls behind a fixed threshold – do not map any hotel\n",
        "\n",
        "Testing was performed on all examples + some rows from the unlabeled data\n",
        "Simulate hotels without true mapping\n"
      ]
    },
    {
      "cell_type": "code",
      "execution_count": 232,
      "metadata": {
        "id": "aEzzegsqT0nk"
      },
      "outputs": [],
      "source": [
        "#@title Mode { display-mode: \"form\" }\n",
        "MODE = \"test\" #@param [\"test\", \"real\"]"
      ]
    },
    {
      "cell_type": "code",
      "execution_count": 233,
      "metadata": {
        "id": "4S2SNaER88uE"
      },
      "outputs": [],
      "source": [
        "import pandas as pd\n",
        "import numpy as np\n",
        "from sklearn.feature_extraction.text import TfidfVectorizer"
      ]
    },
    {
      "cell_type": "markdown",
      "metadata": {
        "id": "5FUNWFjJLyYy"
      },
      "source": [
        "Import data:"
      ]
    },
    {
      "cell_type": "code",
      "execution_count": 234,
      "metadata": {
        "id": "ZMuPTnR05bDn"
      },
      "outputs": [],
      "source": [
        "data = pd.read_excel('mappinghotelsdataset.xlsx', sheet_name=None, keep_default_na=False)"
      ]
    },
    {
      "cell_type": "markdown",
      "metadata": {
        "id": "Qc7nZHz4L9nk"
      },
      "source": [
        "Preview data:"
      ]
    },
    {
      "cell_type": "code",
      "execution_count": 235,
      "metadata": {
        "colab": {
          "base_uri": "https://localhost:8080/",
          "height": 400
        },
        "id": "XR5Z28Eb7DFk",
        "outputId": "c76ff8a5-bd7d-4fa1-bbd3-a6e9c0d3ae1d"
      },
      "outputs": [
        {
          "data": {
            "text/html": [
              "<div>\n",
              "<style scoped>\n",
              "    .dataframe tbody tr th:only-of-type {\n",
              "        vertical-align: middle;\n",
              "    }\n",
              "\n",
              "    .dataframe tbody tr th {\n",
              "        vertical-align: top;\n",
              "    }\n",
              "\n",
              "    .dataframe thead th {\n",
              "        text-align: right;\n",
              "    }\n",
              "</style>\n",
              "<table border=\"1\" class=\"dataframe\">\n",
              "  <thead>\n",
              "    <tr style=\"text-align: right;\">\n",
              "      <th></th>\n",
              "      <th>p1.key</th>\n",
              "      <th>p1.hotel_name</th>\n",
              "      <th>p1.city_name</th>\n",
              "      <th>p1.country_code</th>\n",
              "      <th>p1.hotel_address</th>\n",
              "      <th>p1.star_rating</th>\n",
              "      <th>p1.postal_code</th>\n",
              "      <th>p2.key</th>\n",
              "      <th>p2.hotel_name</th>\n",
              "      <th>p2.city_name</th>\n",
              "      <th>p2.country_code</th>\n",
              "      <th>p2.hotel_address</th>\n",
              "      <th>p2.star_rating</th>\n",
              "      <th>p2.postal_code</th>\n",
              "    </tr>\n",
              "  </thead>\n",
              "  <tbody>\n",
              "    <tr>\n",
              "      <th>0</th>\n",
              "      <td>074BF1CC1F1C150E080EBB9855D23EAC</td>\n",
              "      <td>Grand Malioboro Hotel</td>\n",
              "      <td>Jambi</td>\n",
              "      <td>ID</td>\n",
              "      <td>Jl. Iskandar Muda no. 168 Jambi</td>\n",
              "      <td>3.0</td>\n",
              "      <td></td>\n",
              "      <td>CBEF956F35D16548C939056575C7E0C7</td>\n",
              "      <td>Grand Malioboro Hotel</td>\n",
              "      <td>Jambi</td>\n",
              "      <td>ID</td>\n",
              "      <td>Jalan Iskandar Muda No. 168, Sei Asam, Pasar J...</td>\n",
              "      <td>3.0</td>\n",
              "      <td>36113</td>\n",
              "    </tr>\n",
              "    <tr>\n",
              "      <th>1</th>\n",
              "      <td>103756D573E5A0C80ED374C9637DB142</td>\n",
              "      <td>Full House Resort</td>\n",
              "      <td>Mae Suai / Wiang Pa Pao (Chiang Rai)</td>\n",
              "      <td>TH</td>\n",
              "      <td>171 Moo.1 Tambol Pa Ngiu Ampor Wiangpapao Chia...</td>\n",
              "      <td>3.0</td>\n",
              "      <td>57170</td>\n",
              "      <td>603122E5379E7354B532B876BB149C8D</td>\n",
              "      <td>Fullhouse Resort</td>\n",
              "      <td>Ban Pa Ngiu</td>\n",
              "      <td>TH</td>\n",
              "      <td>171 Moo.1 Tambol Pangiu Chiangrai</td>\n",
              "      <td>3.0</td>\n",
              "      <td>57170</td>\n",
              "    </tr>\n",
              "    <tr>\n",
              "      <th>2</th>\n",
              "      <td>341522B8405C1A26EA3786E3F702AA0C</td>\n",
              "      <td>Ondas Do Mar Beach Resort Phase 1</td>\n",
              "      <td>Goa</td>\n",
              "      <td>IN</td>\n",
              "      <td>Holiday St, Gaura Waddo</td>\n",
              "      <td>2.0</td>\n",
              "      <td>403516</td>\n",
              "      <td>DC03E5D79546157E53DB083C349BF03F</td>\n",
              "      <td>Ondas Do Mar Beach Resort Phase -1</td>\n",
              "      <td>Calangute</td>\n",
              "      <td>IN</td>\n",
              "      <td>Holiday Street, Gaura Waddo, Calangute,Bardez,Goa</td>\n",
              "      <td>0.0</td>\n",
              "      <td>403516</td>\n",
              "    </tr>\n",
              "    <tr>\n",
              "      <th>3</th>\n",
              "      <td>85F1C44C25A14B5E918B6D2917FEF5E2</td>\n",
              "      <td>7 Days Inn Guangzhou Baiyun Yongtai Metro 2nd ...</td>\n",
              "      <td>Guangzhou</td>\n",
              "      <td>CN</td>\n",
              "      <td>Building 3, No. 116 Tongtai Road</td>\n",
              "      <td>1.5</td>\n",
              "      <td></td>\n",
              "      <td>739B4F2C65D4DBCE62C30CE8C18FCBFF</td>\n",
              "      <td>7Days Inn Guangzhou Baiyun Yongtai Subway Stat...</td>\n",
              "      <td>Guangzhou</td>\n",
              "      <td>CN</td>\n",
              "      <td>No. 3 Building, No. 116 Tongtai Road, Baiyun D...</td>\n",
              "      <td>2.0</td>\n",
              "      <td>510420</td>\n",
              "    </tr>\n",
              "    <tr>\n",
              "      <th>4</th>\n",
              "      <td>58F58899B2131D5BB416262DD7000418</td>\n",
              "      <td>Hampton Inn Rome</td>\n",
              "      <td>Rome (NY)</td>\n",
              "      <td>US</td>\n",
              "      <td>1352 Floyd Avenue</td>\n",
              "      <td>2.5</td>\n",
              "      <td>13441</td>\n",
              "      <td>B78EC933B2CF6DD45038CC86611EEA49</td>\n",
              "      <td>Hampton Inn Rome</td>\n",
              "      <td>Rome</td>\n",
              "      <td>US</td>\n",
              "      <td>1352 Floyd Avenue</td>\n",
              "      <td>4.0</td>\n",
              "      <td>13441</td>\n",
              "    </tr>\n",
              "  </tbody>\n",
              "</table>\n",
              "</div>"
            ],
            "text/plain": [
              "                             p1.key  ... p2.postal_code\n",
              "0  074BF1CC1F1C150E080EBB9855D23EAC  ...          36113\n",
              "1  103756D573E5A0C80ED374C9637DB142  ...          57170\n",
              "2  341522B8405C1A26EA3786E3F702AA0C  ...         403516\n",
              "3  85F1C44C25A14B5E918B6D2917FEF5E2  ...         510420\n",
              "4  58F58899B2131D5BB416262DD7000418  ...          13441\n",
              "\n",
              "[5 rows x 14 columns]"
            ]
          },
          "execution_count": 235,
          "metadata": {},
          "output_type": "execute_result"
        }
      ],
      "source": [
        "data['examples'].head()"
      ]
    },
    {
      "cell_type": "code",
      "execution_count": 236,
      "metadata": {
        "colab": {
          "base_uri": "https://localhost:8080/",
          "height": 258
        },
        "id": "wNwdLBzB7ot1",
        "outputId": "0c33ce75-3143-4e18-889a-f41fca7bf007"
      },
      "outputs": [
        {
          "data": {
            "text/html": [
              "<div>\n",
              "<style scoped>\n",
              "    .dataframe tbody tr th:only-of-type {\n",
              "        vertical-align: middle;\n",
              "    }\n",
              "\n",
              "    .dataframe tbody tr th {\n",
              "        vertical-align: top;\n",
              "    }\n",
              "\n",
              "    .dataframe thead th {\n",
              "        text-align: right;\n",
              "    }\n",
              "</style>\n",
              "<table border=\"1\" class=\"dataframe\">\n",
              "  <thead>\n",
              "    <tr style=\"text-align: right;\">\n",
              "      <th></th>\n",
              "      <th>p1.key</th>\n",
              "      <th>p1.hotel_name</th>\n",
              "      <th>p1.city_name</th>\n",
              "      <th>p1.country_code</th>\n",
              "      <th>p1.hotel_address</th>\n",
              "      <th>p1.star_rating</th>\n",
              "      <th>p1.postal_code</th>\n",
              "    </tr>\n",
              "  </thead>\n",
              "  <tbody>\n",
              "    <tr>\n",
              "      <th>0</th>\n",
              "      <td>5E876BFEA81A39E42E3019FE17303D52</td>\n",
              "      <td>Elite Grande Hotel</td>\n",
              "      <td>Manama</td>\n",
              "      <td>BH</td>\n",
              "      <td>Bldg 3378, Road 2845, Area 428</td>\n",
              "      <td>4.0</td>\n",
              "      <td>5458</td>\n",
              "    </tr>\n",
              "    <tr>\n",
              "      <th>1</th>\n",
              "      <td>4F315989358CC0F3F7869F569887743D</td>\n",
              "      <td>Quality Inn West Chester</td>\n",
              "      <td>West Chester (OH)</td>\n",
              "      <td>US</td>\n",
              "      <td>8567 Cincinnati Dayton Road</td>\n",
              "      <td>3.0</td>\n",
              "      <td>45069</td>\n",
              "    </tr>\n",
              "    <tr>\n",
              "      <th>2</th>\n",
              "      <td>A4EEBCBB9932DADE591248DFFFBDC068</td>\n",
              "      <td>MAP5 Village Resort</td>\n",
              "      <td>Goa</td>\n",
              "      <td>IN</td>\n",
              "      <td>Vithaldas Wadoo</td>\n",
              "      <td>3.0</td>\n",
              "      <td>403512</td>\n",
              "    </tr>\n",
              "    <tr>\n",
              "      <th>3</th>\n",
              "      <td>2833BE9FD49A063A36D3DE1E5E28ABC4</td>\n",
              "      <td>Hampton Inn &amp; Suites San Jose Hotel</td>\n",
              "      <td>San Jose (CA)</td>\n",
              "      <td>US</td>\n",
              "      <td>55 Old Tully Road</td>\n",
              "      <td>3.0</td>\n",
              "      <td>95111</td>\n",
              "    </tr>\n",
              "    <tr>\n",
              "      <th>4</th>\n",
              "      <td>F7C20B50AE5C6C807BAABB65B8926F07</td>\n",
              "      <td>Favehotel Daeng Tompo</td>\n",
              "      <td>Makassar</td>\n",
              "      <td>ID</td>\n",
              "      <td>Daeng Tompo Street number 28, Losari</td>\n",
              "      <td>3.0</td>\n",
              "      <td></td>\n",
              "    </tr>\n",
              "  </tbody>\n",
              "</table>\n",
              "</div>"
            ],
            "text/plain": [
              "                             p1.key  ... p1.postal_code\n",
              "0  5E876BFEA81A39E42E3019FE17303D52  ...           5458\n",
              "1  4F315989358CC0F3F7869F569887743D  ...          45069\n",
              "2  A4EEBCBB9932DADE591248DFFFBDC068  ...         403512\n",
              "3  2833BE9FD49A063A36D3DE1E5E28ABC4  ...          95111\n",
              "4  F7C20B50AE5C6C807BAABB65B8926F07  ...               \n",
              "\n",
              "[5 rows x 7 columns]"
            ]
          },
          "execution_count": 236,
          "metadata": {},
          "output_type": "execute_result"
        }
      ],
      "source": [
        "data['Partner1'].head()"
      ]
    },
    {
      "cell_type": "markdown",
      "metadata": {
        "id": "en_TufPXMBb7"
      },
      "source": [
        "Choose data:"
      ]
    },
    {
      "cell_type": "code",
      "execution_count": 237,
      "metadata": {
        "id": "iZ1cAuxL7Zms"
      },
      "outputs": [],
      "source": [
        "if MODE=='real':\n",
        "  df1 = data['Partner1']\n",
        "  df2 = data['Partner2']\n",
        "elif MODE=='test':\n",
        "  df1 = data['examples'].iloc[:,:7].append(data['Partner1'].iloc[:10,:]).reset_index()\n",
        "  df2 = data['examples'].iloc[:,7:].append(data['Partner2'].iloc[:10,:]).reset_index()\n",
        "else:\n",
        "  raise(Exception(\"Invalid mode\"))"
      ]
    },
    {
      "cell_type": "markdown",
      "metadata": {
        "id": "KbWdgiGSQcol"
      },
      "source": [
        "Helper function to compute TF-IDF vectors:"
      ]
    },
    {
      "cell_type": "code",
      "execution_count": 238,
      "metadata": {
        "id": "h56uXVqfBSE1"
      },
      "outputs": [],
      "source": [
        "def pw_sim(docs1 : list, docs2 : list):\n",
        "  vect = TfidfVectorizer(analyzer='char')\n",
        "  tfidf = vect.fit_transform(docs1 + docs2)\n",
        "  tfidf1 = tfidf[:len(docs1)]\n",
        "  tfidf2 = tfidf[len(docs2):]\n",
        "  pairwise_similarity = tfidf1 * tfidf2.T\n",
        "  return pairwise_similarity"
      ]
    },
    {
      "cell_type": "markdown",
      "metadata": {
        "id": "cwxISQQgQoEQ"
      },
      "source": [
        "Compute cosine similarities for fields:"
      ]
    },
    {
      "cell_type": "code",
      "execution_count": 239,
      "metadata": {
        "id": "9FcfL_EmBmKg"
      },
      "outputs": [],
      "source": [
        "pw_sim_names = pw_sim(df1['p1.hotel_name'].to_list() , df2['p2.hotel_name'].to_list())\n",
        "\n",
        "pw_sim_adresses = pw_sim(df1['p1.hotel_address'].fillna('').astype(str).to_list() , df2['p2.hotel_address'].fillna('').astype(str).to_list())\n",
        "\n",
        "locations1 = df1['p1.hotel_address'].fillna('').astype(str) + df1['p1.city_name'] + df1['p1.postal_code'].fillna('').astype(str)\n",
        "locations2 = df2['p2.hotel_address'].fillna('').astype(str) + df2['p2.city_name'] + df2['p2.postal_code'].fillna('').astype(str)\n",
        "pw_sim_locs = pw_sim(locations1.to_list() , locations2.to_list())\n",
        "\n",
        "pw_sim_country = pw_sim(df1['p1.country_code'].to_list() , df2['p2.country_code'].to_list())\n",
        "pw_sim_country = (pw_sim_country > 0.9).astype(int)"
      ]
    },
    {
      "cell_type": "markdown",
      "metadata": {
        "id": "rFxqAbWLpX1g"
      },
      "source": [
        "We use the following combined similarity matrix:"
      ]
    },
    {
      "cell_type": "code",
      "execution_count": 240,
      "metadata": {
        "id": "pradu2oWpdBw"
      },
      "outputs": [],
      "source": [
        "pw = pw_sim_country.multiply((pw_sim_names+pw_sim_adresses+pw_sim_locs))\n",
        "# pw = pw_sim_country.multiply((pw_sim_names+0.5*pw_sim_adresses+0.5*pw_sim_locs))"
      ]
    },
    {
      "cell_type": "markdown",
      "metadata": {
        "id": "ivcxTf_FQrlG"
      },
      "source": [
        "We can now search the maximum by row/column. In case of duplicate assignment we go for the next unassigned index with the largest similarity."
      ]
    },
    {
      "cell_type": "code",
      "execution_count": 241,
      "metadata": {
        "id": "FhtObgrVnJEx"
      },
      "outputs": [],
      "source": [
        "THRESHOLD = 1.5 #fine tuned on test data\n",
        "\n",
        "def predict3(pairwise_similarity):\n",
        "  dir1to2 = np.argmax(pairwise_similarity.toarray(), axis=1)\n",
        "  dir2to1 = np.argmax(pairwise_similarity.toarray(), axis=0)\n",
        "  dir2to1_reversed = np.arange(len(dir2to1))[dir2to1]\n",
        "\n",
        "  # solve conflicts = duplicates by choosing next highest value\n",
        "  def remove_duplicates(x):\n",
        "    u, c = np.unique(x, return_counts=True)\n",
        "    dups = u[c > 1]\n",
        "    for dup in dups:\n",
        "      idup = np.squeeze(np.argwhere(x==dup))\n",
        "      x[x==dup] = -1\n",
        "      sims = pairwise_similarity[idup,:].toarray()\n",
        "      \n",
        "      while np.sum(sims>=0)>0:\n",
        "        imax, jmax = np.unravel_index(np.argmax(sims), sims.shape)\n",
        "        if jmax in x: #already assigned\n",
        "          sims[:,jmax] = -1\n",
        "        else: \n",
        "          if sims[imax, jmax] > THRESHOLD:\n",
        "            x[idup[imax]] = jmax\n",
        "            sims[imax,:] = -1\n",
        "          else: #too low similarity. do not map.\n",
        "            x[idup[imax]] = -1\n",
        "            sims[imax,:] = -1\n",
        "    return x\n",
        "  dir1to2 = remove_duplicates(dir1to2)\n",
        "  predicted = dir1to2.copy()\n",
        "\n",
        "  #Ensure no duplicates\n",
        "  assert len(np.unique(predicted[predicted>=0])) == np.sum(predicted>=0), 'Failed to remove conflicts'\n",
        "\n",
        "  # Concatenate to get results\n",
        "  df2_sorted=df2.iloc[predicted[predicted>=0],:].reset_index(drop=True)\n",
        "  df1_filtered=df1[predicted>=0].reset_index(drop=True)\n",
        "  results = pd.concat([ df1_filtered, df2_sorted], axis=1)\n",
        "\n",
        "  #Validate in test mode, when GT is known\n",
        "  if MODE=='test':\n",
        "    results_keys_gt = data['examples'] \n",
        "    merged_with_gt = results_keys_gt.merge(results, on='p1.key', how='left', suffixes=('_gt', '_pred')) \n",
        "    kk = (merged_with_gt['p2.key_gt'] == merged_with_gt['p2.key_pred'])\n",
        "    print(f\"Accuracy: {100*sum(kk) / len(kk):.1f}%\")\n",
        "    print(\"Number of errors: \", sum(~kk))\n",
        "    wrong_indexes = merged_with_gt.index[~kk].tolist()\n",
        "  else:\n",
        "    wrong_indexes = None\n",
        "  return predicted, results, wrong_indexes"
      ]
    },
    {
      "cell_type": "markdown",
      "metadata": {
        "id": "YrtI_wkgNwA8"
      },
      "source": [
        "Execute:"
      ]
    },
    {
      "cell_type": "code",
      "execution_count": 242,
      "metadata": {
        "colab": {
          "base_uri": "https://localhost:8080/"
        },
        "id": "31agLI4UNvYa",
        "outputId": "7528e6bc-9a8f-4b30-83e3-e6110ade93da"
      },
      "outputs": [
        {
          "name": "stdout",
          "output_type": "stream",
          "text": [
            "Accuracy: 99.0%\n",
            "Number of errors:  5\n"
          ]
        }
      ],
      "source": [
        "predicted, df_results, errors = predict3(pw)"
      ]
    },
    {
      "cell_type": "markdown",
      "metadata": {
        "id": "vqYEq0N1qpWx"
      },
      "source": [
        "The known errors (in test mode only obviously):"
      ]
    },
    {
      "cell_type": "code",
      "execution_count": 243,
      "metadata": {
        "colab": {
          "base_uri": "https://localhost:8080/"
        },
        "id": "kSs1MSG2olOq",
        "outputId": "6c488b74-a89e-404d-f534-1350188eb32b"
      },
      "outputs": [
        {
          "name": "stdout",
          "output_type": "stream",
          "text": [
            "[-1 -1 23 -1 -1]\n"
          ]
        }
      ],
      "source": [
        "if MODE=='test':\n",
        "  print(predicted[errors])"
      ]
    },
    {
      "cell_type": "markdown",
      "metadata": {
        "id": "jW8QHNNQOIkK"
      },
      "source": [
        "We see how many hotels have not been classified:"
      ]
    },
    {
      "cell_type": "code",
      "execution_count": 244,
      "metadata": {
        "colab": {
          "base_uri": "https://localhost:8080/"
        },
        "id": "Qx5tKv5RONDy",
        "outputId": "33301ad7-a94e-4bd6-9c27-5ce19b59fc88"
      },
      "outputs": [
        {
          "name": "stdout",
          "output_type": "stream",
          "text": [
            "10\n",
            "2.0%\n"
          ]
        }
      ],
      "source": [
        "print(f\"{sum(predicted<0)}\")\n",
        "print(f\"{100*sum(predicted<0)/len(predicted):.1f}%\")"
      ]
    },
    {
      "cell_type": "markdown",
      "metadata": {
        "id": "EPCKKjsLOj-z"
      },
      "source": [
        "And finally we save the results:"
      ]
    },
    {
      "cell_type": "code",
      "execution_count": 245,
      "metadata": {
        "id": "_KwTyOTMOmgC"
      },
      "outputs": [],
      "source": [
        "if MODE=='real':\n",
        "  df_results[['p1.key', 'p2.key']].dropna().to_csv('mappings.csv', index=False)\n",
        "  df_results.to_csv('mappings_full.csv', index=False)"
      ]
    }
  ],
  "metadata": {
    "colab": {
      "collapsed_sections": [],
      "name": "AgodaMappingChallenge.ipynb",
      "provenance": []
    },
    "kernelspec": {
      "display_name": "Python 3",
      "name": "python3"
    },
    "language_info": {
      "name": "python"
    }
  },
  "nbformat": 4,
  "nbformat_minor": 0
}
